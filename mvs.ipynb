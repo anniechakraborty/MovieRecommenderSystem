{
 "cells": [
  {
   "cell_type": "code",
   "execution_count": 18,
   "id": "28d5cd5a",
   "metadata": {},
   "outputs": [],
   "source": [
    "import pandas as pd\n",
    "import numpy as np\n",
    "import ast"
   ]
  },
  {
   "cell_type": "markdown",
   "id": "5131a652",
   "metadata": {},
   "source": [
    "## Loading Dataset"
   ]
  },
  {
   "cell_type": "code",
   "execution_count": 19,
   "id": "d4bdf118",
   "metadata": {},
   "outputs": [],
   "source": [
    "movies = pd.read_csv('dataset/tmdb_5000_movies.csv')\n",
    "credits = pd.read_csv('dataset/tmdb_5000_credits.csv')"
   ]
  },
  {
   "cell_type": "code",
   "execution_count": 20,
   "id": "9c222e53",
   "metadata": {},
   "outputs": [
    {
     "data": {
      "text/html": [
       "<div>\n",
       "<style scoped>\n",
       "    .dataframe tbody tr th:only-of-type {\n",
       "        vertical-align: middle;\n",
       "    }\n",
       "\n",
       "    .dataframe tbody tr th {\n",
       "        vertical-align: top;\n",
       "    }\n",
       "\n",
       "    .dataframe thead th {\n",
       "        text-align: right;\n",
       "    }\n",
       "</style>\n",
       "<table border=\"1\" class=\"dataframe\">\n",
       "  <thead>\n",
       "    <tr style=\"text-align: right;\">\n",
       "      <th></th>\n",
       "      <th>budget</th>\n",
       "      <th>genres</th>\n",
       "      <th>homepage</th>\n",
       "      <th>id</th>\n",
       "      <th>keywords</th>\n",
       "      <th>original_language</th>\n",
       "      <th>original_title</th>\n",
       "      <th>overview</th>\n",
       "      <th>popularity</th>\n",
       "      <th>production_companies</th>\n",
       "      <th>production_countries</th>\n",
       "      <th>release_date</th>\n",
       "      <th>revenue</th>\n",
       "      <th>runtime</th>\n",
       "      <th>spoken_languages</th>\n",
       "      <th>status</th>\n",
       "      <th>tagline</th>\n",
       "      <th>title</th>\n",
       "      <th>vote_average</th>\n",
       "      <th>vote_count</th>\n",
       "    </tr>\n",
       "  </thead>\n",
       "  <tbody>\n",
       "    <tr>\n",
       "      <th>0</th>\n",
       "      <td>237000000</td>\n",
       "      <td>[{\"id\": 28, \"name\": \"Action\"}, {\"id\": 12, \"nam...</td>\n",
       "      <td>http://www.avatarmovie.com/</td>\n",
       "      <td>19995</td>\n",
       "      <td>[{\"id\": 1463, \"name\": \"culture clash\"}, {\"id\":...</td>\n",
       "      <td>en</td>\n",
       "      <td>Avatar</td>\n",
       "      <td>In the 22nd century, a paraplegic Marine is di...</td>\n",
       "      <td>150.437577</td>\n",
       "      <td>[{\"name\": \"Ingenious Film Partners\", \"id\": 289...</td>\n",
       "      <td>[{\"iso_3166_1\": \"US\", \"name\": \"United States o...</td>\n",
       "      <td>2009-12-10</td>\n",
       "      <td>2787965087</td>\n",
       "      <td>162.0</td>\n",
       "      <td>[{\"iso_639_1\": \"en\", \"name\": \"English\"}, {\"iso...</td>\n",
       "      <td>Released</td>\n",
       "      <td>Enter the World of Pandora.</td>\n",
       "      <td>Avatar</td>\n",
       "      <td>7.2</td>\n",
       "      <td>11800</td>\n",
       "    </tr>\n",
       "  </tbody>\n",
       "</table>\n",
       "</div>"
      ],
      "text/plain": [
       "      budget                                             genres  \\\n",
       "0  237000000  [{\"id\": 28, \"name\": \"Action\"}, {\"id\": 12, \"nam...   \n",
       "\n",
       "                      homepage     id  \\\n",
       "0  http://www.avatarmovie.com/  19995   \n",
       "\n",
       "                                            keywords original_language  \\\n",
       "0  [{\"id\": 1463, \"name\": \"culture clash\"}, {\"id\":...                en   \n",
       "\n",
       "  original_title                                           overview  \\\n",
       "0         Avatar  In the 22nd century, a paraplegic Marine is di...   \n",
       "\n",
       "   popularity                               production_companies  \\\n",
       "0  150.437577  [{\"name\": \"Ingenious Film Partners\", \"id\": 289...   \n",
       "\n",
       "                                production_countries release_date     revenue  \\\n",
       "0  [{\"iso_3166_1\": \"US\", \"name\": \"United States o...   2009-12-10  2787965087   \n",
       "\n",
       "   runtime                                   spoken_languages    status  \\\n",
       "0    162.0  [{\"iso_639_1\": \"en\", \"name\": \"English\"}, {\"iso...  Released   \n",
       "\n",
       "                       tagline   title  vote_average  vote_count  \n",
       "0  Enter the World of Pandora.  Avatar           7.2       11800  "
      ]
     },
     "execution_count": 20,
     "metadata": {},
     "output_type": "execute_result"
    }
   ],
   "source": [
    "# First row from the movies dataframe\n",
    "movies.head(1)"
   ]
  },
  {
   "cell_type": "code",
   "execution_count": 21,
   "id": "e8866f80",
   "metadata": {},
   "outputs": [
    {
     "data": {
      "text/html": [
       "<div>\n",
       "<style scoped>\n",
       "    .dataframe tbody tr th:only-of-type {\n",
       "        vertical-align: middle;\n",
       "    }\n",
       "\n",
       "    .dataframe tbody tr th {\n",
       "        vertical-align: top;\n",
       "    }\n",
       "\n",
       "    .dataframe thead th {\n",
       "        text-align: right;\n",
       "    }\n",
       "</style>\n",
       "<table border=\"1\" class=\"dataframe\">\n",
       "  <thead>\n",
       "    <tr style=\"text-align: right;\">\n",
       "      <th></th>\n",
       "      <th>movie_id</th>\n",
       "      <th>title</th>\n",
       "      <th>cast</th>\n",
       "      <th>crew</th>\n",
       "    </tr>\n",
       "  </thead>\n",
       "  <tbody>\n",
       "    <tr>\n",
       "      <th>0</th>\n",
       "      <td>19995</td>\n",
       "      <td>Avatar</td>\n",
       "      <td>[{\"cast_id\": 242, \"character\": \"Jake Sully\", \"...</td>\n",
       "      <td>[{\"credit_id\": \"52fe48009251416c750aca23\", \"de...</td>\n",
       "    </tr>\n",
       "  </tbody>\n",
       "</table>\n",
       "</div>"
      ],
      "text/plain": [
       "   movie_id   title                                               cast  \\\n",
       "0     19995  Avatar  [{\"cast_id\": 242, \"character\": \"Jake Sully\", \"...   \n",
       "\n",
       "                                                crew  \n",
       "0  [{\"credit_id\": \"52fe48009251416c750aca23\", \"de...  "
      ]
     },
     "execution_count": 21,
     "metadata": {},
     "output_type": "execute_result"
    }
   ],
   "source": [
    "# First row\n",
    "credits.head(1)"
   ]
  },
  {
   "cell_type": "code",
   "execution_count": 22,
   "id": "a72176f0",
   "metadata": {},
   "outputs": [
    {
     "data": {
      "text/plain": [
       "(4809, 23)"
      ]
     },
     "execution_count": 22,
     "metadata": {},
     "output_type": "execute_result"
    }
   ],
   "source": [
    "# Merging the datasets based on the title column (why not id? - probably because column names are different)\n",
    "movies = movies.merge(credits, on='title')\n",
    "movies.shape"
   ]
  },
  {
   "cell_type": "code",
   "execution_count": 23,
   "id": "c3f56582",
   "metadata": {},
   "outputs": [
    {
     "name": "stdout",
     "output_type": "stream",
     "text": [
      "<class 'pandas.core.frame.DataFrame'>\n",
      "RangeIndex: 4809 entries, 0 to 4808\n",
      "Data columns (total 23 columns):\n",
      " #   Column                Non-Null Count  Dtype  \n",
      "---  ------                --------------  -----  \n",
      " 0   budget                4809 non-null   int64  \n",
      " 1   genres                4809 non-null   object \n",
      " 2   homepage              1713 non-null   object \n",
      " 3   id                    4809 non-null   int64  \n",
      " 4   keywords              4809 non-null   object \n",
      " 5   original_language     4809 non-null   object \n",
      " 6   original_title        4809 non-null   object \n",
      " 7   overview              4806 non-null   object \n",
      " 8   popularity            4809 non-null   float64\n",
      " 9   production_companies  4809 non-null   object \n",
      " 10  production_countries  4809 non-null   object \n",
      " 11  release_date          4808 non-null   object \n",
      " 12  revenue               4809 non-null   int64  \n",
      " 13  runtime               4807 non-null   float64\n",
      " 14  spoken_languages      4809 non-null   object \n",
      " 15  status                4809 non-null   object \n",
      " 16  tagline               3965 non-null   object \n",
      " 17  title                 4809 non-null   object \n",
      " 18  vote_average          4809 non-null   float64\n",
      " 19  vote_count            4809 non-null   int64  \n",
      " 20  movie_id              4809 non-null   int64  \n",
      " 21  cast                  4809 non-null   object \n",
      " 22  crew                  4809 non-null   object \n",
      "dtypes: float64(3), int64(5), object(15)\n",
      "memory usage: 864.2+ KB\n"
     ]
    }
   ],
   "source": [
    "movies.info()"
   ]
  },
  {
   "cell_type": "code",
   "execution_count": 24,
   "id": "a905354a",
   "metadata": {},
   "outputs": [
    {
     "name": "stdout",
     "output_type": "stream",
     "text": [
      "original_language\n",
      "en    4510\n",
      "fr      70\n",
      "es      32\n",
      "zh      27\n",
      "de      27\n",
      "hi      19\n",
      "ja      16\n",
      "it      14\n",
      "ko      12\n",
      "cn      12\n",
      "ru      11\n",
      "pt       9\n",
      "da       7\n",
      "sv       5\n",
      "nl       4\n",
      "fa       4\n",
      "th       3\n",
      "he       3\n",
      "id       2\n",
      "cs       2\n",
      "ta       2\n",
      "ro       2\n",
      "ar       2\n",
      "te       1\n",
      "hu       1\n",
      "xx       1\n",
      "af       1\n",
      "is       1\n",
      "tr       1\n",
      "vi       1\n",
      "pl       1\n",
      "nb       1\n",
      "ky       1\n",
      "no       1\n",
      "sl       1\n",
      "ps       1\n",
      "el       1\n",
      "Name: count, dtype: int64\n",
      "\n",
      "37\n"
     ]
    }
   ],
   "source": [
    "# Language distribution of movies\n",
    "print(movies['original_language'].value_counts())\n",
    "print()\n",
    "\n",
    "# Unique languages present\n",
    "number_of_languages = movies['original_language'].nunique()\n",
    "print(number_of_languages)"
   ]
  },
  {
   "cell_type": "markdown",
   "id": "4b03c906",
   "metadata": {},
   "source": [
    "## Data Cleaning and Preprocessing\n",
    "We filter out unnecessary columns which won't help us in creating tags necessary for the content-based recommender system. Our goal is to keep the column data which we can use later for creating content-based tags to describe the movies for our model.\n",
    "\n",
    "Columns kept:\n",
    "- genres (useful for content similiarity)\n",
    "- id (getting details, posters etc. for website creation)\n",
    "- keywords (list of keywords describing the movie)\n",
    "- title (keeping this instead of `original_title` as ~95% movies are in English, so there will be a consistent English title for each movie)\n",
    "- overview (clearly shows content description)\n",
    "- cast (movies with similar actors)\n",
    "- crew (movies with the same directors)\n"
   ]
  },
  {
   "cell_type": "code",
   "execution_count": 25,
   "id": "ee07708d",
   "metadata": {},
   "outputs": [
    {
     "data": {
      "text/html": [
       "<div>\n",
       "<style scoped>\n",
       "    .dataframe tbody tr th:only-of-type {\n",
       "        vertical-align: middle;\n",
       "    }\n",
       "\n",
       "    .dataframe tbody tr th {\n",
       "        vertical-align: top;\n",
       "    }\n",
       "\n",
       "    .dataframe thead th {\n",
       "        text-align: right;\n",
       "    }\n",
       "</style>\n",
       "<table border=\"1\" class=\"dataframe\">\n",
       "  <thead>\n",
       "    <tr style=\"text-align: right;\">\n",
       "      <th></th>\n",
       "      <th>id</th>\n",
       "      <th>genres</th>\n",
       "      <th>keywords</th>\n",
       "      <th>title</th>\n",
       "      <th>overview</th>\n",
       "      <th>cast</th>\n",
       "      <th>crew</th>\n",
       "    </tr>\n",
       "  </thead>\n",
       "  <tbody>\n",
       "    <tr>\n",
       "      <th>0</th>\n",
       "      <td>19995</td>\n",
       "      <td>[{\"id\": 28, \"name\": \"Action\"}, {\"id\": 12, \"nam...</td>\n",
       "      <td>[{\"id\": 1463, \"name\": \"culture clash\"}, {\"id\":...</td>\n",
       "      <td>Avatar</td>\n",
       "      <td>In the 22nd century, a paraplegic Marine is di...</td>\n",
       "      <td>[{\"cast_id\": 242, \"character\": \"Jake Sully\", \"...</td>\n",
       "      <td>[{\"credit_id\": \"52fe48009251416c750aca23\", \"de...</td>\n",
       "    </tr>\n",
       "    <tr>\n",
       "      <th>1</th>\n",
       "      <td>285</td>\n",
       "      <td>[{\"id\": 12, \"name\": \"Adventure\"}, {\"id\": 14, \"...</td>\n",
       "      <td>[{\"id\": 270, \"name\": \"ocean\"}, {\"id\": 726, \"na...</td>\n",
       "      <td>Pirates of the Caribbean: At World's End</td>\n",
       "      <td>Captain Barbossa, long believed to be dead, ha...</td>\n",
       "      <td>[{\"cast_id\": 4, \"character\": \"Captain Jack Spa...</td>\n",
       "      <td>[{\"credit_id\": \"52fe4232c3a36847f800b579\", \"de...</td>\n",
       "    </tr>\n",
       "    <tr>\n",
       "      <th>2</th>\n",
       "      <td>206647</td>\n",
       "      <td>[{\"id\": 28, \"name\": \"Action\"}, {\"id\": 12, \"nam...</td>\n",
       "      <td>[{\"id\": 470, \"name\": \"spy\"}, {\"id\": 818, \"name...</td>\n",
       "      <td>Spectre</td>\n",
       "      <td>A cryptic message from Bond’s past sends him o...</td>\n",
       "      <td>[{\"cast_id\": 1, \"character\": \"James Bond\", \"cr...</td>\n",
       "      <td>[{\"credit_id\": \"54805967c3a36829b5002c41\", \"de...</td>\n",
       "    </tr>\n",
       "    <tr>\n",
       "      <th>3</th>\n",
       "      <td>49026</td>\n",
       "      <td>[{\"id\": 28, \"name\": \"Action\"}, {\"id\": 80, \"nam...</td>\n",
       "      <td>[{\"id\": 849, \"name\": \"dc comics\"}, {\"id\": 853,...</td>\n",
       "      <td>The Dark Knight Rises</td>\n",
       "      <td>Following the death of District Attorney Harve...</td>\n",
       "      <td>[{\"cast_id\": 2, \"character\": \"Bruce Wayne / Ba...</td>\n",
       "      <td>[{\"credit_id\": \"52fe4781c3a36847f81398c3\", \"de...</td>\n",
       "    </tr>\n",
       "    <tr>\n",
       "      <th>4</th>\n",
       "      <td>49529</td>\n",
       "      <td>[{\"id\": 28, \"name\": \"Action\"}, {\"id\": 12, \"nam...</td>\n",
       "      <td>[{\"id\": 818, \"name\": \"based on novel\"}, {\"id\":...</td>\n",
       "      <td>John Carter</td>\n",
       "      <td>John Carter is a war-weary, former military ca...</td>\n",
       "      <td>[{\"cast_id\": 5, \"character\": \"John Carter\", \"c...</td>\n",
       "      <td>[{\"credit_id\": \"52fe479ac3a36847f813eaa3\", \"de...</td>\n",
       "    </tr>\n",
       "  </tbody>\n",
       "</table>\n",
       "</div>"
      ],
      "text/plain": [
       "       id                                             genres  \\\n",
       "0   19995  [{\"id\": 28, \"name\": \"Action\"}, {\"id\": 12, \"nam...   \n",
       "1     285  [{\"id\": 12, \"name\": \"Adventure\"}, {\"id\": 14, \"...   \n",
       "2  206647  [{\"id\": 28, \"name\": \"Action\"}, {\"id\": 12, \"nam...   \n",
       "3   49026  [{\"id\": 28, \"name\": \"Action\"}, {\"id\": 80, \"nam...   \n",
       "4   49529  [{\"id\": 28, \"name\": \"Action\"}, {\"id\": 12, \"nam...   \n",
       "\n",
       "                                            keywords  \\\n",
       "0  [{\"id\": 1463, \"name\": \"culture clash\"}, {\"id\":...   \n",
       "1  [{\"id\": 270, \"name\": \"ocean\"}, {\"id\": 726, \"na...   \n",
       "2  [{\"id\": 470, \"name\": \"spy\"}, {\"id\": 818, \"name...   \n",
       "3  [{\"id\": 849, \"name\": \"dc comics\"}, {\"id\": 853,...   \n",
       "4  [{\"id\": 818, \"name\": \"based on novel\"}, {\"id\":...   \n",
       "\n",
       "                                      title  \\\n",
       "0                                    Avatar   \n",
       "1  Pirates of the Caribbean: At World's End   \n",
       "2                                   Spectre   \n",
       "3                     The Dark Knight Rises   \n",
       "4                               John Carter   \n",
       "\n",
       "                                            overview  \\\n",
       "0  In the 22nd century, a paraplegic Marine is di...   \n",
       "1  Captain Barbossa, long believed to be dead, ha...   \n",
       "2  A cryptic message from Bond’s past sends him o...   \n",
       "3  Following the death of District Attorney Harve...   \n",
       "4  John Carter is a war-weary, former military ca...   \n",
       "\n",
       "                                                cast  \\\n",
       "0  [{\"cast_id\": 242, \"character\": \"Jake Sully\", \"...   \n",
       "1  [{\"cast_id\": 4, \"character\": \"Captain Jack Spa...   \n",
       "2  [{\"cast_id\": 1, \"character\": \"James Bond\", \"cr...   \n",
       "3  [{\"cast_id\": 2, \"character\": \"Bruce Wayne / Ba...   \n",
       "4  [{\"cast_id\": 5, \"character\": \"John Carter\", \"c...   \n",
       "\n",
       "                                                crew  \n",
       "0  [{\"credit_id\": \"52fe48009251416c750aca23\", \"de...  \n",
       "1  [{\"credit_id\": \"52fe4232c3a36847f800b579\", \"de...  \n",
       "2  [{\"credit_id\": \"54805967c3a36829b5002c41\", \"de...  \n",
       "3  [{\"credit_id\": \"52fe4781c3a36847f81398c3\", \"de...  \n",
       "4  [{\"credit_id\": \"52fe479ac3a36847f813eaa3\", \"de...  "
      ]
     },
     "execution_count": 25,
     "metadata": {},
     "output_type": "execute_result"
    }
   ],
   "source": [
    "movies_cleaned = movies[['id', 'genres', 'keywords', 'title', 'overview', 'cast', 'crew']]\n",
    "movies_cleaned.head()"
   ]
  },
  {
   "cell_type": "code",
   "execution_count": 26,
   "id": "2423562f",
   "metadata": {},
   "outputs": [
    {
     "data": {
      "text/plain": [
       "id          0\n",
       "genres      0\n",
       "keywords    0\n",
       "title       0\n",
       "overview    3\n",
       "cast        0\n",
       "crew        0\n",
       "dtype: int64"
      ]
     },
     "execution_count": 26,
     "metadata": {},
     "output_type": "execute_result"
    }
   ],
   "source": [
    "# Counting number of NULL VALUES\n",
    "movies_cleaned.isnull().sum()\n",
    "# shows overview field has 3 null values"
   ]
  },
  {
   "cell_type": "code",
   "execution_count": 27,
   "id": "d67ac88f",
   "metadata": {},
   "outputs": [
    {
     "name": "stderr",
     "output_type": "stream",
     "text": [
      "C:\\Users\\chakr\\AppData\\Local\\Temp\\ipykernel_30724\\2995411098.py:3: SettingWithCopyWarning: \n",
      "A value is trying to be set on a copy of a slice from a DataFrame\n",
      "\n",
      "See the caveats in the documentation: https://pandas.pydata.org/pandas-docs/stable/user_guide/indexing.html#returning-a-view-versus-a-copy\n",
      "  movies_cleaned.dropna(inplace=True) # Modifies the DF directly by dropping rows with null values in any of the columns\n"
     ]
    }
   ],
   "source": [
    "# movies_cleaned = movies_cleaned.fillna('')\n",
    "\n",
    "movies_cleaned.dropna(inplace=True) # Modifies the DF directly by dropping rows with null values in any of the columns\n",
    "# movies_cleaned.isnull().sum()"
   ]
  },
  {
   "cell_type": "code",
   "execution_count": 28,
   "id": "d2542b5b",
   "metadata": {},
   "outputs": [
    {
     "data": {
      "text/plain": [
       "np.int64(0)"
      ]
     },
     "execution_count": 28,
     "metadata": {},
     "output_type": "execute_result"
    }
   ],
   "source": [
    "# Counting number of DUPLICATED VALUES\n",
    "movies_cleaned.duplicated().sum()"
   ]
  },
  {
   "cell_type": "code",
   "execution_count": 29,
   "id": "55267639",
   "metadata": {},
   "outputs": [],
   "source": [
    "# helper function to get the names from lists object\n",
    "def extract_genres_keywords(obj):\n",
    "    list_of_names = []\n",
    "    for i in ast.literal_eval(obj):\n",
    "        list_of_names.append(i['name'])\n",
    "    return list_of_names\n",
    "\n",
    "def extract_cast(obj):\n",
    "    list_of_names = []\n",
    "    for i in ast.literal_eval(obj):\n",
    "        list_of_names.append(i['name'])\n",
    "        if len(list_of_names) >= 5:\n",
    "            break\n",
    "    return list_of_names"
   ]
  },
  {
   "cell_type": "code",
   "execution_count": 30,
   "id": "0fde58eb",
   "metadata": {},
   "outputs": [
    {
     "name": "stderr",
     "output_type": "stream",
     "text": [
      "C:\\Users\\chakr\\AppData\\Local\\Temp\\ipykernel_30724\\1683563810.py:5: SettingWithCopyWarning: \n",
      "A value is trying to be set on a copy of a slice from a DataFrame.\n",
      "Try using .loc[row_indexer,col_indexer] = value instead\n",
      "\n",
      "See the caveats in the documentation: https://pandas.pydata.org/pandas-docs/stable/user_guide/indexing.html#returning-a-view-versus-a-copy\n",
      "  movies_cleaned['genres'] = movies_cleaned['genres'].apply(extract_genres_keywords)\n",
      "C:\\Users\\chakr\\AppData\\Local\\Temp\\ipykernel_30724\\1683563810.py:9: SettingWithCopyWarning: \n",
      "A value is trying to be set on a copy of a slice from a DataFrame.\n",
      "Try using .loc[row_indexer,col_indexer] = value instead\n",
      "\n",
      "See the caveats in the documentation: https://pandas.pydata.org/pandas-docs/stable/user_guide/indexing.html#returning-a-view-versus-a-copy\n",
      "  movies_cleaned['keywords'] = movies_cleaned['keywords'].apply(extract_genres_keywords)\n"
     ]
    }
   ],
   "source": [
    "# Cleaning the genres column\n",
    "# movies_cleaned.iloc[0] --- returns the first row in the dataframe\n",
    "\n",
    "movies_cleaned.iloc[0].genres # list of dictionaries from which we extract the values of the names into a list for data preprocessing\n",
    "movies_cleaned['genres'] = movies_cleaned['genres'].apply(extract_genres_keywords)\n",
    "\n",
    "# Cleaning the keywords column\n",
    "movies_cleaned.iloc[0].keywords\n",
    "movies_cleaned['keywords'] = movies_cleaned['keywords'].apply(extract_genres_keywords)"
   ]
  },
  {
   "cell_type": "code",
   "execution_count": 31,
   "id": "0719513c",
   "metadata": {},
   "outputs": [
    {
     "name": "stderr",
     "output_type": "stream",
     "text": [
      "C:\\Users\\chakr\\AppData\\Local\\Temp\\ipykernel_30724\\1116963203.py:2: SettingWithCopyWarning: \n",
      "A value is trying to be set on a copy of a slice from a DataFrame.\n",
      "Try using .loc[row_indexer,col_indexer] = value instead\n",
      "\n",
      "See the caveats in the documentation: https://pandas.pydata.org/pandas-docs/stable/user_guide/indexing.html#returning-a-view-versus-a-copy\n",
      "  movies_cleaned['cast'] = movies_cleaned['cast'].apply(extract_cast)\n"
     ]
    },
    {
     "data": {
      "text/plain": [
       "['Sam Worthington',\n",
       " 'Zoe Saldana',\n",
       " 'Sigourney Weaver',\n",
       " 'Stephen Lang',\n",
       " 'Michelle Rodriguez']"
      ]
     },
     "execution_count": 31,
     "metadata": {},
     "output_type": "execute_result"
    }
   ],
   "source": [
    "# Extracting the names of the top 5 actors from the cast column\n",
    "movies_cleaned['cast'] = movies_cleaned['cast'].apply(extract_cast)\n",
    "movies_cleaned.iloc[0].cast"
   ]
  },
  {
   "cell_type": "code",
   "execution_count": 32,
   "id": "569b6598",
   "metadata": {},
   "outputs": [
    {
     "name": "stderr",
     "output_type": "stream",
     "text": [
      "C:\\Users\\chakr\\AppData\\Local\\Temp\\ipykernel_30724\\1122036069.py:9: SettingWithCopyWarning: \n",
      "A value is trying to be set on a copy of a slice from a DataFrame.\n",
      "Try using .loc[row_indexer,col_indexer] = value instead\n",
      "\n",
      "See the caveats in the documentation: https://pandas.pydata.org/pandas-docs/stable/user_guide/indexing.html#returning-a-view-versus-a-copy\n",
      "  movies_cleaned['crew'] = movies_cleaned['crew'].apply(get_director_name)\n"
     ]
    },
    {
     "data": {
      "text/plain": [
       "['James Cameron']"
      ]
     },
     "execution_count": 32,
     "metadata": {},
     "output_type": "execute_result"
    }
   ],
   "source": [
    "def get_director_name(obj):\n",
    "    director = []\n",
    "    obj = ast.literal_eval(obj)\n",
    "    for i in obj:\n",
    "        if i['job'] == 'Director':\n",
    "            director.append(i['name'])\n",
    "            return director\n",
    "\n",
    "movies_cleaned['crew'] = movies_cleaned['crew'].apply(get_director_name)\n",
    "movies_cleaned.iloc[0].crew\n"
   ]
  },
  {
   "cell_type": "code",
   "execution_count": 33,
   "id": "24576259",
   "metadata": {},
   "outputs": [
    {
     "data": {
      "text/html": [
       "<div>\n",
       "<style scoped>\n",
       "    .dataframe tbody tr th:only-of-type {\n",
       "        vertical-align: middle;\n",
       "    }\n",
       "\n",
       "    .dataframe tbody tr th {\n",
       "        vertical-align: top;\n",
       "    }\n",
       "\n",
       "    .dataframe thead th {\n",
       "        text-align: right;\n",
       "    }\n",
       "</style>\n",
       "<table border=\"1\" class=\"dataframe\">\n",
       "  <thead>\n",
       "    <tr style=\"text-align: right;\">\n",
       "      <th></th>\n",
       "      <th>id</th>\n",
       "      <th>genres</th>\n",
       "      <th>keywords</th>\n",
       "      <th>title</th>\n",
       "      <th>overview</th>\n",
       "      <th>cast</th>\n",
       "      <th>crew</th>\n",
       "    </tr>\n",
       "  </thead>\n",
       "  <tbody>\n",
       "    <tr>\n",
       "      <th>0</th>\n",
       "      <td>19995</td>\n",
       "      <td>[Action, Adventure, Fantasy, Science Fiction]</td>\n",
       "      <td>[culture clash, future, space war, space colon...</td>\n",
       "      <td>Avatar</td>\n",
       "      <td>In the 22nd century, a paraplegic Marine is di...</td>\n",
       "      <td>[Sam Worthington, Zoe Saldana, Sigourney Weave...</td>\n",
       "      <td>[James Cameron]</td>\n",
       "    </tr>\n",
       "    <tr>\n",
       "      <th>1</th>\n",
       "      <td>285</td>\n",
       "      <td>[Adventure, Fantasy, Action]</td>\n",
       "      <td>[ocean, drug abuse, exotic island, east india ...</td>\n",
       "      <td>Pirates of the Caribbean: At World's End</td>\n",
       "      <td>Captain Barbossa, long believed to be dead, ha...</td>\n",
       "      <td>[Johnny Depp, Orlando Bloom, Keira Knightley, ...</td>\n",
       "      <td>[Gore Verbinski]</td>\n",
       "    </tr>\n",
       "    <tr>\n",
       "      <th>2</th>\n",
       "      <td>206647</td>\n",
       "      <td>[Action, Adventure, Crime]</td>\n",
       "      <td>[spy, based on novel, secret agent, sequel, mi...</td>\n",
       "      <td>Spectre</td>\n",
       "      <td>A cryptic message from Bond’s past sends him o...</td>\n",
       "      <td>[Daniel Craig, Christoph Waltz, Léa Seydoux, R...</td>\n",
       "      <td>[Sam Mendes]</td>\n",
       "    </tr>\n",
       "    <tr>\n",
       "      <th>3</th>\n",
       "      <td>49026</td>\n",
       "      <td>[Action, Crime, Drama, Thriller]</td>\n",
       "      <td>[dc comics, crime fighter, terrorist, secret i...</td>\n",
       "      <td>The Dark Knight Rises</td>\n",
       "      <td>Following the death of District Attorney Harve...</td>\n",
       "      <td>[Christian Bale, Michael Caine, Gary Oldman, A...</td>\n",
       "      <td>[Christopher Nolan]</td>\n",
       "    </tr>\n",
       "    <tr>\n",
       "      <th>4</th>\n",
       "      <td>49529</td>\n",
       "      <td>[Action, Adventure, Science Fiction]</td>\n",
       "      <td>[based on novel, mars, medallion, space travel...</td>\n",
       "      <td>John Carter</td>\n",
       "      <td>John Carter is a war-weary, former military ca...</td>\n",
       "      <td>[Taylor Kitsch, Lynn Collins, Samantha Morton,...</td>\n",
       "      <td>[Andrew Stanton]</td>\n",
       "    </tr>\n",
       "  </tbody>\n",
       "</table>\n",
       "</div>"
      ],
      "text/plain": [
       "       id                                         genres  \\\n",
       "0   19995  [Action, Adventure, Fantasy, Science Fiction]   \n",
       "1     285                   [Adventure, Fantasy, Action]   \n",
       "2  206647                     [Action, Adventure, Crime]   \n",
       "3   49026               [Action, Crime, Drama, Thriller]   \n",
       "4   49529           [Action, Adventure, Science Fiction]   \n",
       "\n",
       "                                            keywords  \\\n",
       "0  [culture clash, future, space war, space colon...   \n",
       "1  [ocean, drug abuse, exotic island, east india ...   \n",
       "2  [spy, based on novel, secret agent, sequel, mi...   \n",
       "3  [dc comics, crime fighter, terrorist, secret i...   \n",
       "4  [based on novel, mars, medallion, space travel...   \n",
       "\n",
       "                                      title  \\\n",
       "0                                    Avatar   \n",
       "1  Pirates of the Caribbean: At World's End   \n",
       "2                                   Spectre   \n",
       "3                     The Dark Knight Rises   \n",
       "4                               John Carter   \n",
       "\n",
       "                                            overview  \\\n",
       "0  In the 22nd century, a paraplegic Marine is di...   \n",
       "1  Captain Barbossa, long believed to be dead, ha...   \n",
       "2  A cryptic message from Bond’s past sends him o...   \n",
       "3  Following the death of District Attorney Harve...   \n",
       "4  John Carter is a war-weary, former military ca...   \n",
       "\n",
       "                                                cast                 crew  \n",
       "0  [Sam Worthington, Zoe Saldana, Sigourney Weave...      [James Cameron]  \n",
       "1  [Johnny Depp, Orlando Bloom, Keira Knightley, ...     [Gore Verbinski]  \n",
       "2  [Daniel Craig, Christoph Waltz, Léa Seydoux, R...         [Sam Mendes]  \n",
       "3  [Christian Bale, Michael Caine, Gary Oldman, A...  [Christopher Nolan]  \n",
       "4  [Taylor Kitsch, Lynn Collins, Samantha Morton,...     [Andrew Stanton]  "
      ]
     },
     "execution_count": 33,
     "metadata": {},
     "output_type": "execute_result"
    }
   ],
   "source": [
    "movies_cleaned.head()"
   ]
  },
  {
   "cell_type": "markdown",
   "id": "05b9e26b",
   "metadata": {},
   "source": [
    "### Data Preprocessing\n",
    "We create a new dataframe using `movies_cleaned` with three columns : `id`, `title`, `tags`. The tags column is created by combining information from `overview`, selecting the names from `genres` and `keywords`, picking the names of the top 5 actors in `cast` and the director name from the `crew`. The whole text paragraph with these details is stored in the `tags` coulmn."
   ]
  },
  {
   "cell_type": "code",
   "execution_count": 34,
   "id": "cb98418c",
   "metadata": {},
   "outputs": [
    {
     "name": "stderr",
     "output_type": "stream",
     "text": [
      "C:\\Users\\chakr\\AppData\\Local\\Temp\\ipykernel_30724\\4263700016.py:3: SettingWithCopyWarning: \n",
      "A value is trying to be set on a copy of a slice from a DataFrame.\n",
      "Try using .loc[row_indexer,col_indexer] = value instead\n",
      "\n",
      "See the caveats in the documentation: https://pandas.pydata.org/pandas-docs/stable/user_guide/indexing.html#returning-a-view-versus-a-copy\n",
      "  movies_cleaned['genres'] = movies_cleaned['genres'].apply(lambda x:[i.replace(\" \", \"\") for i in x])\n",
      "C:\\Users\\chakr\\AppData\\Local\\Temp\\ipykernel_30724\\4263700016.py:4: SettingWithCopyWarning: \n",
      "A value is trying to be set on a copy of a slice from a DataFrame.\n",
      "Try using .loc[row_indexer,col_indexer] = value instead\n",
      "\n",
      "See the caveats in the documentation: https://pandas.pydata.org/pandas-docs/stable/user_guide/indexing.html#returning-a-view-versus-a-copy\n",
      "  movies_cleaned['keywords'] = movies_cleaned['keywords'].apply(lambda x:[i.replace(\" \", \"\") for i in x])\n",
      "C:\\Users\\chakr\\AppData\\Local\\Temp\\ipykernel_30724\\4263700016.py:5: SettingWithCopyWarning: \n",
      "A value is trying to be set on a copy of a slice from a DataFrame.\n",
      "Try using .loc[row_indexer,col_indexer] = value instead\n",
      "\n",
      "See the caveats in the documentation: https://pandas.pydata.org/pandas-docs/stable/user_guide/indexing.html#returning-a-view-versus-a-copy\n",
      "  movies_cleaned['cast'] = movies_cleaned['cast'].apply(lambda x:[i.replace(\" \", \"\") for i in x])\n"
     ]
    },
    {
     "ename": "TypeError",
     "evalue": "'NoneType' object is not iterable",
     "output_type": "error",
     "traceback": [
      "\u001b[31m---------------------------------------------------------------------------\u001b[39m",
      "\u001b[31mTypeError\u001b[39m                                 Traceback (most recent call last)",
      "\u001b[36mCell\u001b[39m\u001b[36m \u001b[39m\u001b[32mIn[34]\u001b[39m\u001b[32m, line 6\u001b[39m\n\u001b[32m      4\u001b[39m movies_cleaned[\u001b[33m'\u001b[39m\u001b[33mkeywords\u001b[39m\u001b[33m'\u001b[39m] = movies_cleaned[\u001b[33m'\u001b[39m\u001b[33mkeywords\u001b[39m\u001b[33m'\u001b[39m].apply(\u001b[38;5;28;01mlambda\u001b[39;00m x:[i.replace(\u001b[33m\"\u001b[39m\u001b[33m \u001b[39m\u001b[33m\"\u001b[39m, \u001b[33m\"\u001b[39m\u001b[33m\"\u001b[39m) \u001b[38;5;28;01mfor\u001b[39;00m i \u001b[38;5;129;01min\u001b[39;00m x])\n\u001b[32m      5\u001b[39m movies_cleaned[\u001b[33m'\u001b[39m\u001b[33mcast\u001b[39m\u001b[33m'\u001b[39m] = movies_cleaned[\u001b[33m'\u001b[39m\u001b[33mcast\u001b[39m\u001b[33m'\u001b[39m].apply(\u001b[38;5;28;01mlambda\u001b[39;00m x:[i.replace(\u001b[33m\"\u001b[39m\u001b[33m \u001b[39m\u001b[33m\"\u001b[39m, \u001b[33m\"\u001b[39m\u001b[33m\"\u001b[39m) \u001b[38;5;28;01mfor\u001b[39;00m i \u001b[38;5;129;01min\u001b[39;00m x])\n\u001b[32m----> \u001b[39m\u001b[32m6\u001b[39m movies_cleaned[\u001b[33m'\u001b[39m\u001b[33mcrew\u001b[39m\u001b[33m'\u001b[39m] = \u001b[43mmovies_cleaned\u001b[49m\u001b[43m[\u001b[49m\u001b[33;43m'\u001b[39;49m\u001b[33;43mcrew\u001b[39;49m\u001b[33;43m'\u001b[39;49m\u001b[43m]\u001b[49m\u001b[43m.\u001b[49m\u001b[43mapply\u001b[49m\u001b[43m(\u001b[49m\u001b[38;5;28;43;01mlambda\u001b[39;49;00m\u001b[43m \u001b[49m\u001b[43mx\u001b[49m\u001b[43m:\u001b[49m\u001b[43m[\u001b[49m\u001b[43mi\u001b[49m\u001b[43m.\u001b[49m\u001b[43mreplace\u001b[49m\u001b[43m(\u001b[49m\u001b[33;43m\"\u001b[39;49m\u001b[33;43m \u001b[39;49m\u001b[33;43m\"\u001b[39;49m\u001b[43m,\u001b[49m\u001b[43m \u001b[49m\u001b[33;43m\"\u001b[39;49m\u001b[33;43m\"\u001b[39;49m\u001b[43m)\u001b[49m\u001b[43m \u001b[49m\u001b[38;5;28;43;01mfor\u001b[39;49;00m\u001b[43m \u001b[49m\u001b[43mi\u001b[49m\u001b[43m \u001b[49m\u001b[38;5;129;43;01min\u001b[39;49;00m\u001b[43m \u001b[49m\u001b[43mx\u001b[49m\u001b[43m]\u001b[49m\u001b[43m)\u001b[49m\n",
      "\u001b[36mFile \u001b[39m\u001b[32mc:\\Users\\chakr\\Desktop\\Projects\\ML Projects\\MovieRecommenderSystem\\venv\\Lib\\site-packages\\pandas\\core\\series.py:4935\u001b[39m, in \u001b[36mSeries.apply\u001b[39m\u001b[34m(self, func, convert_dtype, args, by_row, **kwargs)\u001b[39m\n\u001b[32m   4800\u001b[39m \u001b[38;5;28;01mdef\u001b[39;00m\u001b[38;5;250m \u001b[39m\u001b[34mapply\u001b[39m(\n\u001b[32m   4801\u001b[39m     \u001b[38;5;28mself\u001b[39m,\n\u001b[32m   4802\u001b[39m     func: AggFuncType,\n\u001b[32m   (...)\u001b[39m\u001b[32m   4807\u001b[39m     **kwargs,\n\u001b[32m   4808\u001b[39m ) -> DataFrame | Series:\n\u001b[32m   4809\u001b[39m \u001b[38;5;250m    \u001b[39m\u001b[33;03m\"\"\"\u001b[39;00m\n\u001b[32m   4810\u001b[39m \u001b[33;03m    Invoke function on values of Series.\u001b[39;00m\n\u001b[32m   4811\u001b[39m \n\u001b[32m   (...)\u001b[39m\u001b[32m   4926\u001b[39m \u001b[33;03m    dtype: float64\u001b[39;00m\n\u001b[32m   4927\u001b[39m \u001b[33;03m    \"\"\"\u001b[39;00m\n\u001b[32m   4928\u001b[39m     \u001b[38;5;28;01mreturn\u001b[39;00m \u001b[43mSeriesApply\u001b[49m\u001b[43m(\u001b[49m\n\u001b[32m   4929\u001b[39m \u001b[43m        \u001b[49m\u001b[38;5;28;43mself\u001b[39;49m\u001b[43m,\u001b[49m\n\u001b[32m   4930\u001b[39m \u001b[43m        \u001b[49m\u001b[43mfunc\u001b[49m\u001b[43m,\u001b[49m\n\u001b[32m   4931\u001b[39m \u001b[43m        \u001b[49m\u001b[43mconvert_dtype\u001b[49m\u001b[43m=\u001b[49m\u001b[43mconvert_dtype\u001b[49m\u001b[43m,\u001b[49m\n\u001b[32m   4932\u001b[39m \u001b[43m        \u001b[49m\u001b[43mby_row\u001b[49m\u001b[43m=\u001b[49m\u001b[43mby_row\u001b[49m\u001b[43m,\u001b[49m\n\u001b[32m   4933\u001b[39m \u001b[43m        \u001b[49m\u001b[43margs\u001b[49m\u001b[43m=\u001b[49m\u001b[43margs\u001b[49m\u001b[43m,\u001b[49m\n\u001b[32m   4934\u001b[39m \u001b[43m        \u001b[49m\u001b[43mkwargs\u001b[49m\u001b[43m=\u001b[49m\u001b[43mkwargs\u001b[49m\u001b[43m,\u001b[49m\n\u001b[32m-> \u001b[39m\u001b[32m4935\u001b[39m \u001b[43m    \u001b[49m\u001b[43m)\u001b[49m\u001b[43m.\u001b[49m\u001b[43mapply\u001b[49m\u001b[43m(\u001b[49m\u001b[43m)\u001b[49m\n",
      "\u001b[36mFile \u001b[39m\u001b[32mc:\\Users\\chakr\\Desktop\\Projects\\ML Projects\\MovieRecommenderSystem\\venv\\Lib\\site-packages\\pandas\\core\\apply.py:1422\u001b[39m, in \u001b[36mSeriesApply.apply\u001b[39m\u001b[34m(self)\u001b[39m\n\u001b[32m   1419\u001b[39m     \u001b[38;5;28;01mreturn\u001b[39;00m \u001b[38;5;28mself\u001b[39m.apply_compat()\n\u001b[32m   1421\u001b[39m \u001b[38;5;66;03m# self.func is Callable\u001b[39;00m\n\u001b[32m-> \u001b[39m\u001b[32m1422\u001b[39m \u001b[38;5;28;01mreturn\u001b[39;00m \u001b[38;5;28;43mself\u001b[39;49m\u001b[43m.\u001b[49m\u001b[43mapply_standard\u001b[49m\u001b[43m(\u001b[49m\u001b[43m)\u001b[49m\n",
      "\u001b[36mFile \u001b[39m\u001b[32mc:\\Users\\chakr\\Desktop\\Projects\\ML Projects\\MovieRecommenderSystem\\venv\\Lib\\site-packages\\pandas\\core\\apply.py:1502\u001b[39m, in \u001b[36mSeriesApply.apply_standard\u001b[39m\u001b[34m(self)\u001b[39m\n\u001b[32m   1496\u001b[39m \u001b[38;5;66;03m# row-wise access\u001b[39;00m\n\u001b[32m   1497\u001b[39m \u001b[38;5;66;03m# apply doesn't have a `na_action` keyword and for backward compat reasons\u001b[39;00m\n\u001b[32m   1498\u001b[39m \u001b[38;5;66;03m# we need to give `na_action=\"ignore\"` for categorical data.\u001b[39;00m\n\u001b[32m   1499\u001b[39m \u001b[38;5;66;03m# TODO: remove the `na_action=\"ignore\"` when that default has been changed in\u001b[39;00m\n\u001b[32m   1500\u001b[39m \u001b[38;5;66;03m#  Categorical (GH51645).\u001b[39;00m\n\u001b[32m   1501\u001b[39m action = \u001b[33m\"\u001b[39m\u001b[33mignore\u001b[39m\u001b[33m\"\u001b[39m \u001b[38;5;28;01mif\u001b[39;00m \u001b[38;5;28misinstance\u001b[39m(obj.dtype, CategoricalDtype) \u001b[38;5;28;01melse\u001b[39;00m \u001b[38;5;28;01mNone\u001b[39;00m\n\u001b[32m-> \u001b[39m\u001b[32m1502\u001b[39m mapped = \u001b[43mobj\u001b[49m\u001b[43m.\u001b[49m\u001b[43m_map_values\u001b[49m\u001b[43m(\u001b[49m\n\u001b[32m   1503\u001b[39m \u001b[43m    \u001b[49m\u001b[43mmapper\u001b[49m\u001b[43m=\u001b[49m\u001b[43mcurried\u001b[49m\u001b[43m,\u001b[49m\u001b[43m \u001b[49m\u001b[43mna_action\u001b[49m\u001b[43m=\u001b[49m\u001b[43maction\u001b[49m\u001b[43m,\u001b[49m\u001b[43m \u001b[49m\u001b[43mconvert\u001b[49m\u001b[43m=\u001b[49m\u001b[38;5;28;43mself\u001b[39;49m\u001b[43m.\u001b[49m\u001b[43mconvert_dtype\u001b[49m\n\u001b[32m   1504\u001b[39m \u001b[43m\u001b[49m\u001b[43m)\u001b[49m\n\u001b[32m   1506\u001b[39m \u001b[38;5;28;01mif\u001b[39;00m \u001b[38;5;28mlen\u001b[39m(mapped) \u001b[38;5;129;01mand\u001b[39;00m \u001b[38;5;28misinstance\u001b[39m(mapped[\u001b[32m0\u001b[39m], ABCSeries):\n\u001b[32m   1507\u001b[39m     \u001b[38;5;66;03m# GH#43986 Need to do list(mapped) in order to get treated as nested\u001b[39;00m\n\u001b[32m   1508\u001b[39m     \u001b[38;5;66;03m#  See also GH#25959 regarding EA support\u001b[39;00m\n\u001b[32m   1509\u001b[39m     \u001b[38;5;28;01mreturn\u001b[39;00m obj._constructor_expanddim(\u001b[38;5;28mlist\u001b[39m(mapped), index=obj.index)\n",
      "\u001b[36mFile \u001b[39m\u001b[32mc:\\Users\\chakr\\Desktop\\Projects\\ML Projects\\MovieRecommenderSystem\\venv\\Lib\\site-packages\\pandas\\core\\base.py:925\u001b[39m, in \u001b[36mIndexOpsMixin._map_values\u001b[39m\u001b[34m(self, mapper, na_action, convert)\u001b[39m\n\u001b[32m    922\u001b[39m \u001b[38;5;28;01mif\u001b[39;00m \u001b[38;5;28misinstance\u001b[39m(arr, ExtensionArray):\n\u001b[32m    923\u001b[39m     \u001b[38;5;28;01mreturn\u001b[39;00m arr.map(mapper, na_action=na_action)\n\u001b[32m--> \u001b[39m\u001b[32m925\u001b[39m \u001b[38;5;28;01mreturn\u001b[39;00m \u001b[43malgorithms\u001b[49m\u001b[43m.\u001b[49m\u001b[43mmap_array\u001b[49m\u001b[43m(\u001b[49m\u001b[43marr\u001b[49m\u001b[43m,\u001b[49m\u001b[43m \u001b[49m\u001b[43mmapper\u001b[49m\u001b[43m,\u001b[49m\u001b[43m \u001b[49m\u001b[43mna_action\u001b[49m\u001b[43m=\u001b[49m\u001b[43mna_action\u001b[49m\u001b[43m,\u001b[49m\u001b[43m \u001b[49m\u001b[43mconvert\u001b[49m\u001b[43m=\u001b[49m\u001b[43mconvert\u001b[49m\u001b[43m)\u001b[49m\n",
      "\u001b[36mFile \u001b[39m\u001b[32mc:\\Users\\chakr\\Desktop\\Projects\\ML Projects\\MovieRecommenderSystem\\venv\\Lib\\site-packages\\pandas\\core\\algorithms.py:1743\u001b[39m, in \u001b[36mmap_array\u001b[39m\u001b[34m(arr, mapper, na_action, convert)\u001b[39m\n\u001b[32m   1741\u001b[39m values = arr.astype(\u001b[38;5;28mobject\u001b[39m, copy=\u001b[38;5;28;01mFalse\u001b[39;00m)\n\u001b[32m   1742\u001b[39m \u001b[38;5;28;01mif\u001b[39;00m na_action \u001b[38;5;129;01mis\u001b[39;00m \u001b[38;5;28;01mNone\u001b[39;00m:\n\u001b[32m-> \u001b[39m\u001b[32m1743\u001b[39m     \u001b[38;5;28;01mreturn\u001b[39;00m \u001b[43mlib\u001b[49m\u001b[43m.\u001b[49m\u001b[43mmap_infer\u001b[49m\u001b[43m(\u001b[49m\u001b[43mvalues\u001b[49m\u001b[43m,\u001b[49m\u001b[43m \u001b[49m\u001b[43mmapper\u001b[49m\u001b[43m,\u001b[49m\u001b[43m \u001b[49m\u001b[43mconvert\u001b[49m\u001b[43m=\u001b[49m\u001b[43mconvert\u001b[49m\u001b[43m)\u001b[49m\n\u001b[32m   1744\u001b[39m \u001b[38;5;28;01melse\u001b[39;00m:\n\u001b[32m   1745\u001b[39m     \u001b[38;5;28;01mreturn\u001b[39;00m lib.map_infer_mask(\n\u001b[32m   1746\u001b[39m         values, mapper, mask=isna(values).view(np.uint8), convert=convert\n\u001b[32m   1747\u001b[39m     )\n",
      "\u001b[36mFile \u001b[39m\u001b[32mpandas/_libs/lib.pyx:2999\u001b[39m, in \u001b[36mpandas._libs.lib.map_infer\u001b[39m\u001b[34m()\u001b[39m\n",
      "\u001b[36mCell\u001b[39m\u001b[36m \u001b[39m\u001b[32mIn[34]\u001b[39m\u001b[32m, line 6\u001b[39m, in \u001b[36m<lambda>\u001b[39m\u001b[34m(x)\u001b[39m\n\u001b[32m      4\u001b[39m movies_cleaned[\u001b[33m'\u001b[39m\u001b[33mkeywords\u001b[39m\u001b[33m'\u001b[39m] = movies_cleaned[\u001b[33m'\u001b[39m\u001b[33mkeywords\u001b[39m\u001b[33m'\u001b[39m].apply(\u001b[38;5;28;01mlambda\u001b[39;00m x:[i.replace(\u001b[33m\"\u001b[39m\u001b[33m \u001b[39m\u001b[33m\"\u001b[39m, \u001b[33m\"\u001b[39m\u001b[33m\"\u001b[39m) \u001b[38;5;28;01mfor\u001b[39;00m i \u001b[38;5;129;01min\u001b[39;00m x])\n\u001b[32m      5\u001b[39m movies_cleaned[\u001b[33m'\u001b[39m\u001b[33mcast\u001b[39m\u001b[33m'\u001b[39m] = movies_cleaned[\u001b[33m'\u001b[39m\u001b[33mcast\u001b[39m\u001b[33m'\u001b[39m].apply(\u001b[38;5;28;01mlambda\u001b[39;00m x:[i.replace(\u001b[33m\"\u001b[39m\u001b[33m \u001b[39m\u001b[33m\"\u001b[39m, \u001b[33m\"\u001b[39m\u001b[33m\"\u001b[39m) \u001b[38;5;28;01mfor\u001b[39;00m i \u001b[38;5;129;01min\u001b[39;00m x])\n\u001b[32m----> \u001b[39m\u001b[32m6\u001b[39m movies_cleaned[\u001b[33m'\u001b[39m\u001b[33mcrew\u001b[39m\u001b[33m'\u001b[39m] = movies_cleaned[\u001b[33m'\u001b[39m\u001b[33mcrew\u001b[39m\u001b[33m'\u001b[39m].apply(\u001b[38;5;28;01mlambda\u001b[39;00m x:\u001b[43m[\u001b[49m\u001b[43mi\u001b[49m\u001b[43m.\u001b[49m\u001b[43mreplace\u001b[49m\u001b[43m(\u001b[49m\u001b[33;43m\"\u001b[39;49m\u001b[33;43m \u001b[39;49m\u001b[33;43m\"\u001b[39;49m\u001b[43m,\u001b[49m\u001b[43m \u001b[49m\u001b[33;43m\"\u001b[39;49m\u001b[33;43m\"\u001b[39;49m\u001b[43m)\u001b[49m\u001b[43m \u001b[49m\u001b[38;5;28;43;01mfor\u001b[39;49;00m\u001b[43m \u001b[49m\u001b[43mi\u001b[49m\u001b[43m \u001b[49m\u001b[38;5;129;43;01min\u001b[39;49;00m\u001b[43m \u001b[49m\u001b[43mx\u001b[49m\u001b[43m]\u001b[49m)\n",
      "\u001b[31mTypeError\u001b[39m: 'NoneType' object is not iterable"
     ]
    }
   ],
   "source": [
    "# Removing the spaces between words in the columns to avoid creation of separate entities for a keyword, cast names, gneres etc. when creating the tags\n",
    "\n",
    "movies_cleaned['genres'] = movies_cleaned['genres'].apply(lambda x:[i.replace(\" \", \"\") for i in x])\n",
    "movies_cleaned['keywords'] = movies_cleaned['keywords'].apply(lambda x:[i.replace(\" \", \"\") for i in x])\n",
    "movies_cleaned['cast'] = movies_cleaned['cast'].apply(lambda x:[i.replace(\" \", \"\") for i in x])\n",
    "movies_cleaned['crew'] = movies_cleaned['crew'].apply(lambda x:[i.replace(\" \", \"\") for i in x])"
   ]
  },
  {
   "cell_type": "code",
   "execution_count": 35,
   "id": "ebeaba3f",
   "metadata": {},
   "outputs": [
    {
     "data": {
      "text/plain": [
       "id           0\n",
       "genres       0\n",
       "keywords     0\n",
       "title        0\n",
       "overview     0\n",
       "cast         0\n",
       "crew        30\n",
       "dtype: int64"
      ]
     },
     "execution_count": 35,
     "metadata": {},
     "output_type": "execute_result"
    }
   ],
   "source": [
    "# Checking for null values\n",
    "movies_cleaned.isnull().sum()"
   ]
  },
  {
   "cell_type": "code",
   "execution_count": 36,
   "id": "e7201ba8",
   "metadata": {},
   "outputs": [
    {
     "name": "stderr",
     "output_type": "stream",
     "text": [
      "C:\\Users\\chakr\\AppData\\Local\\Temp\\ipykernel_30724\\855532034.py:2: SettingWithCopyWarning: \n",
      "A value is trying to be set on a copy of a slice from a DataFrame.\n",
      "Try using .loc[row_indexer,col_indexer] = value instead\n",
      "\n",
      "See the caveats in the documentation: https://pandas.pydata.org/pandas-docs/stable/user_guide/indexing.html#returning-a-view-versus-a-copy\n",
      "  movies_cleaned['crew'] = movies_cleaned['crew'].fillna('[Unknown]')\n"
     ]
    }
   ],
   "source": [
    "# Removing null values from crew\n",
    "movies_cleaned['crew'] = movies_cleaned['crew'].fillna('[Unknown]')"
   ]
  },
  {
   "cell_type": "code",
   "execution_count": 37,
   "id": "0a76d294",
   "metadata": {},
   "outputs": [
    {
     "name": "stderr",
     "output_type": "stream",
     "text": [
      "C:\\Users\\chakr\\AppData\\Local\\Temp\\ipykernel_30724\\3365071941.py:1: SettingWithCopyWarning: \n",
      "A value is trying to be set on a copy of a slice from a DataFrame.\n",
      "Try using .loc[row_indexer,col_indexer] = value instead\n",
      "\n",
      "See the caveats in the documentation: https://pandas.pydata.org/pandas-docs/stable/user_guide/indexing.html#returning-a-view-versus-a-copy\n",
      "  movies_cleaned['crew'] = movies_cleaned['crew'].apply(lambda x:[i.replace(\" \", \"\") for i in x])\n",
      "C:\\Users\\chakr\\AppData\\Local\\Temp\\ipykernel_30724\\3365071941.py:2: SettingWithCopyWarning: \n",
      "A value is trying to be set on a copy of a slice from a DataFrame.\n",
      "Try using .loc[row_indexer,col_indexer] = value instead\n",
      "\n",
      "See the caveats in the documentation: https://pandas.pydata.org/pandas-docs/stable/user_guide/indexing.html#returning-a-view-versus-a-copy\n",
      "  movies_cleaned['overview'] = movies_cleaned['overview'].apply(lambda x: x.split() if isinstance(x, str) else [])\n"
     ]
    }
   ],
   "source": [
    "movies_cleaned['crew'] = movies_cleaned['crew'].apply(lambda x:[i.replace(\" \", \"\") for i in x])\n",
    "movies_cleaned['overview'] = movies_cleaned['overview'].apply(lambda x: x.split() if isinstance(x, str) else [])"
   ]
  },
  {
   "cell_type": "code",
   "execution_count": 38,
   "id": "4c58b59a",
   "metadata": {},
   "outputs": [
    {
     "data": {
      "text/html": [
       "<div>\n",
       "<style scoped>\n",
       "    .dataframe tbody tr th:only-of-type {\n",
       "        vertical-align: middle;\n",
       "    }\n",
       "\n",
       "    .dataframe tbody tr th {\n",
       "        vertical-align: top;\n",
       "    }\n",
       "\n",
       "    .dataframe thead th {\n",
       "        text-align: right;\n",
       "    }\n",
       "</style>\n",
       "<table border=\"1\" class=\"dataframe\">\n",
       "  <thead>\n",
       "    <tr style=\"text-align: right;\">\n",
       "      <th></th>\n",
       "      <th>id</th>\n",
       "      <th>genres</th>\n",
       "      <th>keywords</th>\n",
       "      <th>title</th>\n",
       "      <th>overview</th>\n",
       "      <th>cast</th>\n",
       "      <th>crew</th>\n",
       "    </tr>\n",
       "  </thead>\n",
       "  <tbody>\n",
       "    <tr>\n",
       "      <th>0</th>\n",
       "      <td>19995</td>\n",
       "      <td>[Action, Adventure, Fantasy, ScienceFiction]</td>\n",
       "      <td>[cultureclash, future, spacewar, spacecolony, ...</td>\n",
       "      <td>Avatar</td>\n",
       "      <td>[In, the, 22nd, century,, a, paraplegic, Marin...</td>\n",
       "      <td>[SamWorthington, ZoeSaldana, SigourneyWeaver, ...</td>\n",
       "      <td>[JamesCameron]</td>\n",
       "    </tr>\n",
       "  </tbody>\n",
       "</table>\n",
       "</div>"
      ],
      "text/plain": [
       "      id                                        genres  \\\n",
       "0  19995  [Action, Adventure, Fantasy, ScienceFiction]   \n",
       "\n",
       "                                            keywords   title  \\\n",
       "0  [cultureclash, future, spacewar, spacecolony, ...  Avatar   \n",
       "\n",
       "                                            overview  \\\n",
       "0  [In, the, 22nd, century,, a, paraplegic, Marin...   \n",
       "\n",
       "                                                cast            crew  \n",
       "0  [SamWorthington, ZoeSaldana, SigourneyWeaver, ...  [JamesCameron]  "
      ]
     },
     "execution_count": 38,
     "metadata": {},
     "output_type": "execute_result"
    }
   ],
   "source": [
    "movies_cleaned.head(1)"
   ]
  },
  {
   "cell_type": "code",
   "execution_count": 39,
   "id": "244b1d29",
   "metadata": {},
   "outputs": [
    {
     "name": "stderr",
     "output_type": "stream",
     "text": [
      "C:\\Users\\chakr\\AppData\\Local\\Temp\\ipykernel_30724\\2984572584.py:3: SettingWithCopyWarning: \n",
      "A value is trying to be set on a copy of a slice from a DataFrame.\n",
      "Try using .loc[row_indexer,col_indexer] = value instead\n",
      "\n",
      "See the caveats in the documentation: https://pandas.pydata.org/pandas-docs/stable/user_guide/indexing.html#returning-a-view-versus-a-copy\n",
      "  movies_cleaned['tags'] = movies_cleaned['overview'] + movies_cleaned['genres'] + movies_cleaned['keywords'] + movies_cleaned['cast'] + movies_cleaned['crew']\n"
     ]
    }
   ],
   "source": [
    "# Creating the tags column by combining the overview, genres, keywords, cast and crew columns\n",
    "\n",
    "movies_cleaned['tags'] = movies_cleaned['overview'] + movies_cleaned['genres'] + movies_cleaned['keywords'] + movies_cleaned['cast'] + movies_cleaned['crew']"
   ]
  },
  {
   "cell_type": "code",
   "execution_count": 40,
   "id": "bddcd0f9",
   "metadata": {},
   "outputs": [
    {
     "data": {
      "text/plain": [
       "['In',\n",
       " 'the',\n",
       " '22nd',\n",
       " 'century,',\n",
       " 'a',\n",
       " 'paraplegic',\n",
       " 'Marine',\n",
       " 'is',\n",
       " 'dispatched',\n",
       " 'to',\n",
       " 'the',\n",
       " 'moon',\n",
       " 'Pandora',\n",
       " 'on',\n",
       " 'a',\n",
       " 'unique',\n",
       " 'mission,',\n",
       " 'but',\n",
       " 'becomes',\n",
       " 'torn',\n",
       " 'between',\n",
       " 'following',\n",
       " 'orders',\n",
       " 'and',\n",
       " 'protecting',\n",
       " 'an',\n",
       " 'alien',\n",
       " 'civilization.',\n",
       " 'Action',\n",
       " 'Adventure',\n",
       " 'Fantasy',\n",
       " 'ScienceFiction',\n",
       " 'cultureclash',\n",
       " 'future',\n",
       " 'spacewar',\n",
       " 'spacecolony',\n",
       " 'society',\n",
       " 'spacetravel',\n",
       " 'futuristic',\n",
       " 'romance',\n",
       " 'space',\n",
       " 'alien',\n",
       " 'tribe',\n",
       " 'alienplanet',\n",
       " 'cgi',\n",
       " 'marine',\n",
       " 'soldier',\n",
       " 'battle',\n",
       " 'loveaffair',\n",
       " 'antiwar',\n",
       " 'powerrelations',\n",
       " 'mindandsoul',\n",
       " '3d',\n",
       " 'SamWorthington',\n",
       " 'ZoeSaldana',\n",
       " 'SigourneyWeaver',\n",
       " 'StephenLang',\n",
       " 'MichelleRodriguez',\n",
       " 'JamesCameron']"
      ]
     },
     "execution_count": 40,
     "metadata": {},
     "output_type": "execute_result"
    }
   ],
   "source": [
    "movies_cleaned.iloc[0].tags"
   ]
  },
  {
   "cell_type": "code",
   "execution_count": 41,
   "id": "38f60189",
   "metadata": {},
   "outputs": [
    {
     "data": {
      "text/html": [
       "<div>\n",
       "<style scoped>\n",
       "    .dataframe tbody tr th:only-of-type {\n",
       "        vertical-align: middle;\n",
       "    }\n",
       "\n",
       "    .dataframe tbody tr th {\n",
       "        vertical-align: top;\n",
       "    }\n",
       "\n",
       "    .dataframe thead th {\n",
       "        text-align: right;\n",
       "    }\n",
       "</style>\n",
       "<table border=\"1\" class=\"dataframe\">\n",
       "  <thead>\n",
       "    <tr style=\"text-align: right;\">\n",
       "      <th></th>\n",
       "      <th>id</th>\n",
       "      <th>title</th>\n",
       "      <th>tags</th>\n",
       "    </tr>\n",
       "  </thead>\n",
       "  <tbody>\n",
       "    <tr>\n",
       "      <th>0</th>\n",
       "      <td>19995</td>\n",
       "      <td>Avatar</td>\n",
       "      <td>[In, the, 22nd, century,, a, paraplegic, Marin...</td>\n",
       "    </tr>\n",
       "    <tr>\n",
       "      <th>1</th>\n",
       "      <td>285</td>\n",
       "      <td>Pirates of the Caribbean: At World's End</td>\n",
       "      <td>[Captain, Barbossa,, long, believed, to, be, d...</td>\n",
       "    </tr>\n",
       "    <tr>\n",
       "      <th>2</th>\n",
       "      <td>206647</td>\n",
       "      <td>Spectre</td>\n",
       "      <td>[A, cryptic, message, from, Bond’s, past, send...</td>\n",
       "    </tr>\n",
       "    <tr>\n",
       "      <th>3</th>\n",
       "      <td>49026</td>\n",
       "      <td>The Dark Knight Rises</td>\n",
       "      <td>[Following, the, death, of, District, Attorney...</td>\n",
       "    </tr>\n",
       "    <tr>\n",
       "      <th>4</th>\n",
       "      <td>49529</td>\n",
       "      <td>John Carter</td>\n",
       "      <td>[John, Carter, is, a, war-weary,, former, mili...</td>\n",
       "    </tr>\n",
       "  </tbody>\n",
       "</table>\n",
       "</div>"
      ],
      "text/plain": [
       "       id                                     title  \\\n",
       "0   19995                                    Avatar   \n",
       "1     285  Pirates of the Caribbean: At World's End   \n",
       "2  206647                                   Spectre   \n",
       "3   49026                     The Dark Knight Rises   \n",
       "4   49529                               John Carter   \n",
       "\n",
       "                                                tags  \n",
       "0  [In, the, 22nd, century,, a, paraplegic, Marin...  \n",
       "1  [Captain, Barbossa,, long, believed, to, be, d...  \n",
       "2  [A, cryptic, message, from, Bond’s, past, send...  \n",
       "3  [Following, the, death, of, District, Attorney...  \n",
       "4  [John, Carter, is, a, war-weary,, former, mili...  "
      ]
     },
     "execution_count": 41,
     "metadata": {},
     "output_type": "execute_result"
    }
   ],
   "source": [
    "# Creating a new movies dataframe using the cleaned columns for further processing\n",
    "movies_df = movies_cleaned[['id', 'title', 'tags']]\n",
    "movies_df.head()"
   ]
  },
  {
   "cell_type": "code",
   "execution_count": 42,
   "id": "2e4c2dd8",
   "metadata": {},
   "outputs": [
    {
     "name": "stderr",
     "output_type": "stream",
     "text": [
      "C:\\Users\\chakr\\AppData\\Local\\Temp\\ipykernel_30724\\1818354165.py:1: SettingWithCopyWarning: \n",
      "A value is trying to be set on a copy of a slice from a DataFrame.\n",
      "Try using .loc[row_indexer,col_indexer] = value instead\n",
      "\n",
      "See the caveats in the documentation: https://pandas.pydata.org/pandas-docs/stable/user_guide/indexing.html#returning-a-view-versus-a-copy\n",
      "  movies_df['tags'] = movies_df['tags'].apply(lambda x:\" \".join(x))\n"
     ]
    }
   ],
   "source": [
    "movies_df['tags'] = movies_df['tags'].apply(lambda x:\" \".join(x))"
   ]
  },
  {
   "cell_type": "code",
   "execution_count": 43,
   "id": "29f92e34",
   "metadata": {},
   "outputs": [
    {
     "name": "stderr",
     "output_type": "stream",
     "text": [
      "C:\\Users\\chakr\\AppData\\Local\\Temp\\ipykernel_30724\\1226254211.py:1: SettingWithCopyWarning: \n",
      "A value is trying to be set on a copy of a slice from a DataFrame.\n",
      "Try using .loc[row_indexer,col_indexer] = value instead\n",
      "\n",
      "See the caveats in the documentation: https://pandas.pydata.org/pandas-docs/stable/user_guide/indexing.html#returning-a-view-versus-a-copy\n",
      "  movies_df['tags'] = movies_df['tags'].apply(lambda x:x.lower())\n"
     ]
    },
    {
     "data": {
      "text/plain": [
       "'a cryptic message from bond’s past sends him on a trail to uncover a sinister organization. while m battles political forces to keep the secret service alive, bond peels back the layers of deceit to reveal the terrible truth behind spectre. action adventure crime spy basedonnovel secretagent sequel mi6 britishsecretservice unitedkingdom danielcraig christophwaltz léaseydoux ralphfiennes monicabellucci sammendes'"
      ]
     },
     "execution_count": 43,
     "metadata": {},
     "output_type": "execute_result"
    }
   ],
   "source": [
    "movies_df['tags'] = movies_df['tags'].apply(lambda x:x.lower())\n",
    "movies_df.iloc[2].tags"
   ]
  },
  {
   "cell_type": "markdown",
   "id": "7fc544d0",
   "metadata": {},
   "source": [
    "## Vectorization\n",
    "We convert the tags into vectors, using `Bag-of-Words` model, in order to calculate the similarity between the movies. We combine all the 5000 tags and make a big text of these words. From this big text, we extract the 5000 most frequently occuring words. We then go over every tag and compare every word in the 5000 most frequently occuring set and count how many times they occuring in the tag.\n",
    "\n",
    "|            | word1 | word2 | word3 | ... | word5000 |\n",
    "|------------|-------|-------|-------|-----|----------|\n",
    "| movie tag 1 | 66    | 75    | 8     |     | 3        |\n",
    "| movie tag 2 | 67    | 33    | 64    |     | 56       |\n",
    "| movie tag 3 | 78    | 6     | 78    |     | 18       |\n",
    "| ...        |       |       |       |     |          |\n",
    "| movie tag 5000 | 77    | 444   | 36    |     | 68       |\n",
    "\n",
    "Every row in this (5000, 5000) matrix is a vector corresponding to a film.\n",
    "We use the `CountVectorizer` in `sklearn.feature_extraction.text` to convert the collection of text documents into a matrix of token (word) counts.\n",
    "\n",
    "### 🔍 What It Does\n",
    "Given a list of text documents, `CountVectorizer`:\n",
    "- Tokenizes the text (splits it into words)\n",
    "- Builds a vocabulary of known words\n",
    "- Counts how many times each word appears in each document\n",
    "\n",
    "It returns a sparse matrix where:\n",
    "- Rows represent documents\n",
    "- Columns represent vocabulary words\n",
    "- Values are the word counts\n",
    "\n",
    "### ⚙️ Common Parameters\n",
    "- `stop_words='english'`: Removes common English words like “the”, “is”, “and”\n",
    "- `max_features=5000`: Limits to the top 5000 words\n",
    "- `ngram_range=(1,2)`: Includes unigrams, bigrams, etc.\n",
    "- `min_df=2`: Ignores words in fewer than 2 documents"
   ]
  },
  {
   "cell_type": "code",
   "execution_count": 44,
   "id": "d299753a",
   "metadata": {},
   "outputs": [],
   "source": [
    "from sklearn.feature_extraction.text import CountVectorizer\n",
    "cv = CountVectorizer(max_features=5000, stop_words='english')\n",
    "\n",
    "vectors = cv.fit_transform(movies_df['tags']).toarray()"
   ]
  },
  {
   "cell_type": "code",
   "execution_count": 45,
   "id": "63d87ce3",
   "metadata": {},
   "outputs": [
    {
     "data": {
      "text/plain": [
       "array(['000', '007', '10', ..., 'zone', 'zoo', 'zooeydeschanel'],\n",
       "      shape=(5000,), dtype=object)"
      ]
     },
     "execution_count": 45,
     "metadata": {},
     "output_type": "execute_result"
    }
   ],
   "source": [
    "cv.get_feature_names_out()"
   ]
  },
  {
   "cell_type": "code",
   "execution_count": 46,
   "id": "344ffbf4",
   "metadata": {},
   "outputs": [
    {
     "name": "stderr",
     "output_type": "stream",
     "text": [
      "C:\\Users\\chakr\\AppData\\Local\\Temp\\ipykernel_30724\\4085807983.py:16: SettingWithCopyWarning: \n",
      "A value is trying to be set on a copy of a slice from a DataFrame.\n",
      "Try using .loc[row_indexer,col_indexer] = value instead\n",
      "\n",
      "See the caveats in the documentation: https://pandas.pydata.org/pandas-docs/stable/user_guide/indexing.html#returning-a-view-versus-a-copy\n",
      "  movies_df['tags'] = movies_df['tags'].apply(stem_text)\n"
     ]
    },
    {
     "data": {
      "text/html": [
       "<div>\n",
       "<style scoped>\n",
       "    .dataframe tbody tr th:only-of-type {\n",
       "        vertical-align: middle;\n",
       "    }\n",
       "\n",
       "    .dataframe tbody tr th {\n",
       "        vertical-align: top;\n",
       "    }\n",
       "\n",
       "    .dataframe thead th {\n",
       "        text-align: right;\n",
       "    }\n",
       "</style>\n",
       "<table border=\"1\" class=\"dataframe\">\n",
       "  <thead>\n",
       "    <tr style=\"text-align: right;\">\n",
       "      <th></th>\n",
       "      <th>id</th>\n",
       "      <th>title</th>\n",
       "      <th>tags</th>\n",
       "    </tr>\n",
       "  </thead>\n",
       "  <tbody>\n",
       "    <tr>\n",
       "      <th>0</th>\n",
       "      <td>19995</td>\n",
       "      <td>Avatar</td>\n",
       "      <td>in the 22nd century, a parapleg marin is dispa...</td>\n",
       "    </tr>\n",
       "    <tr>\n",
       "      <th>1</th>\n",
       "      <td>285</td>\n",
       "      <td>Pirates of the Caribbean: At World's End</td>\n",
       "      <td>captain barbossa, long believ to be dead, ha c...</td>\n",
       "    </tr>\n",
       "    <tr>\n",
       "      <th>2</th>\n",
       "      <td>206647</td>\n",
       "      <td>Spectre</td>\n",
       "      <td>a cryptic messag from bond’ past send him on a...</td>\n",
       "    </tr>\n",
       "    <tr>\n",
       "      <th>3</th>\n",
       "      <td>49026</td>\n",
       "      <td>The Dark Knight Rises</td>\n",
       "      <td>follow the death of district attorney harvey d...</td>\n",
       "    </tr>\n",
       "    <tr>\n",
       "      <th>4</th>\n",
       "      <td>49529</td>\n",
       "      <td>John Carter</td>\n",
       "      <td>john carter is a war-weary, former militari ca...</td>\n",
       "    </tr>\n",
       "  </tbody>\n",
       "</table>\n",
       "</div>"
      ],
      "text/plain": [
       "       id                                     title  \\\n",
       "0   19995                                    Avatar   \n",
       "1     285  Pirates of the Caribbean: At World's End   \n",
       "2  206647                                   Spectre   \n",
       "3   49026                     The Dark Knight Rises   \n",
       "4   49529                               John Carter   \n",
       "\n",
       "                                                tags  \n",
       "0  in the 22nd century, a parapleg marin is dispa...  \n",
       "1  captain barbossa, long believ to be dead, ha c...  \n",
       "2  a cryptic messag from bond’ past send him on a...  \n",
       "3  follow the death of district attorney harvey d...  \n",
       "4  john carter is a war-weary, former militari ca...  "
      ]
     },
     "execution_count": 46,
     "metadata": {},
     "output_type": "execute_result"
    }
   ],
   "source": [
    "# We apply STEMMING to ensure that words like 'actions', 'action' etc. get grouped into one category as they have the same base word.\n",
    "# Similarly, words like 'loved', 'loving', 'loves' get grouped under 'love'.\n",
    "\n",
    "import nltk\n",
    "from nltk.stem.porter import PorterStemmer\n",
    "\n",
    "ps = PorterStemmer()\n",
    "\n",
    "def stem_text(text):\n",
    "    stemmed_words = []\n",
    "    for word in text.split():\n",
    "        stemmed_words.append(ps.stem(word))\n",
    "    \n",
    "    return \" \".join(stemmed_words)\n",
    "\n",
    "movies_df['tags'] = movies_df['tags'].apply(stem_text)\n",
    "movies_df.head()"
   ]
  },
  {
   "cell_type": "code",
   "execution_count": 47,
   "id": "94fd7187",
   "metadata": {},
   "outputs": [],
   "source": [
    "vectors = cv.fit_transform(movies_df['tags']).toarray()"
   ]
  },
  {
   "cell_type": "code",
   "execution_count": 48,
   "id": "363fac9f",
   "metadata": {},
   "outputs": [
    {
     "data": {
      "text/plain": [
       "array(['000', '007', '10', ..., 'zone', 'zoo', 'zooeydeschanel'],\n",
       "      shape=(5000,), dtype=object)"
      ]
     },
     "execution_count": 48,
     "metadata": {},
     "output_type": "execute_result"
    }
   ],
   "source": [
    "cv.get_feature_names_out()"
   ]
  },
  {
   "cell_type": "markdown",
   "id": "2d4f0c49",
   "metadata": {},
   "source": [
    "### Calculating similarity\n",
    "\n",
    "To find movies which are similar to each other, we need to compute the distance between their corresponding vectors. In higher dimensions, Eucledian distance computation fails so we use the **cosine-similarity** which measures the angle between the two vectors. Smaller the angle, more similiar are the vectors.\n",
    "\n",
    "Similiarity is the inverse of distance. Range(similarity) = [0, 1]."
   ]
  },
  {
   "cell_type": "code",
   "execution_count": 49,
   "id": "c37dc10f",
   "metadata": {},
   "outputs": [
    {
     "data": {
      "text/plain": [
       "(4806, 4806)"
      ]
     },
     "execution_count": 49,
     "metadata": {},
     "output_type": "execute_result"
    }
   ],
   "source": [
    "from sklearn.metrics.pairwise import cosine_similarity\n",
    "\n",
    "# This computes the distance of each vector from every other vector\n",
    "similarity_matrix = cosine_similarity(vectors)\n",
    "\n",
    "similarity_matrix.shape"
   ]
  },
  {
   "cell_type": "code",
   "execution_count": 50,
   "id": "0be3c9f0",
   "metadata": {},
   "outputs": [
    {
     "data": {
      "text/plain": [
       "array([1.        , 0.07897472, 0.0836242 , ..., 0.04484485, 0.        ,\n",
       "       0.        ], shape=(4806,))"
      ]
     },
     "execution_count": 50,
     "metadata": {},
     "output_type": "execute_result"
    }
   ],
   "source": [
    "# Similarity of the first movie with every other movie\n",
    "similarity_matrix[0]"
   ]
  },
  {
   "cell_type": "code",
   "execution_count": 63,
   "id": "1393570a",
   "metadata": {},
   "outputs": [],
   "source": [
    "# Returns 5 similar movies for the provided movie\n",
    "def recommend(movie):\n",
    "    # Fetching the index of the movie\n",
    "    movie_index = movies_df[movies_df['title'] == movie].index[0]\n",
    "    \n",
    "    # Getting the vector distances for this movie from the similarity matrix\n",
    "    distances = similarity_matrix[movie_index]\n",
    "\n",
    "    # Sorting the distances to find the top 5 similar movies\n",
    "    sorted_distances = sorted(list(enumerate(similarity_matrix[movie_index])), reverse=True)  \n",
    "    # Here, list(enumerate(similarity_matrix[0])) returns a list of tuples where every tupple consists of the movie_number (row number)\n",
    "    # and its similairty with the provided movie\n",
    "    # We do the enumerate because we need to keep track of the movie index to get the required ID from the movies dataframe. Sorting on its own messes up the movie index\n",
    "    # sorted_distances = sorted(list(enumerate(similarity_matrix[0])), reverse=True)   --- this sorts on the basis of the index, we need to sort on the basis of the distance\n",
    "\n",
    "    sorted_distances = sorted(list(enumerate(similarity_matrix[movie_index])), reverse=True, key=lambda x:x[1])\n",
    "    print(sorted_distances)\n",
    "\n",
    "    top_5_movies = sorted_distances[1:6]\n",
    "    for i in top_5_movies:\n",
    "        print(movies_df.iloc[i[0]].title)\n",
    "        print(i[0])\n",
    "    # return top_5_movies"
   ]
  },
  {
   "cell_type": "code",
   "execution_count": 64,
   "id": "402f674d",
   "metadata": {},
   "outputs": [
    {
     "name": "stdout",
     "output_type": "stream",
     "text": [
      "[(119, np.float64(1.0)), (65, np.float64(0.40516337191403146)), (1361, np.float64(0.34817875908197216)), (1360, np.float64(0.32826608214930636)), (3, np.float64(0.32297112073308687)), (4146, np.float64(0.2969278434243359)), (3295, np.float64(0.29274527692217917)), (9, np.float64(0.2904011597483873)), (3823, np.float64(0.28365431446558775)), (2248, np.float64(0.27690930984749823)), (3730, np.float64(0.2722074211540951)), (1248, np.float64(0.26802813370944867)), (3259, np.float64(0.26633805697108515)), (4103, np.float64(0.2646888890589147)), (4641, np.float64(0.2626128657194451)), (1452, np.float64(0.26100665575458365)), (2958, np.float64(0.25992434305464396)), (210, np.float64(0.25733746430109117)), (1411, np.float64(0.2553310899934462)), (4139, np.float64(0.2553310899934462)), (428, np.float64(0.25438386528639634)), (79, np.float64(0.2481458334927325)), (3236, np.float64(0.24770754201107464)), (3308, np.float64(0.24140393963016737)), (1254, np.float64(0.24000391846330957)), (813, np.float64(0.23902551768969965)), (1883, np.float64(0.23884865823693072)), (697, np.float64(0.237880413380021)), (3645, np.float64(0.23754227473946873)), (3334, np.float64(0.2363515791475006)), (299, np.float64(0.23541180771537917)), (2390, np.float64(0.23488808780588136)), (3075, np.float64(0.23488808780588136)), (3339, np.float64(0.2344722336801281)), (20, np.float64(0.2330312358525694)), (4250, np.float64(0.23278142562976664)), (3418, np.float64(0.22922730202450112)), (1666, np.float64(0.2292273020245011)), (4448, np.float64(0.22869997834002243)), (2257, np.float64(0.2285751604412472)), (3664, np.float64(0.228294166813314)), (1141, np.float64(0.22820695179676342)), (3292, np.float64(0.2278239136530314)), (1717, np.float64(0.22742941307367104)), (1628, np.float64(0.22742941307367098)), (1939, np.float64(0.22742941307367098)), (2025, np.float64(0.22627786434233255)), (196, np.float64(0.225572815378642)), (711, np.float64(0.225572815378642)), (4308, np.float64(0.22395700438234167)), (1899, np.float64(0.2228712470801046)), (3311, np.float64(0.22145461294330657)), (4215, np.float64(0.2206389394058766)), (1729, np.float64(0.22037063867676332)), (3672, np.float64(0.22026447615240016)), (1488, np.float64(0.2194469320923768)), (3980, np.float64(0.2190342712773574)), (3380, np.float64(0.21884405476620422)), (1200, np.float64(0.2185568577202031)), (2030, np.float64(0.2185071122187689)), (2429, np.float64(0.2166445612065605)), (1744, np.float64(0.21643590801242596)), (1637, np.float64(0.21619130152100108)), (2655, np.float64(0.21586644588817272)), (4781, np.float64(0.21575848566842282)), (3813, np.float64(0.2155480921657569)), (2595, np.float64(0.21531408048872458)), (4529, np.float64(0.21401846947466358)), (3874, np.float64(0.2124642695389533)), (4383, np.float64(0.2123870519207246)), (970, np.float64(0.21224998378646018)), (3484, np.float64(0.2122232436309164)), (1988, np.float64(0.21114868865730554)), (205, np.float64(0.21086633159507226)), (808, np.float64(0.21086633159507226)), (339, np.float64(0.21068312883972518)), (409, np.float64(0.21068312883972518)), (3091, np.float64(0.2105587219030789)), (1794, np.float64(0.21011515974645167)), (1396, np.float64(0.2100902925755561)), (1444, np.float64(0.20890725544918332)), (1009, np.float64(0.20870354281618947)), (3456, np.float64(0.20870354281618947)), (182, np.float64(0.2084769619841984)), (60, np.float64(0.20814536170751838)), (4513, np.float64(0.2076136996343499)), (3337, np.float64(0.20689655172413787)), (2701, np.float64(0.20646981379633766)), (4478, np.float64(0.2063678282066151)), (444, np.float64(0.2063386802081354)), (1042, np.float64(0.2060104810498419)), (1249, np.float64(0.2060104810498419)), (2375, np.float64(0.20571764439712248)), (4020, np.float64(0.2054966801610707)), (2487, np.float64(0.20513569798540737)), (2510, np.float64(0.20506619579876548)), (867, np.float64(0.20506619579876545)), (193, np.float64(0.20502713185026386)), (2961, np.float64(0.20341905108624309)), (939, np.float64(0.20300517669800952)), (3945, np.float64(0.20300517669800952)), (1537, np.float64(0.2030051766980095)), (4794, np.float64(0.20215947828770756)), (3676, np.float64(0.201744791741726)), (450, np.float64(0.20174479174172594)), (423, np.float64(0.200111203789521)), (1136, np.float64(0.19975354272831386)), (313, np.float64(0.19975354272831383)), (4665, np.float64(0.19975354272831383)), (610, np.float64(0.19965487463499915)), (3226, np.float64(0.19904393642617305)), (2112, np.float64(0.19851666679418603)), (4488, np.float64(0.19851666679418603)), (3860, np.float64(0.19843281603361565)), (3638, np.float64(0.1983995823447238)), (4381, np.float64(0.1983995823447238)), (2076, np.float64(0.19839958234472377)), (2348, np.float64(0.19795189561622395)), (1118, np.float64(0.1976363224706411)), (4101, np.float64(0.19710549133051483)), (530, np.float64(0.19695964928958384)), (1643, np.float64(0.19695964928958382)), (3688, np.float64(0.19695964928958382)), (2303, np.float64(0.1969596492895838)), (1020, np.float64(0.1965539647202624)), (2877, np.float64(0.19598217601385234)), (3306, np.float64(0.19596237883454898)), (4783, np.float64(0.19596237883454898)), (3635, np.float64(0.1957400731715678)), (3636, np.float64(0.1957400731715678)), (1815, np.float64(0.1956059586829401)), (4408, np.float64(0.19506393963766827)), (482, np.float64(0.1947589137440405)), (3072, np.float64(0.1947589137440405)), (2748, np.float64(0.19395245515057077)), (2045, np.float64(0.1936267581027149)), (206, np.float64(0.19327783587126707)), (3846, np.float64(0.19301216174448899)), (826, np.float64(0.19178532059415362)), (1025, np.float64(0.19178532059415362)), (2948, np.float64(0.1917853205941536)), (4579, np.float64(0.1917853205941536)), (2980, np.float64(0.19170644527903724)), (2465, np.float64(0.1917064452790372)), (4733, np.float64(0.1916549873676877)), (1021, np.float64(0.1915301171270229)), (919, np.float64(0.19131158091484035)), (2270, np.float64(0.19107892658954456)), (4147, np.float64(0.19107892658954456)), (4229, np.float64(0.19107892658954456)), (4656, np.float64(0.1896892432256037)), (1568, np.float64(0.18960514247076024)), (3542, np.float64(0.18952451089472583)), (3609, np.float64(0.18952451089472583)), (4187, np.float64(0.18952451089472583)), (4341, np.float64(0.18923271008903098)), (2584, np.float64(0.18866665225463128)), (3392, np.float64(0.18866665225463125)), (4324, np.float64(0.18866665225463125)), (4026, np.float64(0.18865612368785198)), (1117, np.float64(0.1886045806450373)), (4780, np.float64(0.18850480693386598)), (2508, np.float64(0.18850480693386595)), (3694, np.float64(0.1880410564866234)), (3393, np.float64(0.1876196935966141)), (3769, np.float64(0.1876196935966141)), (4801, np.float64(0.18699847934493766)), (4067, np.float64(0.18685232967091492)), (1279, np.float64(0.18646746349572282)), (3166, np.float64(0.18569533817705183)), (4150, np.float64(0.18569533817705183)), (2863, np.float64(0.18493272576324882)), (4453, np.float64(0.18493272576324882)), (3089, np.float64(0.1845595762188889)), (246, np.float64(0.18441906643360348)), (3959, np.float64(0.18406877833129467)), (782, np.float64(0.18386578283823052)), (1053, np.float64(0.18382900600361157)), (1150, np.float64(0.18382900600361157)), (2209, np.float64(0.18343527014039426)), (1854, np.float64(0.18316875326179907)), (3375, np.float64(0.18287244341031403)), (1427, np.float64(0.18286012835299778)), (2492, np.float64(0.18286012835299775)), (3087, np.float64(0.18286012835299775)), (3168, np.float64(0.18286012835299775)), (3858, np.float64(0.18286012835299775)), (3617, np.float64(0.18286012835299773)), (4045, np.float64(0.18234920215644929)), (10, np.float64(0.18234920215644926)), (3432, np.float64(0.18234920215644926)), (1984, np.float64(0.18234920215644923)), (2890, np.float64(0.18234920215644923)), (4395, np.float64(0.18208926018230742)), (2659, np.float64(0.18197361122800385)), (868, np.float64(0.18197361122800382)), (238, np.float64(0.18194353045893677)), (583, np.float64(0.18194353045893677)), (758, np.float64(0.18036325667702163)), (1086, np.float64(0.18036325667702163)), (1618, np.float64(0.18036325667702163)), (2088, np.float64(0.18036325667702163)), (1260, np.float64(0.18025917091861168)), (3766, np.float64(0.18025917091861168)), (821, np.float64(0.18025917091861163)), (2799, np.float64(0.18021638957923647)), (3843, np.float64(0.18021638957923647)), (1052, np.float64(0.18015093964441795)), (2611, np.float64(0.18015093964441795)), (3801, np.float64(0.18015093964441795)), (4667, np.float64(0.18015093964441795)), (232, np.float64(0.18015093964441792)), (4630, np.float64(0.1799318730164366)), (252, np.float64(0.17915214404572552)), (264, np.float64(0.1791521440457255)), (2458, np.float64(0.1791521440457255)), (2871, np.float64(0.17868542247296582)), (4670, np.float64(0.17841031003501576)), (1483, np.float64(0.17841031003501573)), (3088, np.float64(0.1781567060546016)), (640, np.float64(0.17778975055468985)), (2769, np.float64(0.1775587046473901)), (2919, np.float64(0.17755870464739007)), (3299, np.float64(0.17755870464739007)), (3800, np.float64(0.17755870464739007)), (790, np.float64(0.17727753470907495)), (115, np.float64(0.17705355794912775)), (2771, np.float64(0.17705355794912775)), (893, np.float64(0.17700595650776493)), (1665, np.float64(0.17688954350174413)), (4226, np.float64(0.17688954350174413)), (4491, np.float64(0.17688954350174413)), (3195, np.float64(0.1768895435017441)), (1599, np.float64(0.1764579733716888)), (4345, np.float64(0.1764579733716888)), (197, np.float64(0.17616606585441105)), (3389, np.float64(0.17616606585441102)), (3644, np.float64(0.17616606585441102)), (3853, np.float64(0.17616606585441102)), (3861, np.float64(0.17616606585441102)), (4681, np.float64(0.17616606585441102)), (1870, np.float64(0.17546560158589908)), (1954, np.float64(0.17546560158589908)), (921, np.float64(0.17515568270708254)), (2364, np.float64(0.1750752438129634)), (512, np.float64(0.17507524381296338)), (3785, np.float64(0.17507524381296338)), (3421, np.float64(0.1742406958490324)), (4464, np.float64(0.1742406958490324)), (1263, np.float64(0.17391961901349123)), (3729, np.float64(0.17391961901349123)), (4732, np.float64(0.1739196190134912)), (3961, np.float64(0.17388180629013678)), (316, np.float64(0.17388180629013672)), (2935, np.float64(0.17370208344491278)), (4659, np.float64(0.17370208344491278)), (1805, np.float64(0.1726931567105382)), (3622, np.float64(0.1726931567105382)), (1773, np.float64(0.1726353256579447)), (2358, np.float64(0.1726353256579447)), (3692, np.float64(0.1726353256579447)), (706, np.float64(0.17241379310344826)), (1255, np.float64(0.17241379310344823)), (2010, np.float64(0.1723771054143206)), (3508, np.float64(0.17192047651837583)), (4169, np.float64(0.17192047651837583)), (3575, np.float64(0.1714152727328595)), (443, np.float64(0.17094641498783947)), (471, np.float64(0.17094641498783947)), (1458, np.float64(0.17094641498783947)), (3738, np.float64(0.17094641498783947)), (448, np.float64(0.17094641498783944)), (592, np.float64(0.17094641498783944)), (1776, np.float64(0.1709061875687655)), (2678, np.float64(0.17068094718295976)), (3555, np.float64(0.17068094718295973)), (11, np.float64(0.17057205980525325)), (387, np.float64(0.17057205980525325)), (1466, np.float64(0.17057205980525325)), (164, np.float64(0.17040572913692198)), (716, np.float64(0.17040572913692198)), (3653, np.float64(0.17040572913692198)), (1809, np.float64(0.17022072666229754)), (1886, np.float64(0.17022072666229754)), (4245, np.float64(0.17022072666229754)), (2501, np.float64(0.1699096415365797)), (591, np.float64(0.16951587590520256)), (3827, np.float64(0.16951587590520256)), (3947, np.float64(0.16951587590520256)), (963, np.float64(0.16951587590520253)), (225, np.float64(0.16882255653392897)), (788, np.float64(0.16882255653392897)), (1096, np.float64(0.16882255653392897)), (3390, np.float64(0.16882255653392897)), (576, np.float64(0.168206853412472)), (1742, np.float64(0.168206853412472)), (3532, np.float64(0.168206853412472)), (4275, np.float64(0.16812065978477164)), (1091, np.float64(0.16812065978477161)), (857, np.float64(0.16796775328675628)), (2805, np.float64(0.16796775328675626)), (1668, np.float64(0.16796775328675623)), (2253, np.float64(0.16796775328675623)), (3219, np.float64(0.16796775328675623)), (3350, np.float64(0.16796775328675623)), (4303, np.float64(0.16796775328675623)), (4756, np.float64(0.16796775328675623)), (3985, np.float64(0.16781215551988443)), (664, np.float64(0.1678121555198844)), (1132, np.float64(0.1678121555198844)), (3832, np.float64(0.1678121555198844)), (4683, np.float64(0.1678121555198844)), (446, np.float64(0.16712580435934665)), (2369, np.float64(0.16712580435934665)), (2469, np.float64(0.16712580435934665)), (4174, np.float64(0.16712580435934665)), (2998, np.float64(0.16702144855500403)), (4373, np.float64(0.1667815695873587)), (599, np.float64(0.16646128560692822)), (4743, np.float64(0.1664309620279159)), (714, np.float64(0.16609095970747992)), (844, np.float64(0.16609095970747992)), (879, np.float64(0.16609095970747992)), (1947, np.float64(0.16609095970747992)), (3599, np.float64(0.16609095970747992)), (4208, np.float64(0.16609095970747992)), (1281, np.float64(0.1656806891104139)), (274, np.float64(0.165574345828613)), (997, np.float64(0.16547920455440746)), (3111, np.float64(0.16547920455440746)), (4082, np.float64(0.16547920455440746)), (3300, np.float64(0.16508332072280235)), (4452, np.float64(0.16508332072280235)), (4578, np.float64(0.16508332072280235)), (2297, np.float64(0.16502033585949383)), (4639, np.float64(0.16460132459708)), (1472, np.float64(0.16427570345801804)), (1478, np.float64(0.16427570345801804)), (4255, np.float64(0.16427570345801804)), (1362, np.float64(0.1641330410746532)), (2346, np.float64(0.1641330410746532)), (2605, np.float64(0.1641330410746532)), (2625, np.float64(0.1641330410746532)), (280, np.float64(0.1640529566390124)), (1044, np.float64(0.1640529566390124)), (2794, np.float64(0.1640529566390124)), (1231, np.float64(0.16388033416407669)), (2012, np.float64(0.16388033416407669)), (4674, np.float64(0.16388033416407669)), (673, np.float64(0.1628655854961141)), (2357, np.float64(0.1628655854961141)), (2599, np.float64(0.16286558549611407)), (2191, np.float64(0.16250440681665204)), (2221, np.float64(0.16250440681665204)), (538, np.float64(0.16248342090492035)), (1230, np.float64(0.16248342090492035)), (1582, np.float64(0.16248342090492035)), (3022, np.float64(0.16248342090492035)), (3104, np.float64(0.16248342090492032)), (282, np.float64(0.16232693100931947)), (2242, np.float64(0.16232693100931947)), (2940, np.float64(0.16232693100931947)), (3902, np.float64(0.16232693100931947)), (4142, np.float64(0.16232693100931947)), (1948, np.float64(0.16208817969462158)), (727, np.float64(0.16201971583530764)), (1415, np.float64(0.16162704595880897)), (1730, np.float64(0.16081688022566923)), (2119, np.float64(0.16081688022566923)), (2416, np.float64(0.16081688022566923)), (3209, np.float64(0.16081688022566923)), (4004, np.float64(0.16081688022566923)), (4465, np.float64(0.16081688022566923)), (1435, np.float64(0.160416339428808)), (1499, np.float64(0.160416339428808)), (69, np.float64(0.1602834894354785)), (1178, np.float64(0.16019234629265464)), (1376, np.float64(0.16019234629265464)), (2062, np.float64(0.16019234629265464)), (2156, np.float64(0.16019234629265464)), (2053, np.float64(0.16000261230887305)), (672, np.float64(0.16000261230887303)), (954, np.float64(0.16000261230887303)), (1847, np.float64(0.15998577967379315)), (493, np.float64(0.1598736645815666)), (1085, np.float64(0.15934820215421497)), (2653, np.float64(0.15934820215421497)), (2921, np.float64(0.15934820215421497)), (3378, np.float64(0.15934820215421497)), (139, np.float64(0.1592324388246205)), (3731, np.float64(0.1592324388246205)), (4785, np.float64(0.1592324388246205)), (1039, np.float64(0.15923243882462046)), (4233, np.float64(0.15916743272318729)), (1955, np.float64(0.15854028778206747)), (1297, np.float64(0.15836151649297917)), (3010, np.float64(0.15836151649297917)), (3900, np.float64(0.15836151649297917)), (286, np.float64(0.15807436935466979)), (1329, np.float64(0.15791904142730917)), (2336, np.float64(0.15791904142730917)), (137, np.float64(0.15781069215799978)), (405, np.float64(0.1576320721888657)), (1722, np.float64(0.15763207218886569)), (1783, np.float64(0.15756771943166706)), (2246, np.float64(0.15756771943166706)), (747, np.float64(0.1569412051435861)), (1910, np.float64(0.1569412051435861)), (1707, np.float64(0.15666400527136837)), (557, np.float64(0.15659205853725425)), (1559, np.float64(0.15659205853725425)), (1784, np.float64(0.15659205853725425)), (2179, np.float64(0.15659205853725425)), (2211, np.float64(0.15659205853725425)), (2362, np.float64(0.15659205853725425)), (4435, np.float64(0.15659205853725425)), (652, np.float64(0.1565276571121421)), (2107, np.float64(0.1565276571121421)), (710, np.float64(0.15583206612078138)), (1320, np.float64(0.15583206612078138)), (4592, np.float64(0.15583206612078138)), (3585, np.float64(0.15575050474186472)), (2567, np.float64(0.15536386656646634)), (2657, np.float64(0.15536386656646634)), (1418, np.float64(0.1553638665664663)), (1855, np.float64(0.1553638665664663)), (1018, np.float64(0.15517241379310343)), (2150, np.float64(0.15517241379310343)), (3106, np.float64(0.15517241379310343)), (1221, np.float64(0.15488061853247326)), (1966, np.float64(0.15488061853247326)), (62, np.float64(0.15474611514754322)), (1026, np.float64(0.15474611514754322)), (1875, np.float64(0.15474611514754322)), (1829, np.float64(0.15450786078738143)), (1895, np.float64(0.15450786078738143)), (3684, np.float64(0.15450786078738143)), (3818, np.float64(0.15450786078738143)), (4403, np.float64(0.15450786078738143)), (4518, np.float64(0.15391353034994268)), (217, np.float64(0.15385177348905552)), (1184, np.float64(0.15385177348905552)), (1813, np.float64(0.15385177348905552)), (3605, np.float64(0.15385177348905552)), (3552, np.float64(0.1537703488876979)), (824, np.float64(0.15368255536133624)), (823, np.float64(0.15322409370161832)), (962, np.float64(0.15322409370161832)), (3030, np.float64(0.15322409370161832)), (3702, np.float64(0.15322409370161832)), (152, np.float64(0.15319083833634298)), (1194, np.float64(0.15319083833634298)), (1945, np.float64(0.15319083833634298)), (2440, np.float64(0.15319083833634298)), (3571, np.float64(0.15319083833634298)), (1197, np.float64(0.15319083833634295)), (2541, np.float64(0.1531029945087537)), (1171, np.float64(0.1526406277181659)), (3946, np.float64(0.1526406277181659)), (551, np.float64(0.15264062771816586)), (607, np.float64(0.15264062771816586)), (1367, np.float64(0.15264062771816586)), (2082, np.float64(0.15264062771816586)), (1242, np.float64(0.15256428831468233)), (3159, np.float64(0.15256428831468233)), (1399, np.float64(0.15161960871578067)), (2033, np.float64(0.15161960871578067)), (2224, np.float64(0.15161960871578067)), (2651, np.float64(0.15161960871578067)), (2723, np.float64(0.15161960871578067)), (2803, np.float64(0.15161960871578067)), (3121, np.float64(0.15161960871578067)), (3346, np.float64(0.15161960871578067)), (3593, np.float64(0.15161960871578067)), (4567, np.float64(0.15161960871578067)), (4697, np.float64(0.15161960871578067)), (1204, np.float64(0.15161960871578065)), (2591, np.float64(0.15161960871578065)), (4559, np.float64(0.15161960871578065)), (1343, np.float64(0.15141119678398096)), (1852, np.float64(0.15141119678398096)), (2066, np.float64(0.15141119678398096)), (283, np.float64(0.15110651212172094)), (1616, np.float64(0.15110651212172094)), (1743, np.float64(0.15110651212172094)), (1957, np.float64(0.15110651212172094)), (2548, np.float64(0.15110651212172094)), (2979, np.float64(0.15110651212172094)), (3433, np.float64(0.15110651212172094)), (3515, np.float64(0.15110651212172094)), (3814, np.float64(0.15110651212172094)), (4154, np.float64(0.15110651212172094)), (4727, np.float64(0.15110651212172094)), (1038, np.float64(0.15061880828219446)), (1413, np.float64(0.15061880828219446)), (4412, np.float64(0.15061880828219446)), (491, np.float64(0.15008340284214075)), (1189, np.float64(0.15008340284214075)), (3934, np.float64(0.15006449469682576)), (4413, np.float64(0.15006449469682576)), (1525, np.float64(0.14963756781552728)), (2077, np.float64(0.14963756781552728)), (3095, np.float64(0.14913985197179874)), (2220, np.float64(0.14910501299480672)), (2790, np.float64(0.14910501299480672)), (2854, np.float64(0.14910501299480672)), (4132, np.float64(0.14910501299480672)), (4140, np.float64(0.14910501299480672)), (4162, np.float64(0.14910501299480672)), (4311, np.float64(0.14910501299480672)), (3798, np.float64(0.14897546908416875)), (3825, np.float64(0.14897546908416875)), (877, np.float64(0.14888750009563953)), (1050, np.float64(0.14888750009563953)), (1421, np.float64(0.14888750009563953)), (4627, np.float64(0.1488875000956395)), (2906, np.float64(0.14855627054164147)), (2382, np.float64(0.1474154735401968)), (1384, np.float64(0.147180996735913)), (4374, np.float64(0.147180996735913)), (4459, np.float64(0.147180996735913)), (129, np.float64(0.1470926262705844)), (171, np.float64(0.1470926262705844)), (1538, np.float64(0.1470926262705844)), (3369, np.float64(0.1470926262705844)), (4238, np.float64(0.1470926262705844)), (2293, np.float64(0.14680505487867584)), (2923, np.float64(0.14680505487867584)), (3301, np.float64(0.14680505487867584)), (3807, np.float64(0.14680505487867584)), (3994, np.float64(0.14680505487867584)), (4454, np.float64(0.14680505487867584)), (4562, np.float64(0.14680505487867584)), (38, np.float64(0.14657902694650268)), (615, np.float64(0.1462979547282512)), (2344, np.float64(0.1462979547282512)), (3596, np.float64(0.1462979547282512)), (3977, np.float64(0.1462979547282512)), (4706, np.float64(0.14602284751823824)), (560, np.float64(0.14589603651080282)), (4522, np.float64(0.14583745334752837)), (335, np.float64(0.14567140814584595)), (388, np.float64(0.14567140814584595)), (575, np.float64(0.14567140814584595)), (2235, np.float64(0.14567140814584595)), (3102, np.float64(0.14567140814584595)), (4186, np.float64(0.14567140814584595)), (103, np.float64(0.14546434136292807)), (1689, np.float64(0.14546434136292807)), (2915, np.float64(0.14546434136292807)), (2207, np.float64(0.14532958974404495)), (163, np.float64(0.14532958974404492)), (500, np.float64(0.14532958974404492)), (1456, np.float64(0.14532958974404492)), (2325, np.float64(0.14532958974404492)), (1920, np.float64(0.1443747054859272)), (4382, np.float64(0.1443747054859272)), (1079, np.float64(0.1442906053416173)), (2359, np.float64(0.1442906053416173)), (2571, np.float64(0.1442906053416173)), (4451, np.float64(0.14429060534161728)), (1104, np.float64(0.14412753434733405)), (1002, np.float64(0.1438389904456152)), (3513, np.float64(0.1438389904456152)), (4328, np.float64(0.1438389904456152)), (4591, np.float64(0.1438389904456152)), (4223, np.float64(0.1437539540855694)), (174, np.float64(0.14354633705913586)), (1507, np.float64(0.14354633705913586)), (1649, np.float64(0.14354633705913586)), (14, np.float64(0.14354633705913583)), (96, np.float64(0.14354633705913583)), (883, np.float64(0.14354633705913583)), (1659, np.float64(0.14354633705913583)), (2154, np.float64(0.14354633705913583)), (2819, np.float64(0.14354633705913583)), (3181, np.float64(0.14354633705913583)), (3379, np.float64(0.14330919494215844)), (1308, np.float64(0.1432670637653132)), (1406, np.float64(0.1432670637653132)), (2759, np.float64(0.1432670637653132)), (2768, np.float64(0.1432670637653132)), (3288, np.float64(0.1432670637653132)), (132, np.float64(0.14294833797837267)), (2400, np.float64(0.14294833797837267)), (140, np.float64(0.14294833797837264)), (1115, np.float64(0.14294833797837264)), (3105, np.float64(0.14294833797837264)), (3877, np.float64(0.14294833797837264)), (3650, np.float64(0.14242182297397124)), (983, np.float64(0.1423180799787985)), (2545, np.float64(0.1422669324192028)), (1487, np.float64(0.14214338317104439)), (112, np.float64(0.14182715723279388)), (1884, np.float64(0.14182715723279385)), (1909, np.float64(0.14182715723279385)), (2726, np.float64(0.14182715723279385)), (3057, np.float64(0.14182715723279385)), (3443, np.float64(0.14182715723279385)), (4644, np.float64(0.14182715723279385)), (2023, np.float64(0.1416428463593022)), (2298, np.float64(0.1416428463593022)), (2347, np.float64(0.1416428463593022)), (4319, np.float64(0.1416322057217663)), (247, np.float64(0.14149998919097345)), (562, np.float64(0.14149998919097345)), (1124, np.float64(0.14149998919097345)), (1436, np.float64(0.14149998919097345)), (2236, np.float64(0.14149998919097345)), (3261, np.float64(0.14149998919097345)), (3763, np.float64(0.14149998919097345)), (4585, np.float64(0.14149998919097345)), (969, np.float64(0.1412470846292275)), (1532, np.float64(0.1412470846292275)), (2684, np.float64(0.1407896366646535)), (518, np.float64(0.14037248126871926)), (2048, np.float64(0.14037248126871926)), (2081, np.float64(0.14037248126871926)), (3246, np.float64(0.14037248126871926)), (3273, np.float64(0.14037248126871926)), (2287, np.float64(0.14024885950870325)), (3677, np.float64(0.14024885950870325)), (82, np.float64(0.1401683030060728)), (545, np.float64(0.1401683030060728)), (1457, np.float64(0.1401683030060728)), (3876, np.float64(0.1401683030060728)), (613, np.float64(0.13997312773896353)), (1857, np.float64(0.13997312773896353)), (2309, np.float64(0.13997312773896353)), (2978, np.float64(0.13997312773896353)), (3649, np.float64(0.13997312773896353)), (4133, np.float64(0.13997312773896353)), (4195, np.float64(0.13997312773896353)), (3808, np.float64(0.13981874151154167)), (285, np.float64(0.1392715036327889)), (292, np.float64(0.13927150363278887)), (676, np.float64(0.13927150363278887)), (1925, np.float64(0.13927150363278887)), (1949, np.float64(0.13927150363278887)), (2244, np.float64(0.13927150363278887)), (3354, np.float64(0.13927150363278887)), (4119, np.float64(0.13927150363278887)), (281, np.float64(0.13913569521079297)), (386, np.float64(0.13913569521079297)), (1305, np.float64(0.13913569521079297)), (3760, np.float64(0.13913569521079297)), (535, np.float64(0.1385663269313568)), (729, np.float64(0.13856632693135676)), (851, np.float64(0.13856632693135676)), (1068, np.float64(0.13856632693135676)), (1092, np.float64(0.13856632693135676)), (2009, np.float64(0.13856632693135676)), (2052, np.float64(0.13856632693135676)), (2373, np.float64(0.13856632693135676)), (1832, np.float64(0.1384091330895666)), (1113, np.float64(0.1379310344827586)), (1555, np.float64(0.1379310344827586)), (1816, np.float64(0.1379310344827586)), (496, np.float64(0.13764654253089179)), (2363, np.float64(0.1373765649463493)), (2513, np.float64(0.13737656494634928)), (122, np.float64(0.13714509626474833)), (4560, np.float64(0.13714509626474833)), (1423, np.float64(0.1371450962647483)), (2312, np.float64(0.1371450962647483)), (629, np.float64(0.13701805122009747)), (1193, np.float64(0.13701805122009747)), (2383, np.float64(0.13701805122009747)), (3063, np.float64(0.13701805122009747)), (3064, np.float64(0.13701805122009747)), (3470, np.float64(0.13701805122009747)), (4166, np.float64(0.13701805122009747)), (1195, np.float64(0.13689641954834836)), (1234, np.float64(0.13689641954834836)), (1529, np.float64(0.13675713199027156)), (3190, np.float64(0.13675713199027156)), (4603, np.float64(0.13675713199027156)), (2001, np.float64(0.13645764784420258)), (3666, np.float64(0.13623212448504485)), (4532, np.float64(0.1361584280828961)), (403, np.float64(0.13561270072416204)), (873, np.float64(0.13561270072416204)), (1440, np.float64(0.13561270072416204)), (1617, np.float64(0.13561270072416204)), (1903, np.float64(0.13561270072416204)), (3068, np.float64(0.13561270072416204)), (3361, np.float64(0.13561270072416204)), (3494, np.float64(0.13561270072416204)), (4637, np.float64(0.13561270072416204)), (2535, np.float64(0.13555692745397502)), (2989, np.float64(0.13555692745397502)), (7, np.float64(0.13552054121591411)), (784, np.float64(0.13552054121591411)), (1760, np.float64(0.13552054121591411)), (2627, np.float64(0.13552054121591411)), (902, np.float64(0.1355205412159141)), (4068, np.float64(0.1355205412159141)), (700, np.float64(0.13511320473331345)), (761, np.float64(0.13511320473331345)), (974, np.float64(0.13511320473331345)), (1663, np.float64(0.13511320473331345)), (1820, np.float64(0.13511320473331345)), (2934, np.float64(0.13511320473331345)), (3761, np.float64(0.13511320473331345)), (4037, np.float64(0.13511320473331345)), (2649, np.float64(0.13478996693836337)), (750, np.float64(0.1344965278278173)), (1162, np.float64(0.1344965278278173)), (2361, np.float64(0.1344965278278173)), (2494, np.float64(0.1344965278278173)), (2983, np.float64(0.1344965278278173)), (3857, np.float64(0.1344965278278173)), (372, np.float64(0.13407108198891604)), (870, np.float64(0.13407108198891604)), (2770, np.float64(0.13407108198891604)), (2787, np.float64(0.13407108198891604)), (3182, np.float64(0.13407108198891604)), (1782, np.float64(0.134071081988916)), (44, np.float64(0.13401406685472436)), (668, np.float64(0.13401406685472436)), (1152, np.float64(0.13401406685472436)), (1289, np.float64(0.13401406685472436)), (1490, np.float64(0.13401406685472436)), (2188, np.float64(0.13401406685472436)), (2478, np.float64(0.13401406685472436)), (2710, np.float64(0.13401406685472436)), (3059, np.float64(0.13401406685472436)), (3225, np.float64(0.13401406685472436)), (3794, np.float64(0.13401406685472436)), (4204, np.float64(0.13401406685472436)), (4490, np.float64(0.13401406685472436)), (4535, np.float64(0.13401406685472436)), (904, np.float64(0.13340746919301402)), (2815, np.float64(0.133407469193014)), (3156, np.float64(0.133407469193014)), (4283, np.float64(0.13316902848554257)), (927, np.float64(0.13316902848554255)), (1696, np.float64(0.13316902848554255)), (2018, np.float64(0.13316902848554255)), (2163, np.float64(0.13316902848554255)), (2658, np.float64(0.13316902848554255)), (1690, np.float64(0.1326671576263081)), (2232, np.float64(0.1326671576263081)), (2943, np.float64(0.1326671576263081)), (3368, np.float64(0.1326671576263081)), (4287, np.float64(0.1326671576263081)), (4127, np.float64(0.13240525061790773)), (155, np.float64(0.13234444452945734)), (224, np.float64(0.13234444452945734)), (1313, np.float64(0.13234444452945734)), (4090, np.float64(0.13212454939080825)), (203, np.float64(0.13130643285972254)), (308, np.float64(0.13130643285972254)), (328, np.float64(0.13130643285972254)), (636, np.float64(0.13130643285972254)), (771, np.float64(0.13130643285972254)), (989, np.float64(0.13130643285972254)), (1341, np.float64(0.13130643285972254)), (1433, np.float64(0.13130643285972254)), (1515, np.float64(0.13130643285972254)), (1860, np.float64(0.13130643285972254)), (2003, np.float64(0.13130643285972254)), (2057, np.float64(0.13130643285972254)), (2130, np.float64(0.13130643285972254)), (2279, np.float64(0.13130643285972254)), (2504, np.float64(0.13130643285972254)), (2732, np.float64(0.13130643285972254)), (3076, np.float64(0.13130643285972254)), (3234, np.float64(0.13130643285972254)), (3592, np.float64(0.13130643285972254)), (3940, np.float64(0.13130643285972254)), (3991, np.float64(0.13130643285972254)), (4358, np.float64(0.13130643285972254)), (4428, np.float64(0.13130643285972254)), (4547, np.float64(0.13130643285972254)), (4738, np.float64(0.13130643285972254)), (4576, np.float64(0.13130643285972252)), (4800, np.float64(0.13065478400923491)), (1546, np.float64(0.13029246839689126)), (4075, np.float64(0.13029246839689126)), (4748, np.float64(0.13029246839689126)), (1001, np.float64(0.1299867367239363)), (241, np.float64(0.12951986753290365)), (402, np.float64(0.12951986753290365)), (741, np.float64(0.12951986753290365)), (1004, np.float64(0.12951986753290365)), (1754, np.float64(0.12951986753290365)), (1838, np.float64(0.12951986753290365)), (3583, np.float64(0.12951986753290365)), (469, np.float64(0.12930163676704717)), (2780, np.float64(0.12930163676704717)), (35, np.float64(0.1287565506561512)), (237, np.float64(0.1287565506561512)), (3211, np.float64(0.1287565506561512)), (1149, np.float64(0.12870604798676136)), (4121, np.float64(0.12870604798676136)), (289, np.float64(0.12870604798676133)), (918, np.float64(0.12870604798676133)), (1748, np.float64(0.12870604798676133)), (2607, np.float64(0.12870604798676133)), (2860, np.float64(0.12870604798676133)), (682, np.float64(0.1283330715430464)), (3926, np.float64(0.1283330715430464)), (4787, np.float64(0.1283330715430464)), (1539, np.float64(0.1281796406765741)), (21, np.float64(0.12780429685269148)), (130, np.float64(0.12780429685269148)), (499, np.float64(0.12780429685269148)), (1481, np.float64(0.12780429685269148)), (66, np.float64(0.1274624821276152)), (165, np.float64(0.1274624821276152)), (1557, np.float64(0.1274624821276152)), (1700, np.float64(0.1274624821276152)), (3935, np.float64(0.1274624821276152)), (277, np.float64(0.12743223115243477)), (4109, np.float64(0.12743223115243477)), (892, np.float64(0.12738595105969638)), (2776, np.float64(0.12738595105969638)), (4407, np.float64(0.12738595105969638)), (304, np.float64(0.12697168670714545)), (1567, np.float64(0.1264594954837358)), (1758, np.float64(0.1264594954837358)), (4728, np.float64(0.1264594954837358)), (1419, np.float64(0.12634967392981722)), (3601, np.float64(0.12634967392981722)), (3777, np.float64(0.12634967392981722)), (4521, np.float64(0.12634967392981722)), (58, np.float64(0.12625427967391514)), (351, np.float64(0.12625427967391514)), (702, np.float64(0.12625427967391514)), (3815, np.float64(0.12625427967391514)), (2675, np.float64(0.12625427967391512)), (3842, np.float64(0.12625427967391512)), (4335, np.float64(0.12625427967391512)), (439, np.float64(0.126155140059354)), (922, np.float64(0.126155140059354)), (2936, np.float64(0.126155140059354)), (3681, np.float64(0.126155140059354)), (3691, np.float64(0.126155140059354)), (3957, np.float64(0.126155140059354)), (3377, np.float64(0.12571633824268597)), (589, np.float64(0.12555296411486888)), (4759, np.float64(0.12555296411486888)), (30, np.float64(0.12507979573107608)), (3328, np.float64(0.12507979573107608)), (3358, np.float64(0.12507979573107605)), (809, np.float64(0.12466565289662511)), (3581, np.float64(0.12466565289662511)), (3878, np.float64(0.12466565289662511)), (380, np.float64(0.12456821978060995)), (835, np.float64(0.12456821978060993)), (2104, np.float64(0.12456821978060993)), (2518, np.float64(0.12456821978060993)), (2821, np.float64(0.12456821978060993)), (3669, np.float64(0.12456821978060993)), (4228, np.float64(0.12456821978060993)), (495, np.float64(0.12407291674636627)), (903, np.float64(0.12407291674636627)), (2503, np.float64(0.12407291674636627)), (2560, np.float64(0.12407291674636627)), (3440, np.float64(0.12407291674636627)), (3687, np.float64(0.12407291674636627)), (4402, np.float64(0.12407291674636627)), (180, np.float64(0.12393749056438944)), (3206, np.float64(0.12393749056438944)), (4384, np.float64(0.12393749056438944)), (3016, np.float64(0.12393749056438942)), (858, np.float64(0.12379689211803457)), (2725, np.float64(0.12379689211803457)), (3830, np.float64(0.12379689211803457)), (416, np.float64(0.1230397174792593)), (2601, np.float64(0.1230397174792593)), (1767, np.float64(0.12303971747925929)), (2693, np.float64(0.12303971747925929)), (3136, np.float64(0.12303971747925929)), (3046, np.float64(0.12282592111012937)), (396, np.float64(0.12282592111012935)), (1646, np.float64(0.12282592111012935)), (3130, np.float64(0.12282592111012935)), (18, np.float64(0.12211250217453272)), (1914, np.float64(0.12211250217453272)), (590, np.float64(0.12191496227354268)), (1839, np.float64(0.12191496227354268)), (1901, np.float64(0.12191496227354268)), (1940, np.float64(0.12191496227354268)), (3332, np.float64(0.12191496227354268)), (3455, np.float64(0.12191496227354268)), (3497, np.float64(0.12191496227354268)), (3749, np.float64(0.12191496227354268)), (4320, np.float64(0.12191496227354268)), (4445, np.float64(0.12191496227354268)), (433, np.float64(0.12191496227354266)), (2223, np.float64(0.12191496227354266)), (3374, np.float64(0.12191496227354266)), (1277, np.float64(0.12188902015977444)), (3052, np.float64(0.12174373330944385)), (3870, np.float64(0.12174373330944385)), (694, np.float64(0.12174373330944384)), (617, np.float64(0.12156613477096617)), (1382, np.float64(0.12156613477096617)), (3618, np.float64(0.12156613477096617)), (287, np.float64(0.12156613477096616)), (651, np.float64(0.12156613477096616)), (855, np.float64(0.12156613477096616)), (1811, np.float64(0.12156613477096616)), (3720, np.float64(0.12156613477096616)), (4085, np.float64(0.12156613477096616)), (1250, np.float64(0.12129568697262451)), (2252, np.float64(0.12129568697262451)), (3520, np.float64(0.12129568697262451)), (1177, np.float64(0.12068965517241377)), (1975, np.float64(0.12068965517241377)), (2084, np.float64(0.12068965517241377)), (3324, np.float64(0.12068965517241377)), (1448, np.float64(0.12068965517241376)), (218, np.float64(0.12049504662575557)), (2132, np.float64(0.12049504662575557)), (4098, np.float64(0.12049504662575557)), (4411, np.float64(0.12049504662575557)), (1605, np.float64(0.12049504662575555)), (1180, np.float64(0.12014425971949098)), (1196, np.float64(0.12014425971949098)), (2245, np.float64(0.12014425971949098)), (4248, np.float64(0.12014425971949098)), (68, np.float64(0.11986582537134602)), (726, np.float64(0.11986582537134602)), (876, np.float64(0.11986582537134602)), (1045, np.float64(0.11986582537134602)), (1090, np.float64(0.11986582537134602)), (1464, np.float64(0.11986582537134602)), (2056, np.float64(0.11986582537134602)), (2953, np.float64(0.11986582537134602)), (3107, np.float64(0.11986582537134602)), (3712, np.float64(0.11986582537134602)), (3713, np.float64(0.11986582537134602)), (4505, np.float64(0.11986582537134602)), (4618, np.float64(0.11986582537134602)), (4773, np.float64(0.11986582537134602)), (1023, np.float64(0.11971005425242182)), (980, np.float64(0.11966249049148761)), (3789, np.float64(0.1189402066900105)), (3495, np.float64(0.11877113736973438)), (3564, np.float64(0.11877113736973438)), (4145, np.float64(0.11877113736973438)), (4621, np.float64(0.11877113736973438)), (630, np.float64(0.11877113736973437)), (869, np.float64(0.11877113736973437)), (946, np.float64(0.11877113736973437)), (1246, np.float64(0.11877113736973437)), (2490, np.float64(0.11877113736973437)), (1371, np.float64(0.11866111313364178)), (2315, np.float64(0.11866111313364178)), (3313, np.float64(0.11832746328499245)), (355, np.float64(0.11818502313938331)), (64, np.float64(0.11791665765914455)), (762, np.float64(0.11791665765914455)), (1259, np.float64(0.11791665765914455)), (1477, np.float64(0.11791665765914455)), (1511, np.float64(0.11791665765914455)), (2181, np.float64(0.11791665765914455)), (3363, np.float64(0.11791665765914455)), (1392, np.float64(0.11768446184934013)), (2435, np.float64(0.11768446184934013)), (4168, np.float64(0.11768446184934013)), (2550, np.float64(0.11744404390294069)), (1795, np.float64(0.11744404390294068)), (2321, np.float64(0.11744404390294068)), (2661, np.float64(0.11744404390294068)), (2761, np.float64(0.11744404390294068)), (3101, np.float64(0.11744404390294068)), (3851, np.float64(0.11744404390294068)), (3920, np.float64(0.11744404390294068)), (2996, np.float64(0.11697706772393274)), (1330, np.float64(0.11673153554388724)), (3370, np.float64(0.11671682920864225)), (438, np.float64(0.11616046389935494)), (614, np.float64(0.11616046389935494)), (988, np.float64(0.11616046389935494)), (1629, np.float64(0.11616046389935494)), (1797, np.float64(0.11616046389935494)), (2707, np.float64(0.11616046389935494)), (2848, np.float64(0.11616046389935494)), (3942, np.float64(0.11616046389935493)), (976, np.float64(0.1160595863606574)), (1175, np.float64(0.1160595863606574)), (2396, np.float64(0.1160595863606574)), (2737, np.float64(0.1160595863606574)), (3012, np.float64(0.1160595863606574)), (3086, np.float64(0.1160595863606574)), (3125, np.float64(0.1160595863606574)), (3764, np.float64(0.1160595863606574)), (3783, np.float64(0.1160595863606574)), (3864, np.float64(0.1160595863606574)), (3982, np.float64(0.1160595863606574)), (1077, np.float64(0.11605958636065739)), (1830, np.float64(0.11605958636065739)), (2585, np.float64(0.11605958636065739)), (4083, np.float64(0.11605958636065739)), (4678, np.float64(0.11588089559053608)), (2800, np.float64(0.11580138896327519)), (2111, np.float64(0.11530202747786723)), (831, np.float64(0.11491807027621376)), (712, np.float64(0.11491807027621374)), (944, np.float64(0.11491807027621374)), (298, np.float64(0.11491807027621373)), (1398, np.float64(0.11491807027621373)), (1686, np.float64(0.11491807027621373)), (2183, np.float64(0.11491807027621373)), (2512, np.float64(0.11491807027621373)), (3118, np.float64(0.11491807027621373)), (3459, np.float64(0.11489312875225723)), (1347, np.float64(0.11461365101225056)), (2960, np.float64(0.11461365101225056)), (3682, np.float64(0.11461365101225056)), (3916, np.float64(0.11461365101225056)), (3970, np.float64(0.11461365101225056)), (4766, np.float64(0.11461365101225054)), (303, np.float64(0.1142875802206236)), (1585, np.float64(0.1142875802206236)), (1746, np.float64(0.1142875802206236)), (3509, np.float64(0.1142875802206236)), (3528, np.float64(0.1142875802206236)), (4199, np.float64(0.1142875802206236)), (4775, np.float64(0.1142875802206236)), (975, np.float64(0.11428758022062359)), (2202, np.float64(0.11428758022062359)), (2351, np.float64(0.11428758022062359)), (3201, np.float64(0.11400590984727985)), (3269, np.float64(0.11400590984727985)), (942, np.float64(0.1137147065368355)), (2650, np.float64(0.1137147065368355)), (3544, np.float64(0.1137147065368355)), (3718, np.float64(0.1137147065368355)), (4069, np.float64(0.1137147065368355)), (674, np.float64(0.11371470653683549)), (1059, np.float64(0.11371470653683549)), (1057, np.float64(0.11327309435771979)), (1853, np.float64(0.11313893217116627)), (2472, np.float64(0.11262021805899668)), (2789, np.float64(0.11259433727776122)), (2791, np.float64(0.11259433727776122)), (3541, np.float64(0.11259433727776122)), (4123, np.float64(0.11259433727776122)), (364, np.float64(0.11254837102261932)), (1725, np.float64(0.11254837102261932)), (2688, np.float64(0.11254837102261932)), (3923, np.float64(0.11254837102261932)), (574, np.float64(0.1125483710226193)), (724, np.float64(0.1125483710226193)), (1912, np.float64(0.1125483710226193)), (4446, np.float64(0.1125483710226193)), (2019, np.float64(0.1122914376001656)), (3487, np.float64(0.1122914376001656)), (1219, np.float64(0.11197850219117084)), (2115, np.float64(0.11197850219117084)), (2517, np.float64(0.11197850219117084)), (3045, np.float64(0.11197850219117084)), (3053, np.float64(0.11197850219117084)), (3222, np.float64(0.11197850219117084)), (3837, np.float64(0.11197850219117084)), (4155, np.float64(0.11197850219117084)), (4214, np.float64(0.11197850219117084)), (4604, np.float64(0.11197850219117084)), (1587, np.float64(0.11141720290623111)), (2437, np.float64(0.11141720290623111)), (4317, np.float64(0.11141720290623111)), (2767, np.float64(0.1114172029062311)), (4065, np.float64(0.1114172029062311)), (2345, np.float64(0.11117043138973565)), (2640, np.float64(0.11097419040461881)), (1817, np.float64(0.1109741904046188)), (2355, np.float64(0.1109741904046188)), (2493, np.float64(0.1109741904046188)), (3759, np.float64(0.1109741904046188)), (3924, np.float64(0.1109741904046188)), (2450, np.float64(0.11097419040461878)), (213, np.float64(0.11065205854826883)), (1922, np.float64(0.11065205854826883)), (923, np.float64(0.1103194697029383)), (1144, np.float64(0.1103194697029383)), (1216, np.float64(0.1103194697029383)), (1842, np.float64(0.1103194697029383)), (1876, np.float64(0.1103194697029383)), (2447, np.float64(0.1103194697029383)), (2734, np.float64(0.1103194697029383)), (4399, np.float64(0.1103194697029383)), (4730, np.float64(0.1103194697029383)), (4219, np.float64(0.11011723402471343)), (1006, np.float64(0.10985884360051029)), (230, np.float64(0.10985884360051026)), (1236, np.float64(0.10985884360051026)), (1655, np.float64(0.10985884360051026)), (1370, np.float64(0.1095171356386787)), (3071, np.float64(0.1095171356386787)), (3896, np.float64(0.1095171356386787)), (3971, np.float64(0.1095171356386787)), (4779, np.float64(0.1095171356386787)), (24, np.float64(0.10942202738310211)), (468, np.float64(0.10942202738310211)), (753, np.float64(0.10942202738310211)), (1010, np.float64(0.10942202738310211)), (2387, np.float64(0.10942202738310211)), (2471, np.float64(0.10942202738310211)), (3293, np.float64(0.10942202738310211)), (3579, np.float64(0.10942202738310211)), (4295, np.float64(0.10942202738310211)), (4602, np.float64(0.10942202738310211)), (649, np.float64(0.10925355610938446)), (1123, np.float64(0.10925355610938446)), (2275, np.float64(0.10925355610938446)), (3883, np.float64(0.10925355610938446)), (4172, np.float64(0.10925355610938446)), (4353, np.float64(0.10925355610938446)), (470, np.float64(0.10925355610938445)), (1518, np.float64(0.10925355610938445)), (1798, np.float64(0.10925355610938445)), (2021, np.float64(0.10925355610938445)), (2602, np.float64(0.10925355610938445)), (2766, np.float64(0.10925355610938445)), (1280, np.float64(0.10908244628454697)), (1583, np.float64(0.10908244628454697)), (2898, np.float64(0.10908244628454697)), (2969, np.float64(0.10908244628454697)), (4430, np.float64(0.10908244628454697)), (3277, np.float64(0.10832228060328025)), (212, np.float64(0.10821795400621298)), (582, np.float64(0.10821795400621298)), (2798, np.float64(0.10821795400621298)), (3229, np.float64(0.10821795400621298)), (1218, np.float64(0.10821795400621297)), (3928, np.float64(0.10821795400621297)), (72, np.float64(0.10793322294408637)), (99, np.float64(0.10793322294408637)), (126, np.float64(0.10793322294408637)), (556, np.float64(0.10793322294408637)), (1147, np.float64(0.10793322294408637)), (1158, np.float64(0.10793322294408637)), (1235, np.float64(0.10793322294408637)), (1675, np.float64(0.10793322294408637)), (1735, np.float64(0.10793322294408637)), (2040, np.float64(0.10793322294408637)), (3297, np.float64(0.10793322294408637)), (4721, np.float64(0.10793322294408637)), (1119, np.float64(0.1072112534837795)), (2126, np.float64(0.1072112534837795)), (2147, np.float64(0.1072112534837795)), (209, np.float64(0.10721125348377948)), (215, np.float64(0.10721125348377948)), (796, np.float64(0.10721125348377948)), (1333, np.float64(0.10721125348377948)), (1540, np.float64(0.10721125348377948)), (1880, np.float64(0.10721125348377948)), (2711, np.float64(0.10721125348377948)), (3465, np.float64(0.10721125348377948)), (3822, np.float64(0.10721125348377948)), (4023, np.float64(0.10721125348377948)), (4059, np.float64(0.10721125348377948)), (3979, np.float64(0.10699133273223166)), (4314, np.float64(0.10684843940271611)), (3228, np.float64(0.10665718644919545)), (98, np.float64(0.10650358071057624)), (905, np.float64(0.10650358071057624)), (1450, np.float64(0.10650358071057624)), (1831, np.float64(0.10650358071057624)), (2073, np.float64(0.10650358071057624)), (2269, np.float64(0.10650358071057624)), (2970, np.float64(0.10650358071057624)), (3318, np.float64(0.10650358071057624)), (3449, np.float64(0.10650358071057624)), (4258, np.float64(0.10650358071057624)), (262, np.float64(0.10623213476947665)), (827, np.float64(0.10623213476947665)), (1049, np.float64(0.10623213476947665)), (2282, np.float64(0.10623213476947665)), (2928, np.float64(0.10623213476947664)), (950, np.float64(0.10543316579753612)), (4011, np.float64(0.10527936095153946)), (4556, np.float64(0.10527936095153946)), (383, np.float64(0.10527936095153945)), (475, np.float64(0.10527936095153945)), (1275, np.float64(0.10527936095153945)), (2316, np.float64(0.10527936095153945)), (2745, np.float64(0.10527936095153945)), (2876, np.float64(0.10527936095153945)), (3060, np.float64(0.10527936095153945)), (485, np.float64(0.105129283382795)), (641, np.float64(0.105129283382795)), (1896, np.float64(0.105129283382795)), (1989, np.float64(0.105129283382795)), (2498, np.float64(0.105129283382795)), (2855, np.float64(0.105129283382795)), (3184, np.float64(0.105129283382795)), (3464, np.float64(0.105129283382795)), (1723, np.float64(0.10504514628777804)), (2049, np.float64(0.10504514628777804)), (2622, np.float64(0.10504514628777804)), (2880, np.float64(0.10504514628777804)), (2917, np.float64(0.10504514628777804)), (4156, np.float64(0.10504514628777804)), (4201, np.float64(0.10504514628777804)), (1282, np.float64(0.10474629747086908)), (77, np.float64(0.10445362772459166)), (5, np.float64(0.10435177140809473)), (618, np.float64(0.10435177140809473)), (3805, np.float64(0.10435177140809472)), (4131, np.float64(0.10435177140809472)), (4235, np.float64(0.10435177140809472)), (1309, np.float64(0.10407268085375919)), (462, np.float64(0.10401019349846874)), (486, np.float64(0.10401019349846874)), (207, np.float64(0.10380684981717495)), (242, np.float64(0.10380684981717495)), (731, np.float64(0.10380684981717495)), (1657, np.float64(0.10380684981717495)), (1917, np.float64(0.10380684981717495)), (2665, np.float64(0.10380684981717495)), (3247, np.float64(0.10380684981717495)), (3399, np.float64(0.10380684981717495)), (3733, np.float64(0.10380684981717495)), (3862, np.float64(0.10380684981717495)), (113, np.float64(0.10344827586206895)), (746, np.float64(0.10344827586206895)), (2101, np.float64(0.10344827586206895)), (354, np.float64(0.10344827586206894)), (1844, np.float64(0.10344827586206894)), (2523, np.float64(0.10344827586206894)), (3397, np.float64(0.10344827586206894)), (267, np.float64(0.10300524052492095)), (408, np.float64(0.10300524052492095)), (476, np.float64(0.10300524052492095)), (1066, np.float64(0.10300524052492095)), (1801, np.float64(0.10300524052492095)), (1915, np.float64(0.10300524052492095)), (2063, np.float64(0.10300524052492095)), (2190, np.float64(0.10300524052492095)), (2267, np.float64(0.10300524052492095)), (2338, np.float64(0.10300524052492095)), (2367, np.float64(0.10300524052492095)), (3146, np.float64(0.10300524052492095)), (3251, np.float64(0.10300524052492095)), (3419, np.float64(0.10300524052492095)), (3706, np.float64(0.10300524052492095)), (3782, np.float64(0.10300524052492095)), (3854, np.float64(0.10300524052492095)), (4271, np.float64(0.10300524052492095)), (4273, np.float64(0.10300524052492095)), (1674, np.float64(0.1027635384150731)), (4798, np.float64(0.10256784899270369)), (4552, np.float64(0.10256784899270367)), (312, np.float64(0.10253309789938275)), (792, np.float64(0.10253309789938275)), (828, np.float64(0.10253309789938275)), (849, np.float64(0.10253309789938275)), (965, np.float64(0.10253309789938275)), (1232, np.float64(0.10253309789938275)), (1447, np.float64(0.10253309789938275)), (1514, np.float64(0.10253309789938275)), (2172, np.float64(0.10253309789938275)), (2180, np.float64(0.10253309789938275)), (3364, np.float64(0.10253309789938275)), (3626, np.float64(0.10253309789938275)), (3834, np.float64(0.10253309789938275)), (4188, np.float64(0.10253309789938275)), (492, np.float64(0.10253309789938274)), (1475, np.float64(0.10170952554312154)), (3341, np.float64(0.10170952554312154)), (314, np.float64(0.10170952554312153)), (1028, np.float64(0.10170952554312153)), (1962, np.float64(0.10170952554312153)), (2966, np.float64(0.10170952554312153)), (3267, np.float64(0.10170952554312153)), (3852, np.float64(0.10170952554312153)), (4583, np.float64(0.10170952554312153)), (4737, np.float64(0.10170952554312153)), (40, np.float64(0.10130511230913847)), (101, np.float64(0.10130511230913847)), (185, np.float64(0.10130511230913847)), (361, np.float64(0.10130511230913847)), (370, np.float64(0.10130511230913847)), (436, np.float64(0.10130511230913847)), (567, np.float64(0.10130511230913847)), (1157, np.float64(0.10130511230913847)), (1258, np.float64(0.10130511230913847)), (1291, np.float64(0.10130511230913847)), (1339, np.float64(0.10130511230913847)), (1519, np.float64(0.10130511230913847)), (2008, np.float64(0.10130511230913847)), (2093, np.float64(0.10130511230913847)), (2872, np.float64(0.10130511230913847)), (3224, np.float64(0.10130511230913847)), (4401, np.float64(0.10130511230913847)), (359, np.float64(0.10107973914385378)), (2011, np.float64(0.10107973914385378)), (2206, np.float64(0.10107973914385378)), (2306, np.float64(0.10107973914385378)), (2323, np.float64(0.10107973914385378)), (3360, np.float64(0.10107973914385378)), (3531, np.float64(0.10107973914385378)), (3863, np.float64(0.10107973914385378)), (3944, np.float64(0.10107973914385378)), (415, np.float64(0.10088927404313383)), (273, np.float64(0.10087239587086297)), (2887, np.float64(0.10087239587086297)), (2977, np.float64(0.10087239587086297)), (3452, np.float64(0.10087239587086297)), (1134, np.float64(0.10061500224933484)), (1011, np.float64(0.10012021643290915)), (1591, np.float64(0.10012021643290915)), (1911, np.float64(0.10012021643290915)), (2449, np.float64(0.10012021643290915)), (2705, np.float64(0.10012021643290915)), (3283, np.float64(0.10012021643290915)), (3572, np.float64(0.10012021643290915)), (4185, np.float64(0.10012021643290915)), (45, np.float64(0.10005560189476051)), (4167, np.float64(0.10005560189476051)), (2807, np.float64(0.09985448490368441)), (887, np.float64(0.09969527608177987)), (92, np.float64(0.09925833339709302)), (244, np.float64(0.09925833339709302)), (1101, np.float64(0.09925833339709302)), (1156, np.float64(0.09925833339709302)), (1814, np.float64(0.09925833339709302)), (3401, np.float64(0.09925833339709302)), (3427, np.float64(0.09925833339709302)), (3966, np.float64(0.09925833339709302)), (4566, np.float64(0.09925833339709302)), (2028, np.float64(0.09911395756300481)), (540, np.float64(0.09897594780811197)), (958, np.float64(0.09897594780811197)), (1881, np.float64(0.09897594780811197)), (2965, np.float64(0.09897594780811197)), (3400, np.float64(0.09897594780811197)), (3578, np.float64(0.09897594780811197)), (3930, np.float64(0.09897594780811197)), (3507, np.float64(0.09881816123532058)), (534, np.float64(0.09847982464479191)), (866, np.float64(0.09847982464479191)), (2386, np.float64(0.09847982464479191)), (2671, np.float64(0.09847982464479191)), (2889, np.float64(0.09847982464479191)), (3055, np.float64(0.09847982464479191)), (3319, np.float64(0.09847982464479191)), (3868, np.float64(0.09847982464479191)), (3976, np.float64(0.09847982464479191)), (3998, np.float64(0.09847982464479191)), (4572, np.float64(0.09847982464479191)), (4577, np.float64(0.09847982464479191)), (4718, np.float64(0.09847982464479191)), (394, np.float64(0.09787003658578391)), (453, np.float64(0.09787003658578391)), (683, np.float64(0.09787003658578391)), (71, np.float64(0.0978700365857839)), (350, np.float64(0.0978700365857839)), (521, np.float64(0.0978700365857839)), (644, np.float64(0.0978700365857839)), (656, np.float64(0.0978700365857839)), (1203, np.float64(0.0978700365857839)), (1621, np.float64(0.0978700365857839)), (1728, np.float64(0.0978700365857839)), (2552, np.float64(0.0978700365857839)), (2883, np.float64(0.0978700365857839)), (2896, np.float64(0.0978700365857839)), (3476, np.float64(0.0978700365857839)), (1634, np.float64(0.09771935129766844)), (1872, np.float64(0.09771935129766844)), (1937, np.float64(0.09753196981883414)), (2108, np.float64(0.09753196981883414)), (2555, np.float64(0.09753196981883414)), (3092, np.float64(0.09753196981883414)), (3114, np.float64(0.09753196981883414)), (1648, np.float64(0.09742917832375235)), (3610, np.float64(0.0973308036304761)), (730, np.float64(0.09711427209723061)), (842, np.float64(0.09697622757528539)), (2519, np.float64(0.09697622757528539)), (4692, np.float64(0.09697622757528539)), (585, np.float64(0.09680038658279579)), (1340, np.float64(0.09680038658279579)), (2237, np.float64(0.09680038658279579)), (3557, np.float64(0.09680038658279579)), (4197, np.float64(0.09680038658279579)), (4546, np.float64(0.09680038658279579)), (4608, np.float64(0.09680038658279579)), (555, np.float64(0.09670189540594475)), (1000, np.float64(0.0962498036572848)), (1530, np.float64(0.0962498036572848)), (2418, np.float64(0.0962498036572848)), (356, np.float64(0.09589266029707681)), (511, np.float64(0.09589266029707681)), (742, np.float64(0.09589266029707681)), (1074, np.float64(0.09589266029707681)), (1299, np.float64(0.09589266029707681)), (1862, np.float64(0.09589266029707681)), (1898, np.float64(0.09589266029707681)), (2262, np.float64(0.09589266029707681)), (2395, np.float64(0.09589266029707681)), (2455, np.float64(0.09589266029707681)), (2598, np.float64(0.09589266029707681)), (2864, np.float64(0.09589266029707681)), (3185, np.float64(0.09589266029707681)), (3262, np.float64(0.09589266029707681)), (3275, np.float64(0.09589266029707681)), (4270, np.float64(0.09589266029707681)), (4, np.float64(0.09576505856351145)), (757, np.float64(0.09576505856351145)), (900, np.float64(0.09576505856351145)), (1827, np.float64(0.09576505856351145)), (2091, np.float64(0.09576505856351145)), (2696, np.float64(0.09576505856351145)), (2901, np.float64(0.09576505856351145)), (3757, np.float64(0.09576505856351145)), (3804, np.float64(0.09576505856351145)), (3918, np.float64(0.09576505856351145)), (1894, np.float64(0.0955394632947723)), (17, np.float64(0.09553946329477228)), (1244, np.float64(0.09553946329477228)), (1358, np.float64(0.09553946329477228)), (1460, np.float64(0.09553946329477228)), (2036, np.float64(0.09553946329477228)), (2644, np.float64(0.09553946329477228)), (3286, np.float64(0.09553946329477228)), (4008, np.float64(0.09553946329477228)), (4091, np.float64(0.09553946329477228)), (4747, np.float64(0.09553946329477228)), (4104, np.float64(0.09484462161280185)), (488, np.float64(0.09480257123538012)), (377, np.float64(0.09476225544736291)), (543, np.float64(0.09476225544736291)), (872, np.float64(0.09476225544736291)), (1932, np.float64(0.09476225544736291)), (2631, np.float64(0.09476225544736291)), (4804, np.float64(0.09476225544736291)), (12, np.float64(0.09433332612731564)), (167, np.float64(0.09433332612731564)), (1430, np.float64(0.09433332612731564)), (2836, np.float64(0.09433332612731564)), (3320, np.float64(0.09433332612731564)), (3469, np.float64(0.09433332612731564)), (4022, np.float64(0.09430229032251865)), (47, np.float64(0.09416472308615167)), (3359, np.float64(0.09416472308615167)), (4224, np.float64(0.09416472308615166)), (1109, np.float64(0.09380984679830705)), (3028, np.float64(0.09380984679830705)), (41, np.float64(0.09379030918551609)), (97, np.float64(0.09379030918551609)), (136, np.float64(0.09379030918551609)), (609, np.float64(0.09379030918551609)), (767, np.float64(0.09379030918551609)), (992, np.float64(0.09379030918551609)), (2280, np.float64(0.09379030918551609)), (2778, np.float64(0.09379030918551609)), (318, np.float64(0.09349923967246883)), (343, np.float64(0.09349923967246883)), (3140, np.float64(0.09349923967246883)), (3545, np.float64(0.09349923967246883)), (145, np.float64(0.09284766908852593)), (149, np.float64(0.09284766908852593)), (357, np.float64(0.09284766908852593)), (421, np.float64(0.09284766908852593)), (780, np.float64(0.09284766908852593)), (1328, np.float64(0.09284766908852593)), (1420, np.float64(0.09284766908852593)), (2423, np.float64(0.09284766908852593)), (2481, np.float64(0.09284766908852593)), (2617, np.float64(0.09284766908852593)), (2670, np.float64(0.09284766908852593)), (2772, np.float64(0.09284766908852593)), (2775, np.float64(0.09284766908852593)), (2785, np.float64(0.09284766908852593)), (3061, np.float64(0.09284766908852593)), (3280, np.float64(0.09284766908852593)), (4212, np.float64(0.09284766908852593)), (4259, np.float64(0.09284766908852593)), (4477, np.float64(0.09284766908852593)), (228, np.float64(0.09284766908852592)), (801, np.float64(0.09284766908852592)), (1179, np.float64(0.09284766908852592)), (1237, np.float64(0.09284766908852592)), (1251, np.float64(0.09284766908852592)), (1301, np.float64(0.09284766908852592)), (1437, np.float64(0.09284766908852592)), (1740, np.float64(0.09284766908852592)), (1892, np.float64(0.09284766908852592)), (2198, np.float64(0.09284766908852592)), (2324, np.float64(0.09284766908852592)), (2573, np.float64(0.09284766908852592)), (2802, np.float64(0.09284766908852592)), (2812, np.float64(0.09284766908852592)), (3065, np.float64(0.09284766908852592)), (3550, np.float64(0.09284766908852592)), (3885, np.float64(0.09284766908852592)), (4222, np.float64(0.09284766908852592)), (4231, np.float64(0.09284766908852592)), (4349, np.float64(0.09284766908852592)), (4372, np.float64(0.09284766908852592)), (4485, np.float64(0.09284766908852592)), (2515, np.float64(0.09237755128757118)), (2881, np.float64(0.09220953321680174)), (732, np.float64(0.09193289141911525)), (995, np.float64(0.09193289141911525)), (1796, np.float64(0.09193289141911525)), (2239, np.float64(0.09193289141911525)), (2473, np.float64(0.09193289141911525)), (3530, np.float64(0.09193289141911525)), (3559, np.float64(0.09193289141911525)), (3647, np.float64(0.09193289141911525)), (3793, np.float64(0.09193289141911525)), (4115, np.float64(0.09193289141911525)), (4711, np.float64(0.09158437663089954)), (679, np.float64(0.09158437663089952)), (2, np.float64(0.09143006417649888)), (663, np.float64(0.09143006417649888)), (1240, np.float64(0.09143006417649888)), (2482, np.float64(0.09143006417649888)), (4035, np.float64(0.09143006417649888)), (4406, np.float64(0.09143006417649888)), (4649, np.float64(0.09143006417649888)), (4676, np.float64(0.09143006417649888)), (734, np.float64(0.09104463009115371)), (1036, np.float64(0.09104463009115371)), (1534, np.float64(0.09104463009115371)), (2368, np.float64(0.09104463009115371)), (2691, np.float64(0.09104463009115371)), (3031, np.float64(0.09104463009115371)), (3042, np.float64(0.09104463009115371)), (3538, np.float64(0.09104463009115371)), (4376, np.float64(0.09104463009115371)), (1188, np.float64(0.09097176522946838)), (1671, np.float64(0.09056605089559906)), (3668, np.float64(0.09056605089559905)), (776, np.float64(0.09037128496931668)), (848, np.float64(0.09037128496931668)), (1031, np.float64(0.09037128496931668)), (1137, np.float64(0.09037128496931668)), (1321, np.float64(0.09037128496931668)), (1787, np.float64(0.09037128496931668)), (2331, np.float64(0.09037128496931668)), (2554, np.float64(0.09037128496931668)), (2604, np.float64(0.09037128496931668)), (2750, np.float64(0.09037128496931668)), (4064, np.float64(0.09037128496931668)), (4496, np.float64(0.09037128496931668)), (665, np.float64(0.09018162833851082)), (1431, np.float64(0.09018162833851082)), (1973, np.float64(0.09018162833851082)), (2466, np.float64(0.09018162833851082)), (4439, np.float64(0.09018162833851082)), (133, np.float64(0.09007546982220897)), (142, np.float64(0.09007546982220897)), (198, np.float64(0.09007546982220897)), (568, np.float64(0.09007546982220897)), (2231, np.float64(0.09007546982220897)), (2401, np.float64(0.09007546982220897)), (2685, np.float64(0.09007546982220897)), (2988, np.float64(0.09007546982220897)), (3501, np.float64(0.09007546982220897)), (3744, np.float64(0.09007546982220897)), (3943, np.float64(0.09007546982220897)), (3890, np.float64(0.08978254068931638)), (633, np.float64(0.08934271123648291)), (1142, np.float64(0.08934271123648291)), (1751, np.float64(0.08934271123648291)), (1779, np.float64(0.08934271123648291)), (2709, np.float64(0.08934271123648291)), (2728, np.float64(0.08934271123648291)), (3938, np.float64(0.08934271123648291)), (4487, np.float64(0.08934271123648291)), (3786, np.float64(0.0893427112364829)), (39, np.float64(0.08877935232369503)), (449, np.float64(0.08877935232369503)), (1650, np.float64(0.08877935232369503)), (1807, np.float64(0.08877935232369503)), (2722, np.float64(0.08877935232369503)), (2956, np.float64(0.08877935232369503)), (3547, np.float64(0.08877935232369503)), (3975, np.float64(0.08877935232369503)), (127, np.float64(0.08863876735453748)), (248, np.float64(0.08852677897456387)), (420, np.float64(0.08852677897456387)), (1016, np.float64(0.08852677897456387)), (1093, np.float64(0.08852677897456387)), (1315, np.float64(0.08852677897456387)), (1429, np.float64(0.08852677897456387)), (1673, np.float64(0.08852677897456387)), (2892, np.float64(0.08852677897456387)), (2022, np.float64(0.08846397174496579)), (189, np.float64(0.08808303292720551)), (684, np.float64(0.08808303292720551)), (739, np.float64(0.08808303292720551)), (993, np.float64(0.08808303292720551)), (1019, np.float64(0.08808303292720551)), (1822, np.float64(0.08808303292720551)), (2271, np.float64(0.08808303292720551)), (2506, np.float64(0.08808303292720551)), (2865, np.float64(0.08808303292720551)), (2868, np.float64(0.08808303292720551)), (2933, np.float64(0.08808303292720551)), (3153, np.float64(0.08808303292720551)), (3217, np.float64(0.08808303292720551)), (3241, np.float64(0.08808303292720551)), (3728, np.float64(0.08808303292720551)), (3773, np.float64(0.08808303292720551)), (3838, np.float64(0.08808303292720551)), (3869, np.float64(0.08808303292720551)), (4431, np.float64(0.08808303292720551)), (270, np.float64(0.08773280079294954)), (398, np.float64(0.08773280079294954)), (635, np.float64(0.08773280079294954)), (717, np.float64(0.08773280079294954)), (752, np.float64(0.08773280079294954)), (815, np.float64(0.08773280079294954)), (1173, np.float64(0.08773280079294954)), (1455, np.float64(0.08773280079294954)), (2131, np.float64(0.08773280079294954)), (245, np.float64(0.08753762190648169)), (306, np.float64(0.08753762190648169)), (786, np.float64(0.08753762190648169)), (943, np.float64(0.08753762190648169)), (985, np.float64(0.08753762190648169)), (1267, np.float64(0.08753762190648169)), (1352, np.float64(0.08753762190648169)), (1846, np.float64(0.08753762190648169)), (2589, np.float64(0.08753762190648169)), (3294, np.float64(0.08753762190648169)), (3510, np.float64(0.08753762190648169)), (3932, np.float64(0.08753762190648169)), (4272, np.float64(0.08753762190648169)), (4793, np.float64(0.08753762190648169)), (4080, np.float64(0.08700221858486121)), (1755, np.float64(0.08695980950674562)), (749, np.float64(0.0869598095067456)), (1527, np.float64(0.0869598095067456)), (2067, np.float64(0.0869598095067456)), (2608, np.float64(0.0869598095067456)), (3151, np.float64(0.0869598095067456)), (760, np.float64(0.0863465783552691)), (890, np.float64(0.0863465783552691)), (1210, np.float64(0.0863465783552691)), (1531, np.float64(0.0863465783552691)), (2225, np.float64(0.0863465783552691)), (2485, np.float64(0.0863465783552691)), (3567, np.float64(0.0863465783552691)), (3901, np.float64(0.0863465783552691)), (4063, np.float64(0.0863465783552691)), (2260, np.float64(0.08620689655172412)), (3307, np.float64(0.08620689655172412)), (4359, np.float64(0.08620689655172412)), (847, np.float64(0.0861885527071603)), (1076, np.float64(0.08596023825918792)), (1517, np.float64(0.08596023825918792)), (1571, np.float64(0.08596023825918792)), (1651, np.float64(0.08596023825918792)), (1765, np.float64(0.08596023825918792)), (1785, np.float64(0.08596023825918792)), (1802, np.float64(0.08596023825918792)), (2113, np.float64(0.08596023825918792)), (2377, np.float64(0.08596023825918792)), (2444, np.float64(0.08596023825918792)), (2475, np.float64(0.08596023825918792)), (2547, np.float64(0.08596023825918792)), (2840, np.float64(0.08596023825918792)), (3175, np.float64(0.08596023825918792)), (3365, np.float64(0.08596023825918792)), (3625, np.float64(0.08596023825918792)), (3708, np.float64(0.08596023825918792)), (4256, np.float64(0.08596023825918792)), (4687, np.float64(0.08596023825918792)), (4705, np.float64(0.08596023825918792)), (425, np.float64(0.08547320749391973)), (696, np.float64(0.08547320749391973)), (1492, np.float64(0.08547320749391973)), (1543, np.float64(0.08547320749391973)), (3403, np.float64(0.08547320749391973)), (3995, np.float64(0.08547320749391973)), (4397, np.float64(0.08547320749391973)), (4647, np.float64(0.08547320749391973)), (4000, np.float64(0.08545309378438275)), (2664, np.float64(0.08534047359147987)), (257, np.float64(0.08520286456846099)), (814, np.float64(0.08520286456846099)), (854, np.float64(0.08520286456846099)), (882, np.float64(0.08520286456846099)), (1183, np.float64(0.08520286456846099)), (1715, np.float64(0.08520286456846099)), (2294, np.float64(0.08520286456846099)), (2951, np.float64(0.08520286456846099)), (4076, np.float64(0.08520286456846099)), (4316, np.float64(0.08520286456846099)), (4605, np.float64(0.08520286456846099)), (2574, np.float64(0.08495482076828985)), (4582, np.float64(0.08495482076828983)), (27, np.float64(0.08475793795260128)), (3919, np.float64(0.0844651635442475)), (125, np.float64(0.08437429190573388)), (646, np.float64(0.084103426706236)), (2133, np.float64(0.084103426706236)), (3850, np.float64(0.084103426706236)), (811, np.float64(0.08406032989238581)), (2886, np.float64(0.08406032989238581)), (3594, np.float64(0.08406032989238581)), (494, np.float64(0.08398387664337813)), (1614, np.float64(0.08398387664337813)), (1620, np.float64(0.08398387664337813)), (1677, np.float64(0.08398387664337813)), (1882, np.float64(0.08398387664337813)), (2273, np.float64(0.08398387664337813)), (2619, np.float64(0.08398387664337813)), (2668, np.float64(0.08398387664337813)), (2733, np.float64(0.08398387664337813)), (2779, np.float64(0.08398387664337813)), (2950, np.float64(0.08398387664337813)), (2959, np.float64(0.08398387664337813)), (3489, np.float64(0.08398387664337813)), (3765, np.float64(0.08398387664337813)), (3784, np.float64(0.08398387664337813)), (4126, np.float64(0.08398387664337813)), (4144, np.float64(0.08398387664337813)), (4269, np.float64(0.08398387664337813)), (4414, np.float64(0.08398387664337813)), (4544, np.float64(0.08398387664337813)), (4788, np.float64(0.08398387664337813)), (107, np.float64(0.08337966824563375)), (1459, np.float64(0.08337966824563375)), (1747, np.float64(0.08337966824563375)), (2102, np.float64(0.08337966824563375)), (2149, np.float64(0.08337966824563375)), (3342, np.float64(0.08337966824563375)), (3654, np.float64(0.08337966824563375)), (4729, np.float64(0.08337966824563375)), (86, np.float64(0.08304547985373996)), (548, np.float64(0.08304547985373996)), (804, np.float64(0.08304547985373996)), (952, np.float64(0.08304547985373996)), (1106, np.float64(0.08304547985373996)), (1206, np.float64(0.08304547985373996)), (2173, np.float64(0.08304547985373996)), (2945, np.float64(0.08304547985373996)), (3080, np.float64(0.08304547985373996)), (3282, np.float64(0.08304547985373996)), (4051, np.float64(0.08304547985373996)), (4274, np.float64(0.08304547985373996)), (4760, np.float64(0.08304547985373996)), (3054, np.float64(0.08271527783091084)), (624, np.float64(0.08213785172900902)), (1326, np.float64(0.08213785172900902)), (1907, np.float64(0.08213785172900902)), (2061, np.float64(0.08213785172900902)), (2195, np.float64(0.08213785172900902)), (2319, np.float64(0.08213785172900902)), (2402, np.float64(0.08213785172900902)), (2618, np.float64(0.08213785172900902)), (2850, np.float64(0.08213785172900902)), (2870, np.float64(0.08213785172900902)), (2905, np.float64(0.08213785172900902)), (3343, np.float64(0.08213785172900902)), (3411, np.float64(0.08213785172900902)), (3835, np.float64(0.08213785172900902)), (3873, np.float64(0.08213785172900902)), (3880, np.float64(0.08213785172900902)), (3884, np.float64(0.08213785172900902)), (3889, np.float64(0.08213785172900902)), (4102, np.float64(0.08213785172900902)), (4143, np.float64(0.08213785172900902)), (4239, np.float64(0.08213785172900902)), (4268, np.float64(0.08213785172900902)), (3439, np.float64(0.08206652053732659)), (3722, np.float64(0.08206652053732659)), (187, np.float64(0.0820264783195062)), (659, np.float64(0.0820264783195062)), (1292, np.float64(0.0820264783195062)), (1480, np.float64(0.0820264783195062)), (1560, np.float64(0.0820264783195062)), (1598, np.float64(0.0820264783195062)), (2177, np.float64(0.0820264783195062)), (2532, np.float64(0.0820264783195062)), (3516, np.float64(0.0820264783195062)), (4096, np.float64(0.0820264783195062)), (4203, np.float64(0.0820264783195062)), (379, np.float64(0.08169505684973764)), (601, np.float64(0.08169505684973764)), (755, np.float64(0.08143279274805704)), (1589, np.float64(0.08143279274805704)), (235, np.float64(0.08104408984731078)), (754, np.float64(0.08104408984731078)), (1287, np.float64(0.08104408984731078)), (1504, np.float64(0.08104408984731078)), (1510, np.float64(0.08104408984731078)), (2014, np.float64(0.08104408984731078)), (3910, np.float64(0.08104408984731078)), (4099, np.float64(0.08104408984731078)), (4122, np.float64(0.08104408984731078)), (4336, np.float64(0.08104408984731078)), (4498, np.float64(0.08104408984731078)), (118, np.float64(0.08083053456215884)), (1359, np.float64(0.08081352297940449)), (1505, np.float64(0.08081352297940449)), (2029, np.float64(0.08081352297940449)), (157, np.float64(0.08040844011283461)), (477, np.float64(0.08040844011283461)), (669, np.float64(0.08040844011283461)), (881, np.float64(0.08040844011283461)), (1290, np.float64(0.08040844011283461)), (1377, np.float64(0.08040844011283461)), (1662, np.float64(0.08040844011283461)), (2074, np.float64(0.08040844011283461)), (2170, np.float64(0.08040844011283461)), (2660, np.float64(0.08040844011283461)), (2783, np.float64(0.08040844011283461)), (2804, np.float64(0.08040844011283461)), (3732, np.float64(0.08040844011283461)), (4243, np.float64(0.08040844011283461)), (4479, np.float64(0.08040844011283461)), (4717, np.float64(0.08040844011283461)), (296, np.float64(0.080208169714404)), (363, np.float64(0.080208169714404)), (1611, np.float64(0.080208169714404)), (1961, np.float64(0.080208169714404)), (4152, np.float64(0.080208169714404)), (445, np.float64(0.08009617314632732)), (737, np.float64(0.08009617314632732)), (959, np.float64(0.08009617314632732)), (1007, np.float64(0.08009617314632732)), (2524, np.float64(0.08009617314632732)), (2809, np.float64(0.08009617314632732)), (3167, np.float64(0.08009617314632732)), (3188, np.float64(0.08009617314632732)), (3539, np.float64(0.08009617314632732)), (4534, np.float64(0.08009617314632732)), (4768, np.float64(0.08009617314632732)), (222, np.float64(0.07961621941231024)), (2153, np.float64(0.07958371636159364)), (266, np.float64(0.07918075824648958)), (503, np.float64(0.07918075824648958)), (508, np.float64(0.07918075824648958)), (708, np.float64(0.07918075824648958)), (930, np.float64(0.07918075824648958)), (968, np.float64(0.07918075824648958)), (1812, np.float64(0.07918075824648958)), (2051, np.float64(0.07918075824648958)), (2265, np.float64(0.07918075824648958)), (2391, np.float64(0.07918075824648958)), (2957, np.float64(0.07918075824648958)), (3098, np.float64(0.07918075824648958)), (3695, np.float64(0.07918075824648958)), (4005, np.float64(0.07918075824648958)), (153, np.float64(0.07903718467733488)), (1097, np.float64(0.07903718467733488)), (1372, np.float64(0.07903718467733488)), (3502, np.float64(0.07903718467733488)), (4466, np.float64(0.07903718467733488)), (693, np.float64(0.07878385971583353)), (715, np.float64(0.07878385971583353)), (1075, np.float64(0.07878385971583353)), (1083, np.float64(0.07878385971583353)), (1624, np.float64(0.07878385971583353)), (1676, np.float64(0.07878385971583353)), (1848, np.float64(0.07878385971583353)), (1931, np.float64(0.07878385971583353)), (2214, np.float64(0.07878385971583353)), (2264, np.float64(0.07878385971583353)), (2330, np.float64(0.07878385971583353)), (2451, np.float64(0.07878385971583353)), (2910, np.float64(0.07878385971583353)), (3179, np.float64(0.07878385971583353)), (4202, np.float64(0.07878385971583353)), (4221, np.float64(0.07878385971583353)), (4312, np.float64(0.07878385971583353)), (4434, np.float64(0.07878385971583353)), (4509, np.float64(0.07878385971583353)), (261, np.float64(0.07829602926862712)), (371, np.float64(0.07829602926862712)), (1363, np.float64(0.07829602926862712)), (1908, np.float64(0.07829602926862712)), (2148, np.float64(0.07829602926862712)), (2197, np.float64(0.07829602926862712)), (2486, np.float64(0.07829602926862712)), (2907, np.float64(0.07829602926862712)), (3493, np.float64(0.07829602926862712)), (3727, np.float64(0.07829602926862712)), (4527, np.float64(0.07829602926862712)), (240, np.float64(0.07744030926623663)), (647, np.float64(0.07744030926623663)), (2005, np.float64(0.07744030926623663)), (2426, np.float64(0.07744030926623663)), (2751, np.float64(0.07744030926623663)), (3204, np.float64(0.07744030926623663)), (3697, np.float64(0.07744030926623663)), (864, np.float64(0.07737305757377161)), (2189, np.float64(0.07737305757377161)), (685, np.float64(0.07725393039369072)), (912, np.float64(0.07725393039369072)), (1105, np.float64(0.07725393039369072)), (1217, np.float64(0.07725393039369072)), (1351, np.float64(0.07725393039369072)), (1434, np.float64(0.07725393039369072)), (1522, np.float64(0.07725393039369072)), (1590, np.float64(0.07725393039369072)), (1930, np.float64(0.07725393039369072)), (1946, np.float64(0.07725393039369072)), (2227, np.float64(0.07725393039369072)), (2893, np.float64(0.07725393039369072)), (2985, np.float64(0.07725393039369072)), (3014, np.float64(0.07725393039369072)), (3027, np.float64(0.07725393039369072)), (3085, np.float64(0.07725393039369072)), (3263, np.float64(0.07725393039369072)), (3372, np.float64(0.07725393039369072)), (3478, np.float64(0.07725393039369072)), (4254, np.float64(0.07725393039369072)), (4355, np.float64(0.07725393039369072)), (820, np.float64(0.07688517444384894)), (3904, np.float64(0.07686276873903285)), (374, np.float64(0.07684127768066812)), (2388, np.float64(0.07684127768066812)), (116, np.float64(0.07661204685080916)), (178, np.float64(0.07661204685080916)), (302, np.float64(0.07661204685080916)), (460, np.float64(0.07661204685080916)), (529, np.float64(0.07661204685080916)), (948, np.float64(0.07661204685080916)), (1494, np.float64(0.07661204685080916)), (2669, np.float64(0.07661204685080916)), (3483, np.float64(0.07661204685080916)), (4094, np.float64(0.07661204685080916)), (135, np.float64(0.07580980435789034)), (221, np.float64(0.07580980435789034)), (497, np.float64(0.07580980435789034)), (721, np.float64(0.07580980435789034)), (829, np.float64(0.07580980435789034)), (907, np.float64(0.07580980435789034)), (911, np.float64(0.07580980435789034)), (932, np.float64(0.07580980435789034)), (933, np.float64(0.07580980435789034)), (984, np.float64(0.07580980435789034)), (1088, np.float64(0.07580980435789034)), (1274, np.float64(0.07580980435789034)), (1541, np.float64(0.07580980435789034)), (1558, np.float64(0.07580980435789034)), (1565, np.float64(0.07580980435789034)), (1584, np.float64(0.07580980435789034)), (1588, np.float64(0.07580980435789034)), (1682, np.float64(0.07580980435789034)), (1726, np.float64(0.07580980435789034)), (1799, np.float64(0.07580980435789034)), (2123, np.float64(0.07580980435789034)), (2266, np.float64(0.07580980435789034)), (2354, np.float64(0.07580980435789034)), (2588, np.float64(0.07580980435789034)), (2782, np.float64(0.07580980435789034)), (3038, np.float64(0.07580980435789034)), (3116, np.float64(0.07580980435789034)), (3665, np.float64(0.07580980435789034)), (3716, np.float64(0.07580980435789034)), (3855, np.float64(0.07580980435789034)), (3981, np.float64(0.07580980435789034)), (4281, np.float64(0.07580980435789034)), (4405, np.float64(0.07580980435789034)), (4795, np.float64(0.07580980435789034)), (4277, np.float64(0.07580980435789032)), (1869, np.float64(0.07530940414109723)), (2505, np.float64(0.07530940414109723)), (2729, np.float64(0.07530940414109723)), (2730, np.float64(0.07530940414109723)), (2285, np.float64(0.07511746287542015)), (442, np.float64(0.07503224734841288)), (1211, np.float64(0.07503224734841288)), (1453, np.float64(0.07503224734841288)), (2816, np.float64(0.07503224734841288)), (3563, np.float64(0.07503224734841288)), (3696, np.float64(0.07503224734841288)), (3905, np.float64(0.07503224734841288)), (2186, np.float64(0.07481878390776364)), (3050, np.float64(0.07481878390776364)), (3479, np.float64(0.07481878390776364)), (31, np.float64(0.07444375004781977)), (194, np.float64(0.07444375004781977)), (625, np.float64(0.07444375004781977)), (686, np.float64(0.07444375004781977)), (769, np.float64(0.07444375004781977)), (1058, np.float64(0.07444375004781977)), (1627, np.float64(0.07444375004781977)), (1656, np.float64(0.07444375004781977)), (1703, np.float64(0.07444375004781977)), (1923, np.float64(0.07444375004781977)), (2015, np.float64(0.07444375004781977)), (2218, np.float64(0.07444375004781977)), (2379, np.float64(0.07444375004781977)), (2443, np.float64(0.07444375004781977)), (2648, np.float64(0.07444375004781977)), (3090, np.float64(0.07444375004781977)), (3120, np.float64(0.07444375004781977)), (3768, np.float64(0.07444375004781977)), (3931, np.float64(0.07444375004781977)), (4633, np.float64(0.07444375004781977)), (4745, np.float64(0.07444375004781977)), (1574, np.float64(0.07433762918125657)), (271, np.float64(0.07427813527082074)), (376, np.float64(0.07427813527082074)), (1266, np.float64(0.07427813527082074)), (1442, np.float64(0.07427813527082074)), (2521, np.float64(0.07427813527082074)), (4392, np.float64(0.07427813527082074)), (239, np.float64(0.07386563946211457)), (3272, np.float64(0.07386563946211457)), (345, np.float64(0.0735463131352922)), (602, np.float64(0.0735463131352922)), (806, np.float64(0.0735463131352922)), (2241, np.float64(0.0735463131352922)), (3011, np.float64(0.0735463131352922)), (3018, np.float64(0.0735463131352922)), (3025, np.float64(0.0735463131352922)), (1335, np.float64(0.07340252743933792)), (276, np.float64(0.0731489773641256)), (504, np.float64(0.0731489773641256)), (794, np.float64(0.0731489773641256)), (1047, np.float64(0.0731489773641256)), (1182, np.float64(0.0731489773641256)), (1513, np.float64(0.0731489773641256)), (1575, np.float64(0.0731489773641256)), (2371, np.float64(0.0731489773641256)), (2926, np.float64(0.0731489773641256)), (3108, np.float64(0.0731489773641256)), (3351, np.float64(0.0731489773641256)), (3704, np.float64(0.0731489773641256)), (3987, np.float64(0.0731489773641256)), (4044, np.float64(0.0731489773641256)), (4673, np.float64(0.0731489773641256)), (150, np.float64(0.07294801825540141)), (114, np.float64(0.07283570407292297)), (181, np.float64(0.07283570407292297)), (337, np.float64(0.07283570407292297)), (623, np.float64(0.07283570407292297)), (1167, np.float64(0.07283570407292297)), (1190, np.float64(0.07283570407292297)), (1695, np.float64(0.07283570407292297)), (2194, np.float64(0.07283570407292297)), (2600, np.float64(0.07283570407292297)), (2792, np.float64(0.07283570407292297)), (2852, np.float64(0.07283570407292297)), (3047, np.float64(0.07283570407292297)), (3641, np.float64(0.07283570407292297)), (3646, np.float64(0.07283570407292297)), (4066, np.float64(0.07283570407292297)), (1473, np.float64(0.07250184882071768)), (2430, np.float64(0.07250184882071768)), (43, np.float64(0.07214530267080865)), (645, np.float64(0.07214530267080865)), (777, np.float64(0.07214530267080865)), (1015, np.float64(0.07214530267080865)), (2059, np.float64(0.07214530267080865)), (3331, np.float64(0.07214530267080865)), (49, np.float64(0.0719194952228076)), (348, np.float64(0.0719194952228076)), (559, np.float64(0.0719194952228076)), (1014, np.float64(0.0719194952228076)), (1311, np.float64(0.0719194952228076)), (1465, np.float64(0.0719194952228076)), (1476, np.float64(0.0719194952228076)), (1967, np.float64(0.0719194952228076)), (2509, np.float64(0.0719194952228076)), (2841, np.float64(0.0719194952228076)), (3678, np.float64(0.0719194952228076)), (3705, np.float64(0.0719194952228076)), (4301, np.float64(0.0719194952228076)), (4514, np.float64(0.0719194952228076)), (4680, np.float64(0.0719194952228076)), (4686, np.float64(0.0719194952228076)), (586, np.float64(0.07147416898918632)), (979, np.float64(0.07147416898918632)), (2724, np.float64(0.07147416898918632)), (2801, np.float64(0.07147416898918632)), (3847, np.float64(0.07147416898918632)), (3199, np.float64(0.07121091148698562)), (795, np.float64(0.0708214231796511)), (1680, np.float64(0.0708214231796511)), (2411, np.float64(0.0708214231796511)), (4002, np.float64(0.0708214231796511)), (4304, np.float64(0.0708214231796511)), (3194, np.float64(0.07079568397357487)), (825, np.float64(0.07074999459548673)), (928, np.float64(0.07074999459548673)), (981, np.float64(0.07074999459548673)), (1070, np.float64(0.07074999459548673)), (1139, np.float64(0.07074999459548673)), (1257, np.float64(0.07074999459548673)), (1592, np.float64(0.07074999459548673)), (2212, np.float64(0.07074999459548673)), (2497, np.float64(0.07074999459548673)), (3639, np.float64(0.07074999459548673)), (3723, np.float64(0.07074999459548673)), (3915, np.float64(0.07074999459548673)), (3993, np.float64(0.07074999459548673)), (4475, np.float64(0.07074999459548673)), (4569, np.float64(0.07074999459548673)), (143, np.float64(0.07018624063435963)), (1270, np.float64(0.07018624063435963)), (1428, np.float64(0.07018624063435963)), (3196, np.float64(0.07018624063435963)), (3474, np.float64(0.07018624063435963)), (3492, np.float64(0.07018624063435963)), (3964, np.float64(0.07018624063435963)), (4515, np.float64(0.07018624063435963)), (4736, np.float64(0.07018624063435963)), (4763, np.float64(0.07018624063435963)), (4764, np.float64(0.07018624063435963)), (524, np.float64(0.06963575181639443)), (667, np.float64(0.06963575181639443)), (745, np.float64(0.06963575181639443)), (960, np.float64(0.06963575181639443)), (1486, np.float64(0.06963575181639443)), (1734, np.float64(0.06963575181639443)), (3291, np.float64(0.06963575181639443)), (3721, np.float64(0.06963575181639443)), (3816, np.float64(0.06963575181639443)), (4396, np.float64(0.06963575181639443)), (4481, np.float64(0.06963575181639443)), (4720, np.float64(0.06963575181639443)), (4754, np.float64(0.06963575181639443)), (4791, np.float64(0.06963575181639443)), (456, np.float64(0.06956784760539649)), (703, np.float64(0.06956784760539649)), (1017, np.float64(0.06956784760539649)), (1926, np.float64(0.06956784760539649)), (3398, np.float64(0.06956784760539649)), (4597, np.float64(0.06956784760539649)), (1594, np.float64(0.0689655172413793)), (2065, np.float64(0.0689655172413793)), (275, np.float64(0.06857254813237415)), (840, np.float64(0.06857254813237415)), (1374, np.float64(0.06857254813237415)), (1469, np.float64(0.06857254813237415)), (1942, np.float64(0.06857254813237415)), (1978, np.float64(0.06857254813237415)), (2193, np.float64(0.06857254813237415)), (2326, np.float64(0.06857254813237415)), (3112, np.float64(0.06857254813237415)), (3158, np.float64(0.06857254813237415)), (3345, np.float64(0.06857254813237415)), (3422, np.float64(0.06857254813237415)), (3675, np.float64(0.06857254813237415)), (3821, np.float64(0.06857254813237415)), (1120, np.float64(0.06837856599513578)), (3703, np.float64(0.06837856599513578)), (4198, np.float64(0.06837856599513578)), (891, np.float64(0.06780635036208102)), (1303, np.float64(0.06780635036208102)), (1980, np.float64(0.06780635036208102)), (2516, np.float64(0.06780635036208102)), (2643, np.float64(0.06780635036208102)), (3183, np.float64(0.06780635036208102)), (3828, np.float64(0.06780635036208102)), (3936, np.float64(0.06780635036208102)), (3939, np.float64(0.06780635036208102)), (3968, np.float64(0.06780635036208102)), (4184, np.float64(0.06780635036208102)), (4210, np.float64(0.06780635036208102)), (4241, np.float64(0.06780635036208102)), (4333, np.float64(0.06780635036208102)), (4502, np.float64(0.06780635036208102)), (4568, np.float64(0.06780635036208102)), (4613, np.float64(0.06780635036208102)), (4654, np.float64(0.06780635036208102)), (104, np.float64(0.06755660236665673)), (147, np.float64(0.06755660236665673)), (272, np.float64(0.06755660236665673)), (1322, np.float64(0.06755660236665673)), (1745, np.float64(0.06755660236665673)), (1981, np.float64(0.06755660236665673)), (2333, np.float64(0.06755660236665673)), (2991, np.float64(0.06755660236665673)), (3316, np.float64(0.06755660236665673)), (4149, np.float64(0.06755660236665673)), (4575, np.float64(0.06755660236665673)), (4699, np.float64(0.06755660236665673)), (360, np.float64(0.06724826391390865)), (541, np.float64(0.06724826391390865)), (3296, np.float64(0.06724826391390865)), (48, np.float64(0.066703734596507)), (1375, np.float64(0.066703734596507)), (2480, np.float64(0.066703734596507)), (2818, np.float64(0.066703734596507)), (160, np.float64(0.06666074153074716)), (121, np.float64(0.06658451424277127)), (474, np.float64(0.06658451424277127)), (681, np.float64(0.06658451424277127)), (994, np.float64(0.06658451424277127)), (1022, np.float64(0.06658451424277127)), (1029, np.float64(0.06658451424277127)), (1284, np.float64(0.06658451424277127)), (1349, np.float64(0.06658451424277127)), (1449, np.float64(0.06658451424277127)), (1645, np.float64(0.06658451424277127)), (1724, np.float64(0.06658451424277127)), (1933, np.float64(0.06658451424277127)), (2043, np.float64(0.06658451424277127)), (2276, np.float64(0.06658451424277127)), (2380, np.float64(0.06658451424277127)), (2414, np.float64(0.06658451424277127)), (2442, np.float64(0.06658451424277127)), (2793, np.float64(0.06658451424277127)), (2927, np.float64(0.06658451424277127)), (3082, np.float64(0.06658451424277127)), (3093, np.float64(0.06658451424277127)), (3408, np.float64(0.06658451424277127)), (3447, np.float64(0.06658451424277127)), (3787, np.float64(0.06658451424277127)), (3950, np.float64(0.06658451424277127)), (654, np.float64(0.06617222226472867)), (1851, np.float64(0.06617222226472867)), (2187, np.float64(0.06617222226472867)), (4176, np.float64(0.06617222226472867)), (1683, np.float64(0.06598396520540799)), (85, np.float64(0.06565321642986127)), (341, np.float64(0.06565321642986127)), (455, np.float64(0.06565321642986127)), (552, np.float64(0.06565321642986127)), (764, np.float64(0.06565321642986127)), (805, np.float64(0.06565321642986127)), (807, np.float64(0.06565321642986127)), (830, np.float64(0.06565321642986127)), (1268, np.float64(0.06565321642986127)), (1378, np.float64(0.06565321642986127)), (1777, np.float64(0.06565321642986127)), (1956, np.float64(0.06565321642986127)), (2349, np.float64(0.06565321642986127)), (2476, np.float64(0.06565321642986127)), (3081, np.float64(0.06565321642986127)), (3178, np.float64(0.06565321642986127)), (3467, np.float64(0.06565321642986127)), (3496, np.float64(0.06565321642986127)), (3525, np.float64(0.06565321642986127)), (3745, np.float64(0.06565321642986127)), (3756, np.float64(0.06565321642986127)), (3775, np.float64(0.06565321642986127)), (3891, np.float64(0.06565321642986127)), (4207, np.float64(0.06565321642986127)), (4279, np.float64(0.06565321642986127)), (4300, np.float64(0.06565321642986127)), (4457, np.float64(0.06565321642986127)), (4651, np.float64(0.06565321642986127)), (4675, np.float64(0.06565321642986127)), (4750, np.float64(0.06565321642986127)), (925, np.float64(0.06514623419844563)), (1401, np.float64(0.06514623419844563)), (1997, np.float64(0.06514623419844563)), (3256, np.float64(0.06514623419844563)), (3457, np.float64(0.06514623419844563)), (4015, np.float64(0.06514623419844563)), (4695, np.float64(0.06514623419844563)), (75, np.float64(0.06475993376645182)), (1393, np.float64(0.06475993376645182)), (1468, np.float64(0.06475993376645182)), (1547, np.float64(0.06475993376645182)), (1840, np.float64(0.06475993376645182)), (1964, np.float64(0.06475993376645182)), (2291, np.float64(0.06475993376645182)), (2495, np.float64(0.06475993376645182)), (2551, np.float64(0.06475993376645182)), (2557, np.float64(0.06475993376645182)), (2712, np.float64(0.06475993376645182)), (3276, np.float64(0.06475993376645182)), (3762, np.float64(0.06475993376645182)), (4691, np.float64(0.06475993376645182)), (2716, np.float64(0.06465081838352359)), (2856, np.float64(0.06465081838352359)), (3056, np.float64(0.06465081838352359)), (3109, np.float64(0.06465081838352359)), (3543, np.float64(0.06465081838352359)), (606, np.float64(0.06390214842634574)), (687, np.float64(0.06390214842634574)), (1078, np.float64(0.06390214842634574)), (2144, np.float64(0.06390214842634574)), (2399, np.float64(0.06390214842634574)), (2837, np.float64(0.06390214842634574)), (2929, np.float64(0.06390214842634574)), (3338, np.float64(0.06390214842634574)), (3685, np.float64(0.06390214842634574)), (4755, np.float64(0.06390214842634574)), (719, np.float64(0.06369297552984819)), (763, np.float64(0.06369297552984819)), (897, np.float64(0.06369297552984819)), (1573, np.float64(0.06369297552984819)), (1669, np.float64(0.06369297552984819)), (1711, np.float64(0.06369297552984819)), (1935, np.float64(0.06369297552984819)), (2039, np.float64(0.06369297552984819)), (2328, np.float64(0.06369297552984819)), (2681, np.float64(0.06369297552984819)), (2774, np.float64(0.06369297552984819)), (2858, np.float64(0.06369297552984819)), (3423, np.float64(0.06369297552984819)), (3726, np.float64(0.06369297552984819)), (4074, np.float64(0.06369297552984819)), (4291, np.float64(0.06369297552984819)), (186, np.float64(0.0632297477418679)), (2639, np.float64(0.0632297477418679)), (2984, np.float64(0.0632297477418679)), (3404, np.float64(0.0632297477418679)), (16, np.float64(0.063077570029677)), (1069, np.float64(0.063077570029677)), (1412, np.float64(0.063077570029677)), (1544, np.float64(0.063077570029677)), (1788, np.float64(0.063077570029677)), (2217, np.float64(0.063077570029677)), (2415, np.float64(0.063077570029677)), (3005, np.float64(0.063077570029677)), (3150, np.float64(0.063077570029677)), (3177, np.float64(0.063077570029677)), (3569, np.float64(0.063077570029677)), (3803, np.float64(0.063077570029677)), (3809, np.float64(0.063077570029677)), (4634, np.float64(0.063077570029677)), (1380, np.float64(0.06277648205743444)), (3245, np.float64(0.06277648205743444)), (4330, np.float64(0.06277648205743444)), (845, np.float64(0.062332826448312555)), (307, np.float64(0.06231527532127216)), (138, np.float64(0.06228410989030497)), (322, np.float64(0.06228410989030497)), (650, np.float64(0.06228410989030497)), (964, np.float64(0.06228410989030497)), (1034, np.float64(0.06228410989030497)), (1300, np.float64(0.06228410989030497)), (2370, np.float64(0.06228410989030497)), (2467, np.float64(0.06228410989030497)), (2626, np.float64(0.06228410989030497)), (2637, np.float64(0.06228410989030497)), (2823, np.float64(0.06228410989030497)), (2971, np.float64(0.06228410989030497)), (3035, np.float64(0.06228410989030497)), (3100, np.float64(0.06228410989030497)), (3330, np.float64(0.06228410989030497)), (3414, np.float64(0.06228410989030497)), (3872, np.float64(0.06228410989030497)), (4087, np.float64(0.06228410989030497)), (4288, np.float64(0.06228410989030497)), (4707, np.float64(0.06228410989030497)), (584, np.float64(0.06189844605901729)), (1008, np.float64(0.06189844605901729)), (1609, np.float64(0.06189844605901729)), (1661, np.float64(0.06189844605901729)), (1706, np.float64(0.06189844605901729)), (1769, np.float64(0.06189844605901729)), (2201, np.float64(0.06189844605901729)), (2530, np.float64(0.06189844605901729)), (3157, np.float64(0.06189844605901729)), (3523, np.float64(0.06189844605901729)), (3576, np.float64(0.06189844605901729)), (3894, np.float64(0.06189844605901729)), (4128, np.float64(0.06189844605901729)), (4390, np.float64(0.06189844605901729)), (4545, np.float64(0.06189844605901729)), (4609, np.float64(0.06189844605901729)), (310, np.float64(0.061761350772075355)), (26, np.float64(0.061519858739629646)), (369, np.float64(0.061519858739629646)), (666, np.float64(0.061519858739629646)), (1084, np.float64(0.061519858739629646)), (1288, np.float64(0.061519858739629646)), (2830, np.float64(0.061519858739629646)), (3660, np.float64(0.061519858739629646)), (3833, np.float64(0.061519858739629646)), (4266, np.float64(0.061519858739629646)), (4380, np.float64(0.061519858739629646)), (4519, np.float64(0.061519858739629646)), (593, np.float64(0.06105625108726635)), (3145, np.float64(0.06105625108726635)), (3458, np.float64(0.06105625108726635)), (144, np.float64(0.060783067385483086)), (166, np.float64(0.060783067385483086)), (349, np.float64(0.060783067385483086)), (588, np.float64(0.060783067385483086)), (680, np.float64(0.060783067385483086)), (884, np.float64(0.060783067385483086)), (1610, np.float64(0.060783067385483086)), (1971, np.float64(0.060783067385483086)), (2159, np.float64(0.060783067385483086)), (2176, np.float64(0.060783067385483086)), (2746, np.float64(0.060783067385483086)), (2777, np.float64(0.060783067385483086)), (2859, np.float64(0.060783067385483086)), (3321, np.float64(0.060783067385483086)), (3431, np.float64(0.060783067385483086)), (3608, np.float64(0.060783067385483086)), (774, np.float64(0.06024752331287778)), (850, np.float64(0.06024752331287778)), (1346, np.float64(0.06024752331287778)), (1766, np.float64(0.06024752331287778)), (1994, np.float64(0.06024752331287778)), (2034, np.float64(0.06024752331287778)), (2278, np.float64(0.06024752331287778)), (2308, np.float64(0.06024752331287778)), (2422, np.float64(0.06024752331287778)), (2964, np.float64(0.06024752331287778)), (3511, np.float64(0.06024752331287778)), (3657, np.float64(0.06024752331287778)), (3719, np.float64(0.06024752331287778)), (4129, np.float64(0.06024752331287778)), (4163, np.float64(0.06024752331287778)), (4298, np.float64(0.06024752331287778)), (4573, np.float64(0.06024752331287778)), (4684, np.float64(0.06024752331287778)), (4725, np.float64(0.06024752331287778)), (291, np.float64(0.060072129859745485)), (871, np.float64(0.060072129859745485)), (1233, np.float64(0.060072129859745485)), (1264, np.float64(0.060072129859745485)), (1385, np.float64(0.060072129859745485)), (1638, np.float64(0.060072129859745485)), (1929, np.float64(0.060072129859745485)), (2046, np.float64(0.060072129859745485)), (2642, np.float64(0.060072129859745485)), (2982, np.float64(0.060072129859745485)), (3662, np.float64(0.060072129859745485)), (4366, np.float64(0.060072129859745485)), (4805, np.float64(0.060072129859745485)), (301, np.float64(0.05985502712621091)), (3615, np.float64(0.05985502712621091)), (4220, np.float64(0.05985502712621091)), (284, np.float64(0.05947010334500525)), (204, np.float64(0.05938556868486719)), (311, np.float64(0.05938556868486719)), (333, np.float64(0.05938556868486719)), (510, np.float64(0.05938556868486719)), (594, np.float64(0.05938556868486719)), (977, np.float64(0.05938556868486719)), (986, np.float64(0.05938556868486719)), (1467, np.float64(0.05938556868486719)), (1992, np.float64(0.05938556868486719)), (3451, np.float64(0.05938556868486719)), (4170, np.float64(0.05938556868486719)), (4263, np.float64(0.05938556868486719)), (4531, np.float64(0.05938556868486719)), (81, np.float64(0.059092511569691655)), (1570, np.float64(0.059092511569691655)), (2060, np.float64(0.059092511569691655)), (2566, np.float64(0.059092511569691655)), (3519, np.float64(0.059092511569691655)), (36, np.float64(0.058722021951470346)), (52, np.float64(0.058722021951470346)), (300, np.float64(0.058722021951470346)), (522, np.float64(0.058722021951470346)), (690, np.float64(0.058722021951470346)), (1295, np.float64(0.058722021951470346)), (1317, np.float64(0.058722021951470346)), (2272, np.float64(0.058722021951470346)), (2538, np.float64(0.058722021951470346)), (2941, np.float64(0.058722021951470346)), (2952, np.float64(0.058722021951470346)), (4334, np.float64(0.058722021951470346)), (4508, np.float64(0.058722021951470346)), (317, np.float64(0.05872202195147034)), (466, np.float64(0.05872202195147034)), (800, np.float64(0.05872202195147034)), (1417, np.float64(0.05872202195147034)), (1498, np.float64(0.05872202195147034)), (1524, np.float64(0.05872202195147034)), (1775, np.float64(0.05872202195147034)), (1803, np.float64(0.05872202195147034)), (2403, np.float64(0.05872202195147034)), (2610, np.float64(0.05872202195147034)), (2636, np.float64(0.05872202195147034)), (3070, np.float64(0.05872202195147034)), (3139, np.float64(0.05872202195147034)), (3395, np.float64(0.05872202195147034)), (3589, np.float64(0.05872202195147034)), (3634, np.float64(0.05872202195147034)), (4474, np.float64(0.05872202195147034)), (4645, np.float64(0.05872202195147034)), (4688, np.float64(0.05872202195147034)), (89, np.float64(0.05848853386196636)), (108, np.float64(0.05808023194967747)), (431, np.float64(0.05808023194967747)), (856, np.float64(0.05808023194967747)), (1701, np.float64(0.05808023194967747)), (2320, np.float64(0.05808023194967747)), (2337, np.float64(0.05808023194967747)), (2613, np.float64(0.05808023194967747)), (2895, np.float64(0.05808023194967747)), (2922, np.float64(0.05808023194967747)), (3717, np.float64(0.05808023194967747)), (3799, np.float64(0.05808023194967747)), (4523, np.float64(0.05808023194967747)), (4772, np.float64(0.05808023194967747)), (2878, np.float64(0.057612464076489386)), (1155, np.float64(0.05745903513810687)), (1353, np.float64(0.05745903513810687)), (1368, np.float64(0.05745903513810687)), (1865, np.float64(0.05745903513810687)), (1867, np.float64(0.05745903513810687)), (2026, np.float64(0.05745903513810687)), (2340, np.float64(0.05745903513810687)), (2378, np.float64(0.05745903513810687)), (2903, np.float64(0.05745903513810687)), (3037, np.float64(0.05745903513810687)), (3173, np.float64(0.05745903513810687)), (3189, np.float64(0.05745903513810687)), (3413, np.float64(0.05745903513810687)), (3420, np.float64(0.05745903513810687)), (3746, np.float64(0.05745903513810687)), (3907, np.float64(0.05745903513810687)), (4286, np.float64(0.05745903513810687)), (233, np.float64(0.05730682550612528)), (797, np.float64(0.05730682550612528)), (924, np.float64(0.05730682550612528)), (1226, np.float64(0.05730682550612528)), (1325, np.float64(0.05730682550612528)), (1348, np.float64(0.05730682550612528)), (1381, np.float64(0.05730682550612528)), (1520, np.float64(0.05730682550612528)), (2313, np.float64(0.05730682550612528)), (2381, np.float64(0.05730682550612528)), (2652, np.float64(0.05730682550612528)), (3049, np.float64(0.05730682550612528)), (3424, np.float64(0.05730682550612528)), (3640, np.float64(0.05730682550612528)), (4028, np.float64(0.05730682550612528)), (4444, np.float64(0.05730682550612528)), (4638, np.float64(0.05730682550612528)), (639, np.float64(0.05685735326841775)), (1355, np.float64(0.05685735326841775)), (2646, np.float64(0.05685735326841775)), (3298, np.float64(0.05685735326841775)), (3747, np.float64(0.05685735326841775)), (4343, np.float64(0.05685735326841775)), (2879, np.float64(0.05670986312823255)), (657, np.float64(0.05631010902949834)), (95, np.float64(0.05627418551130966)), (279, np.float64(0.05627418551130966)), (525, np.float64(0.05627418551130966)), (1138, np.float64(0.05627418551130966)), (1810, np.float64(0.05627418551130966)), (2484, np.float64(0.05627418551130966)), (2827, np.float64(0.05627418551130966)), (2838, np.float64(0.05627418551130966)), (2845, np.float64(0.05627418551130966)), (3472, np.float64(0.05627418551130966)), (3780, np.float64(0.05627418551130966)), (4325, np.float64(0.05627418551130966)), (4337, np.float64(0.05627418551130966)), (4398, np.float64(0.05627418551130966)), (4541, np.float64(0.05627418551130966)), (738, np.float64(0.05598925109558542)), (1060, np.float64(0.05598925109558542)), (1312, np.float64(0.05598925109558542)), (1549, np.float64(0.05598925109558542)), (1702, np.float64(0.05598925109558542)), (1741, np.float64(0.05598925109558542)), (1995, np.float64(0.05598925109558542)), (3002, np.float64(0.05598925109558542)), (3221, np.float64(0.05598925109558542)), (3490, np.float64(0.05598925109558542)), (3642, np.float64(0.05598925109558542)), (3661, np.float64(0.05598925109558542)), (3965, np.float64(0.05598925109558542)), (3969, np.float64(0.05598925109558542)), (4130, np.float64(0.05598925109558542)), (4252, np.float64(0.05598925109558542)), (4292, np.float64(0.05598925109558542)), (4463, np.float64(0.05598925109558542)), (531, np.float64(0.055708601453115555)), (596, np.float64(0.055708601453115555)), (600, np.float64(0.055708601453115555)), (611, np.float64(0.055708601453115555)), (1414, np.float64(0.055708601453115555)), (1579, np.float64(0.055708601453115555)), (1993, np.float64(0.055708601453115555)), (2205, np.float64(0.055708601453115555)), (2329, np.float64(0.055708601453115555)), (2938, np.float64(0.055708601453115555)), (3244, np.float64(0.055708601453115555)), (3387, np.float64(0.055708601453115555)), (25, np.float64(0.05536365323582664)), (2203, np.float64(0.05536365323582664)), (83, np.float64(0.05515973485146915)), (743, np.float64(0.05515973485146915)), (1283, np.float64(0.05515973485146915)), (1528, np.float64(0.05515973485146915)), (1586, np.float64(0.05515973485146915)), (1849, np.float64(0.05515973485146915)), (3506, np.float64(0.05515973485146915)), (3590, np.float64(0.05515973485146915)), (3629, np.float64(0.05515973485146915)), (3984, np.float64(0.05515973485146915)), (498, np.float64(0.05475856781933935)), (537, np.float64(0.05475856781933935)), (839, np.float64(0.05475856781933935)), (916, np.float64(0.05475856781933935)), (1278, np.float64(0.05475856781933935)), (1318, np.float64(0.05475856781933935)), (1521, np.float64(0.05475856781933935)), (2307, np.float64(0.05475856781933935)), (2334, np.float64(0.05475856781933935)), (2431, np.float64(0.05475856781933935)), (2500, np.float64(0.05475856781933935)), (2529, np.float64(0.05475856781933935)), (2758, np.float64(0.05475856781933935)), (2949, np.float64(0.05475856781933935)), (2967, np.float64(0.05475856781933935)), (3207, np.float64(0.05475856781933935)), (3250, np.float64(0.05475856781933935)), (3848, np.float64(0.05475856781933935)), (4017, np.float64(0.05475856781933935)), (4025, np.float64(0.05475856781933935)), (4159, np.float64(0.05475856781933935)), (4190, np.float64(0.05475856781933935)), (4416, np.float64(0.05475856781933935)), (4421, np.float64(0.05475856781933935)), (4623, np.float64(0.05475856781933935)), (432, np.float64(0.05462677805469223)), (1099, np.float64(0.05462677805469223)), (1108, np.float64(0.05462677805469223)), (1125, np.float64(0.05462677805469223)), (1146, np.float64(0.05462677805469223)), (1600, np.float64(0.05462677805469223)), (1958, np.float64(0.05462677805469223)), (3381, np.float64(0.05462677805469223)), (3586, np.float64(0.05462677805469223)), (1630, np.float64(0.05417289784878864)), (2882, np.float64(0.05410897700310649)), (3223, np.float64(0.05410897700310649)), (56, np.float64(0.05360562674188974)), (169, np.float64(0.05360562674188974)), (367, np.float64(0.05360562674188974)), (675, np.float64(0.05360562674188974)), (1151, np.float64(0.05360562674188974)), (1154, np.float64(0.05360562674188974)), (1672, np.float64(0.05360562674188974)), (1687, np.float64(0.05360562674188974)), (1772, np.float64(0.05360562674188974)), (1873, np.float64(0.05360562674188974)), (1902, np.float64(0.05360562674188974)), (2158, np.float64(0.05360562674188974)), (2580, np.float64(0.05360562674188974)), (2974, np.float64(0.05360562674188974)), (3155, np.float64(0.05360562674188974)), (3239, np.float64(0.05360562674188974)), (3274, np.float64(0.05360562674188974)), (3396, np.float64(0.05360562674188974)), (3410, np.float64(0.05360562674188974)), (3488, np.float64(0.05360562674188974)), (3551, np.float64(0.05360562674188974)), (3582, np.float64(0.05360562674188974)), (3658, np.float64(0.05360562674188974)), (3875, np.float64(0.05360562674188974)), (4175, np.float64(0.05360562674188974)), (4225, np.float64(0.05360562674188974)), (1100, np.float64(0.05311606738473832)), (1212, np.float64(0.05311606738473832)), (1704, np.float64(0.05311606738473832)), (458, np.float64(0.05263968047576972)), (692, np.float64(0.05263968047576972)), (698, np.float64(0.05263968047576972)), (940, np.float64(0.05263968047576972)), (1763, np.float64(0.05263968047576972)), (1828, np.float64(0.05263968047576972)), (2105, np.float64(0.05263968047576972)), (3554, np.float64(0.05263968047576972)), (4057, np.float64(0.05263968047576972)), (216, np.float64(0.05252257314388902)), (527, np.float64(0.05252257314388902)), (621, np.float64(0.05252257314388902)), (695, np.float64(0.05252257314388902)), (789, np.float64(0.05252257314388902)), (1112, np.float64(0.05252257314388902)), (1192, np.float64(0.05252257314388902)), (1667, np.float64(0.05252257314388902)), (1679, np.float64(0.05252257314388902)), (1800, np.float64(0.05252257314388902)), (2000, np.float64(0.05252257314388902)), (2299, np.float64(0.05252257314388902)), (2305, np.float64(0.05252257314388902)), (2575, np.float64(0.05252257314388902)), (2937, np.float64(0.05252257314388902)), (3257, np.float64(0.05252257314388902)), (3278, np.float64(0.05252257314388902)), (3797, np.float64(0.05252257314388902)), (3881, np.float64(0.05252257314388902)), (4385, np.float64(0.05252257314388902)), (4503, np.float64(0.05252257314388902)), (4526, np.float64(0.05252257314388902)), (2350, np.float64(0.05217588570404737)), (3172, np.float64(0.05217588570404737)), (4100, np.float64(0.05217588570404737)), (4048, np.float64(0.05175202908319946)), (53, np.float64(0.051724137931034475)), (447, np.float64(0.051724137931034475)), (740, np.float64(0.051724137931034475)), (1999, np.float64(0.051724137931034475)), (2366, np.float64(0.051724137931034475)), (3867, np.float64(0.051724137931034475)), (319, np.float64(0.051502620262460476)), (368, np.float64(0.051502620262460476)), (773, np.float64(0.051502620262460476)), (1324, np.float64(0.051502620262460476)), (1334, np.float64(0.051502620262460476)), (1356, np.float64(0.051502620262460476)), (1482, np.float64(0.051502620262460476)), (1681, np.float64(0.051502620262460476)), (1928, np.float64(0.051502620262460476)), (2109, np.float64(0.051502620262460476)), (2255, np.float64(0.051502620262460476)), (2528, np.float64(0.051502620262460476)), (2562, np.float64(0.051502620262460476)), (2888, np.float64(0.051502620262460476)), (3131, np.float64(0.051502620262460476)), (3161, np.float64(0.051502620262460476)), (3304, np.float64(0.051502620262460476)), (3670, np.float64(0.051502620262460476)), (3839, np.float64(0.051502620262460476)), (4357, np.float64(0.051502620262460476)), (4361, np.float64(0.051502620262460476)), (2561, np.float64(0.05150262026246047)), (253, np.float64(0.051283924496351836)), (467, np.float64(0.051283924496351836)), (822, np.float64(0.051283924496351836)), (1126, np.float64(0.051283924496351836)), (2963, np.float64(0.051283924496351836)), (3574, np.float64(0.051283924496351836)), (170, np.float64(0.050854762771560764)), (571, np.float64(0.050854762771560764)), (2143, np.float64(0.050854762771560764)), (4662, np.float64(0.050854762771560764)), (33, np.float64(0.05053986957192689)), (159, np.float64(0.05053986957192689)), (362, np.float64(0.05053986957192689)), (378, np.float64(0.05053986957192689)), (660, np.float64(0.05053986957192689)), (744, np.float64(0.05053986957192689)), (751, np.float64(0.05053986957192689)), (920, np.float64(0.05053986957192689)), (957, np.float64(0.05053986957192689)), (1602, np.float64(0.05053986957192689)), (1641, np.float64(0.05053986957192689)), (1664, np.float64(0.05053986957192689)), (1991, np.float64(0.05053986957192689)), (2641, np.float64(0.05053986957192689)), (2645, np.float64(0.05053986957192689)), (3066, np.float64(0.05053986957192689)), (3103, np.float64(0.05053986957192689)), (3141, np.float64(0.05053986957192689)), (3287, np.float64(0.05053986957192689)), (3707, np.float64(0.05053986957192689)), (3882, np.float64(0.05053986957192689)), (3898, np.float64(0.05053986957192689)), (3909, np.float64(0.05053986957192689)), (4027, np.float64(0.05053986957192689)), (4663, np.float64(0.05053986957192689)), (4664, np.float64(0.05053986957192689)), (4704, np.float64(0.05053986957192689)), (406, np.float64(0.05002780094738025)), (1927, np.float64(0.05002780094738025)), (2454, np.float64(0.05002780094738025)), (3417, np.float64(0.05002780094738025)), (202, np.float64(0.04962916669854651)), (259, np.float64(0.04962916669854651)), (309, np.float64(0.04962916669854651)), (404, np.float64(0.04962916669854651)), (945, np.float64(0.04962916669854651)), (991, np.float64(0.04962916669854651)), (1601, np.float64(0.04962916669854651)), (1603, np.float64(0.04962916669854651)), (1821, np.float64(0.04962916669854651)), (2089, np.float64(0.04962916669854651)), (2106, np.float64(0.04962916669854651)), (2140, np.float64(0.04962916669854651)), (2234, np.float64(0.04962916669854651)), (2457, np.float64(0.04962916669854651)), (2662, np.float64(0.04962916669854651)), (2829, np.float64(0.04962916669854651)), (3058, np.float64(0.04962916669854651)), (3214, np.float64(0.04962916669854651)), (3315, np.float64(0.04962916669854651)), (4148, np.float64(0.04962916669854651)), (4164, np.float64(0.04962916669854651)), (4209, np.float64(0.04962916669854651)), (4218, np.float64(0.04962916669854651)), (4652, np.float64(0.04962916669854651)), (190, np.float64(0.0496291666985465)), (812, np.float64(0.0496291666985465)), (1874, np.float64(0.0496291666985465)), (3132, np.float64(0.0496291666985465)), (4364, np.float64(0.0496291666985465)), (709, np.float64(0.049239912322395954)), (768, np.float64(0.049239912322395954)), (1048, np.float64(0.049239912322395954)), (3698, np.float64(0.049239912322395954)), (3829, np.float64(0.049239912322395954)), (4734, np.float64(0.04893501829289196)), (156, np.float64(0.04885967564883423)), (2050, np.float64(0.04885967564883423)), (4118, np.float64(0.04885967564883423)), (250, np.float64(0.04876598490941707)), (941, np.float64(0.04876598490941707)), (1056, np.float64(0.04876598490941707)), (1345, np.float64(0.04876598490941707)), (1364, np.float64(0.04876598490941707)), (1569, np.float64(0.04876598490941707)), (1654, np.float64(0.04876598490941707)), (2094, np.float64(0.04876598490941707)), (2247, np.float64(0.04876598490941707)), (2277, np.float64(0.04876598490941707)), (2392, np.float64(0.04876598490941707)), (2553, np.float64(0.04876598490941707)), (2647, np.float64(0.04876598490941707)), (2955, np.float64(0.04876598490941707)), (3163, np.float64(0.04876598490941707)), (3193, np.float64(0.04876598490941707)), (3436, np.float64(0.04876598490941707)), (3537, np.float64(0.04876598490941707)), (3743, np.float64(0.04876598490941707)), (4105, np.float64(0.04876598490941707)), (4206, np.float64(0.04876598490941707)), (4455, np.float64(0.04876598490941707)), (4614, np.float64(0.04876598490941707)), (4650, np.float64(0.04876598490941707)), (4778, np.float64(0.04876598490941707)), (2169, np.float64(0.04848811378764269)), (2393, np.float64(0.04848811378764269)), (2583, np.float64(0.04848811378764269)), (4247, np.float64(0.04848811378764269)), (4506, np.float64(0.04848811378764269)), (910, np.float64(0.0481249018286424)), (1572, np.float64(0.0481249018286424)), (1596, np.float64(0.0481249018286424)), (3906, np.float64(0.0481249018286424)), (4086, np.float64(0.0481249018286424)), (88, np.float64(0.047946330148538406)), (219, np.float64(0.047946330148538406)), (226, np.float64(0.047946330148538406)), (323, np.float64(0.047946330148538406)), (344, np.float64(0.047946330148538406)), (389, np.float64(0.047946330148538406)), (999, np.float64(0.047946330148538406)), (2037, np.float64(0.047946330148538406)), (2071, np.float64(0.047946330148538406)), (2120, np.float64(0.047946330148538406)), (2654, np.float64(0.047946330148538406)), (2714, np.float64(0.047946330148538406)), (3174, np.float64(0.047946330148538406)), (3637, np.float64(0.047946330148538406)), (4536, np.float64(0.047946330148538406)), (4693, np.float64(0.047946330148538406)), (1781, np.float64(0.04776973164738614)), (4565, np.float64(0.04774779376717184)), (846, np.float64(0.04742231080640093)), (4001, np.float64(0.04742231080640093)), (141, np.float64(0.04716666306365782)), (392, np.float64(0.04716666306365782)), (564, np.float64(0.04716666306365782)), (597, np.float64(0.04716666306365782)), (608, np.float64(0.04716666306365782)), (642, np.float64(0.04716666306365782)), (678, np.float64(0.04716666306365782)), (781, np.float64(0.04716666306365782)), (909, np.float64(0.04716666306365782)), (972, np.float64(0.04716666306365782)), (987, np.float64(0.04716666306365782)), (1135, np.float64(0.04716666306365782)), (1245, np.float64(0.04716666306365782)), (1247, np.float64(0.04716666306365782)), (1310, np.float64(0.04716666306365782)), (1366, np.float64(0.04716666306365782)), (1509, np.float64(0.04716666306365782)), (1885, np.float64(0.04716666306365782)), (2038, np.float64(0.04716666306365782)), (2118, np.float64(0.04716666306365782)), (2142, np.float64(0.04716666306365782)), (2496, np.float64(0.04716666306365782)), (2899, np.float64(0.04716666306365782)), (3113, np.float64(0.04716666306365782)), (3394, np.float64(0.04716666306365782)), (3466, np.float64(0.04716666306365782)), (3584, np.float64(0.04716666306365782)), (3770, np.float64(0.04716666306365782)), (3791, np.float64(0.04716666306365782)), (4191, np.float64(0.04716666306365782)), (4296, np.float64(0.04716666306365782)), (4702, np.float64(0.04716666306365782)), (3434, np.float64(0.04708236154307583)), (1213, np.float64(0.047082361543075824)), (1128, np.float64(0.046749619836234414)), (8, np.float64(0.04642383454426296)), (662, np.float64(0.04642383454426296)), (982, np.float64(0.04642383454426296)), (1187, np.float64(0.04642383454426296)), (1241, np.float64(0.04642383454426296)), (1273, np.float64(0.04642383454426296)), (1564, np.float64(0.04642383454426296)), (1631, np.float64(0.04642383454426296)), (2226, np.float64(0.04642383454426296)), (2474, np.float64(0.04642383454426296)), (2744, np.float64(0.04642383454426296)), (2820, np.float64(0.04642383454426296)), (3003, np.float64(0.04642383454426296)), (3587, np.float64(0.04642383454426296)), (3598, np.float64(0.04642383454426296)), (3710, np.float64(0.04642383454426296)), (4107, np.float64(0.04642383454426296)), (4134, np.float64(0.04642383454426296)), (4636, np.float64(0.04642383454426296)), (4669, np.float64(0.04642383454426296)), (4790, np.float64(0.04642383454426296)), (1493, np.float64(0.04579218831544976)), (366, np.float64(0.04571503208824944)), (441, np.float64(0.04571503208824944)), (457, np.float64(0.04571503208824944)), (461, np.float64(0.04571503208824944)), (553, np.float64(0.04571503208824944)), (691, np.float64(0.04571503208824944)), (756, np.float64(0.04571503208824944)), (937, np.float64(0.04571503208824944)), (973, np.float64(0.04571503208824944)), (1239, np.float64(0.04571503208824944)), (1400, np.float64(0.04571503208824944)), (1416, np.float64(0.04571503208824944)), (1727, np.float64(0.04571503208824944)), (2420, np.float64(0.04571503208824944)), (3069, np.float64(0.04571503208824944)), (3148, np.float64(0.04571503208824944)), (3407, np.float64(0.04571503208824944)), (3776, np.float64(0.04571503208824944)), (4752, np.float64(0.04571503208824944)), (229, np.float64(0.04548588261473419)), (1698, np.float64(0.04548588261473419)), (236, np.float64(0.045037734911104486)), (293, np.float64(0.045037734911104486)), (701, np.float64(0.045037734911104486)), (917, np.float64(0.045037734911104486)), (1285, np.float64(0.045037734911104486)), (1552, np.float64(0.045037734911104486)), (1924, np.float64(0.045037734911104486)), (2192, np.float64(0.045037734911104486)), (2300, np.float64(0.045037734911104486)), (2579, np.float64(0.045037734911104486)), (3367, np.float64(0.045037734911104486)), (3524, np.float64(0.045037734911104486)), (3752, np.float64(0.045037734911104486)), (4389, np.float64(0.045037734911104486)), (4468, np.float64(0.045037734911104486)), (4584, np.float64(0.045037734911104486)), (424, np.float64(0.04489127034465818)), (1986, np.float64(0.04489127034465818)), (3429, np.float64(0.04489127034465818)), (4429, np.float64(0.04489127034465818)), (785, np.float64(0.04460257750875394)), (2178, np.float64(0.04460257750875394)), (4307, np.float64(0.04460257750875394)), (315, np.float64(0.04438967616184752)), (802, np.float64(0.04438967616184752)), (1331, np.float64(0.04438967616184752)), (1523, np.float64(0.04438967616184752)), (1941, np.float64(0.04438967616184752)), (2020, np.float64(0.04438967616184752)), (2168, np.float64(0.04438967616184752)), (2171, np.float64(0.04438967616184752)), (2343, np.float64(0.04438967616184752)), (2861, np.float64(0.04438967616184752)), (3169, np.float64(0.04438967616184752)), (3327, np.float64(0.04438967616184752)), (3384, np.float64(0.04438967616184752)), (3788, np.float64(0.04438967616184752)), (4173, np.float64(0.04438967616184752)), (4458, np.float64(0.04438967616184752)), (799, np.float64(0.044319383677268745)), (3518, np.float64(0.044041516463602756)), (4388, np.float64(0.044041516463602756)), (46, np.float64(0.043768810953240846)), (59, np.float64(0.043768810953240846)), (214, np.float64(0.043768810953240846)), (603, np.float64(0.043768810953240846)), (1063, np.float64(0.043768810953240846)), (1103, np.float64(0.043768810953240846)), (1205, np.float64(0.043768810953240846)), (1402, np.float64(0.043768810953240846)), (1804, np.float64(0.043768810953240846)), (2024, np.float64(0.043768810953240846)), (2087, np.float64(0.043768810953240846)), (2284, np.float64(0.043768810953240846)), (2470, np.float64(0.043768810953240846)), (2620, np.float64(0.043768810953240846)), (2764, np.float64(0.043768810953240846)), (2843, np.float64(0.043768810953240846)), (2875, np.float64(0.043768810953240846)), (3347, np.float64(0.043768810953240846)), (3386, np.float64(0.043768810953240846)), (3600, np.float64(0.043768810953240846)), (3917, np.float64(0.043768810953240846)), (4171, np.float64(0.043768810953240846)), (4377, np.float64(0.043768810953240846)), (4511, np.float64(0.043768810953240846)), (4540, np.float64(0.043768810953240846)), (4615, np.float64(0.043768810953240846)), (4626, np.float64(0.043768810953240846)), (4777, np.float64(0.043768810953240846)), (2786, np.float64(0.043501109292430604)), (478, np.float64(0.043238260304200214)), (1, np.float64(0.04317328917763455)), (128, np.float64(0.04317328917763455)), (544, np.float64(0.04317328917763455)), (605, np.float64(0.04317328917763455)), (895, np.float64(0.04317328917763455)), (901, np.float64(0.04317328917763455)), (1176, np.float64(0.04317328917763455)), (1556, np.float64(0.04317328917763455)), (1764, np.float64(0.04317328917763455)), (2317, np.float64(0.04317328917763455)), (2612, np.float64(0.04317328917763455)), (2763, np.float64(0.04317328917763455)), (2817, np.float64(0.04317328917763455)), (2825, np.float64(0.04317328917763455)), (3039, np.float64(0.04317328917763455)), (3138, np.float64(0.04317328917763455)), (3218, np.float64(0.04317328917763455)), (3340, np.float64(0.04317328917763455)), (3426, np.float64(0.04317328917763455)), (3792, np.float64(0.04317328917763455)), (3845, np.float64(0.04317328917763455)), (4084, np.float64(0.04317328917763455)), (4088, np.float64(0.04317328917763455)), (4344, np.float64(0.04317328917763455)), (1403, np.float64(0.04298011912959396)), (342, np.float64(0.042726546892191374)), (223, np.float64(0.042601432284230495)), (393, np.float64(0.042601432284230495)), (915, np.float64(0.042601432284230495)), (1185, np.float64(0.042601432284230495)), (1871, np.float64(0.042601432284230495)), (2068, np.float64(0.042601432284230495)), (2160, np.float64(0.042601432284230495)), (2679, np.float64(0.042601432284230495)), (3142, np.float64(0.042601432284230495)), (4113, np.float64(0.042601432284230495)), (4165, np.float64(0.042601432284230495)), (4071, np.float64(0.04247741038414492)), (4762, np.float64(0.04223258177212375)), (0, np.float64(0.042051713353118)), (395, np.float64(0.042051713353118)), (1159, np.float64(0.042051713353118)), (1445, np.float64(0.042051713353118)), (1642, np.float64(0.042051713353118)), (2035, np.float64(0.042051713353118)), (2286, np.float64(0.042051713353118)), (2909, np.float64(0.042051713353118)), (3164, np.float64(0.042051713353118)), (3442, np.float64(0.042051713353118)), (3715, np.float64(0.042051713353118)), (3892, np.float64(0.042051713353118)), (4329, np.float64(0.042051713353118)), (4589, np.float64(0.042051713353118)), (3187, np.float64(0.04175536213875101)), (131, np.float64(0.04152273992686998)), (268, np.float64(0.04152273992686998)), (519, np.float64(0.04152273992686998)), (632, np.float64(0.04152273992686998)), (929, np.float64(0.04152273992686998)), (1111, np.float64(0.04152273992686998)), (2215, np.float64(0.04152273992686998)), (2507, np.float64(0.04152273992686998)), (2795, np.float64(0.04152273992686998)), (2900, np.float64(0.04152273992686998)), (3023, np.float64(0.04152273992686998)), (4095, np.float64(0.04152273992686998)), (4551, np.float64(0.04152273992686998)), (4617, np.float64(0.04152273992686998)), (4677, np.float64(0.04152273992686998)), (4753, np.float64(0.04152273992686998)), (2339, np.float64(0.041293962759267534)), (4032, np.float64(0.041293962759267534)), (324, np.float64(0.0410132391597531)), (397, np.float64(0.0410132391597531)), (411, np.float64(0.0410132391597531)), (430, np.float64(0.0410132391597531)), (437, np.float64(0.0410132391597531)), (619, np.float64(0.0410132391597531)), (1793, np.float64(0.0410132391597531)), (2136, np.float64(0.0410132391597531)), (2204, np.float64(0.0410132391597531)), (2289, np.float64(0.0410132391597531)), (2352, np.float64(0.0410132391597531)), (2408, np.float64(0.0410132391597531)), (2609, np.float64(0.0410132391597531)), (2623, np.float64(0.0410132391597531)), (2634, np.float64(0.0410132391597531)), (2995, np.float64(0.0410132391597531)), (3062, np.float64(0.0410132391597531)), (3254, np.float64(0.0410132391597531)), (3693, np.float64(0.0410132391597531)), (80, np.float64(0.04062967338659148)), (3755, np.float64(0.04062967338659148)), (184, np.float64(0.04052204492365539)), (563, np.float64(0.04052204492365539)), (677, np.float64(0.04052204492365539)), (1121, np.float64(0.04052204492365539)), (1636, np.float64(0.04052204492365539)), (2446, np.float64(0.04052204492365539)), (168, np.float64(0.04004808657316366)), (407, np.float64(0.04004808657316366)), (689, np.float64(0.04004808657316366)), (766, np.float64(0.04004808657316366)), (818, np.float64(0.04004808657316366)), (956, np.float64(0.04004808657316366)), (1365, np.float64(0.04004808657316366)), (1608, np.float64(0.04004808657316366)), (1819, np.float64(0.04004808657316366)), (2017, np.float64(0.04004808657316366)), (2047, np.float64(0.04004808657316366)), (2635, np.float64(0.04004808657316366)), (3699, np.float64(0.04004808657316366)), (3989, np.float64(0.04004808657316366)), (4284, np.float64(0.04004808657316366)), (634, np.float64(0.03959037912324479)), (723, np.float64(0.03959037912324479)), (765, np.float64(0.03959037912324479)), (1046, np.float64(0.03959037912324479)), (1129, np.float64(0.03959037912324479)), (1271, np.float64(0.03959037912324479)), (1397, np.float64(0.03959037912324479)), (1407, np.float64(0.03959037912324479)), (1503, np.float64(0.03959037912324479)), (1561, np.float64(0.03959037912324479)), (1826, np.float64(0.03959037912324479)), (1963, np.float64(0.03959037912324479)), (2004, np.float64(0.03959037912324479)), (2372, np.float64(0.03959037912324479)), (2397, np.float64(0.03959037912324479)), (2428, np.float64(0.03959037912324479)), (2434, np.float64(0.03959037912324479)), (2463, np.float64(0.03959037912324479)), (2762, np.float64(0.03959037912324479)), (2944, np.float64(0.03959037912324479)), (3078, np.float64(0.03959037912324479)), (3202, np.float64(0.03959037912324479)), (3252, np.float64(0.03959037912324479)), (3353, np.float64(0.03959037912324479)), (3438, np.float64(0.03959037912324479)), (3560, np.float64(0.03959037912324479)), (3671, np.float64(0.03959037912324479)), (3802, np.float64(0.03959037912324479)), (3933, np.float64(0.03959037912324479)), (4153, np.float64(0.03959037912324479)), (4180, np.float64(0.03959037912324479)), (4261, np.float64(0.03959037912324479)), (4462, np.float64(0.03959037912324479)), (4528, np.float64(0.03959037912324479)), (4537, np.float64(0.03959037912324479)), (4724, np.float64(0.03959037912324479)), (334, np.float64(0.03914801463431356)), (713, np.float64(0.03914801463431356)), (2128, np.float64(0.03914801463431356)), (2713, np.float64(0.03914801463431356)), (2954, np.float64(0.03914801463431356)), (3253, np.float64(0.03914801463431356)), (3462, np.float64(0.03914801463431356)), (3471, np.float64(0.03914801463431356)), (3739, np.float64(0.03914801463431356)), (146, np.float64(0.038814021812399596)), (2138, np.float64(0.038814021812399596)), (2342, np.float64(0.038814021812399596)), (192, np.float64(0.038720154633118314)), (410, np.float64(0.038720154633118314)), (628, np.float64(0.038720154633118314)), (779, np.float64(0.038720154633118314)), (888, np.float64(0.038720154633118314)), (1496, np.float64(0.038720154633118314)), (1619, np.float64(0.038720154633118314)), (2417, np.float64(0.038720154633118314)), (2718, np.float64(0.038720154633118314)), (2719, np.float64(0.038720154633118314)), (2752, np.float64(0.038720154633118314)), (3191, np.float64(0.038720154633118314)), (3233, np.float64(0.038720154633118314)), (3289, np.float64(0.038720154633118314)), (4061, np.float64(0.038720154633118314)), (4610, np.float64(0.038720154633118314)), (4690, np.float64(0.038720154633118314)), (76, np.float64(0.03830602342540458)), (481, np.float64(0.03830602342540458)), (523, np.float64(0.03830602342540458)), (658, np.float64(0.03830602342540458)), (803, np.float64(0.03830602342540458)), (1143, np.float64(0.03830602342540458)), (1338, np.float64(0.03830602342540458)), (1879, np.float64(0.03830602342540458)), (2125, np.float64(0.03830602342540458)), (2638, np.float64(0.03830602342540458)), (3008, np.float64(0.03830602342540458)), (3197, np.float64(0.03830602342540458)), (3303, np.float64(0.03830602342540458)), (3485, np.float64(0.03830602342540458)), (3499, np.float64(0.03830602342540458)), (3614, np.float64(0.03830602342540458)), (4489, np.float64(0.038260824561963544)), (3958, np.float64(0.03808161596757549)), (566, np.float64(0.03790490217894517)), (728, np.float64(0.03790490217894517)), (953, np.float64(0.03790490217894517)), (1644, np.float64(0.03790490217894517)), (1647, np.float64(0.03790490217894517)), (1761, np.float64(0.03790490217894517)), (2525, np.float64(0.03790490217894517)), (2784, np.float64(0.03790490217894517)), (2846, np.float64(0.03790490217894517)), (2912, np.float64(0.03790490217894517)), (2972, np.float64(0.03790490217894517)), (3612, np.float64(0.03790490217894517)), (4178, np.float64(0.03790490217894517)), (4679, np.float64(0.03790490217894517)), (4701, np.float64(0.03790490217894517)), (4757, np.float64(0.03790490217894517)), (3402, np.float64(0.037558731437710074)), (173, np.float64(0.03751612367420644)), (231, np.float64(0.03751612367420644)), (834, np.float64(0.03751612367420644)), (841, np.float64(0.03751612367420644)), (1243, np.float64(0.03751612367420644)), (1718, np.float64(0.03751612367420644)), (1789, np.float64(0.03751612367420644)), (2099, np.float64(0.03751612367420644)), (2939, np.float64(0.03751612367420644)), (3305, np.float64(0.03751612367420644)), (3491, np.float64(0.03751612367420644)), (120, np.float64(0.03713906763541037)), (254, np.float64(0.03713906763541037)), (278, np.float64(0.03713906763541037)), (759, np.float64(0.03713906763541037)), (1843, np.float64(0.03713906763541037)), (3208, np.float64(0.03713906763541037)), (4672, np.float64(0.03713906763541037)), (2164, np.float64(0.037056810463245216)), (15, np.float64(0.0367731565676461)), (331, np.float64(0.0367731565676461)), (1613, np.float64(0.0367731565676461)), (2576, np.float64(0.0367731565676461)), (3213, np.float64(0.0367731565676461)), (3735, np.float64(0.0367731565676461)), (3841, np.float64(0.0367731565676461)), (4177, np.float64(0.0367731565676461)), (4538, np.float64(0.0367731565676461)), (4803, np.float64(0.0367731565676461)), (3329, np.float64(0.0365744886820628)), (123, np.float64(0.03641785203646149)), (124, np.float64(0.03641785203646149)), (188, np.float64(0.03641785203646149)), (419, np.float64(0.03641785203646149)), (819, np.float64(0.03641785203646149)), (1759, np.float64(0.03641785203646149)), (1951, np.float64(0.03641785203646149)), (2311, np.float64(0.03641785203646149)), (2462, np.float64(0.03641785203646149)), (2522, np.float64(0.03641785203646149)), (3266, np.float64(0.03641785203646149)), (3886, np.float64(0.03641785203646149)), (4192, np.float64(0.03641785203646149)), (4342, np.float64(0.03641785203646149)), (4348, np.float64(0.03641785203646149)), (4504, np.float64(0.03641785203646149)), (502, np.float64(0.03607265133540433)), (528, np.float64(0.03607265133540433)), (704, np.float64(0.03607265133540433)), (1201, np.float64(0.03607265133540433)), (1441, np.float64(0.03607265133540433)), (3406, np.float64(0.03607265133540433)), (3897, np.float64(0.03607265133540433)), (4423, np.float64(0.03607265133540433)), (4525, np.float64(0.03607265133540433)), (4616, np.float64(0.03607265133540433)), (4694, np.float64(0.03607265133540433)), (2290, np.float64(0.0359597476114038)), (297, np.float64(0.03573708449459316)), (735, np.float64(0.03573708449459316)), (1110, np.float64(0.03573708449459316)), (1545, np.float64(0.03573708449459316)), (1721, np.float64(0.03573708449459316)), (1959, np.float64(0.03573708449459316)), (2283, np.float64(0.03573708449459316)), (2834, np.float64(0.03573708449459316)), (3024, np.float64(0.03573708449459316)), (4158, np.float64(0.03573708449459316)), (158, np.float64(0.03541071158982555)), (3309, np.float64(0.03541071158982555)), (4242, np.float64(0.03537499729774336)), (509, np.float64(0.035093120317179816)), (1040, np.float64(0.035093120317179816)), (1373, np.float64(0.035093120317179816)), (1625, np.float64(0.035093120317179816)), (1750, np.float64(0.035093120317179816)), (2007, np.float64(0.035093120317179816)), (2216, np.float64(0.035093120317179816)), (2274, np.float64(0.035093120317179816)), (2754, np.float64(0.035093120317179816)), (3128, np.float64(0.035093120317179816)), (3144, np.float64(0.035093120317179816)), (3227, np.float64(0.035093120317179816)), (3388, np.float64(0.035093120317179816)), (3925, np.float64(0.035093120317179816)), (4415, np.float64(0.035093120317179816)), (4517, np.float64(0.035093120317179816)), (4784, np.float64(0.035093120317179816)), (29, np.float64(0.03478392380269824)), (1708, np.float64(0.03478392380269824)), (4722, np.float64(0.03478392380269824)), (19, np.float64(0.03448275862068965)), (612, np.float64(0.03448275862068965)), (688, np.float64(0.03448275862068965)), (1153, np.float64(0.03448275862068965)), (1209, np.float64(0.03448275862068965)), (2360, np.float64(0.03448275862068965)), (2590, np.float64(0.03448275862068965)), (4751, np.float64(0.03448275862068965)), (532, np.float64(0.03418928299756789)), (572, np.float64(0.03418928299756789)), (622, np.float64(0.03418928299756789)), (1386, np.float64(0.03418928299756789)), (3264, np.float64(0.03418928299756789)), (1073, np.float64(0.03390317518104051)), (1526, np.float64(0.03390317518104051)), (1576, np.float64(0.03390317518104051)), (1737, np.float64(0.03390317518104051)), (1818, np.float64(0.03390317518104051)), (1841, np.float64(0.03390317518104051)), (1858, np.float64(0.03390317518104051)), (2080, np.float64(0.03390317518104051)), (2238, np.float64(0.03390317518104051)), (2564, np.float64(0.03390317518104051)), (2975, np.float64(0.03390317518104051)), (3154, np.float64(0.03390317518104051)), (3376, np.float64(0.03390317518104051)), (3529, np.float64(0.03390317518104051)), (3621, np.float64(0.03390317518104051)), (3751, np.float64(0.03390317518104051)), (4073, np.float64(0.03390317518104051)), (4116, np.float64(0.03390317518104051)), (4234, np.float64(0.03390317518104051)), (4362, np.float64(0.03390317518104051)), (4564, np.float64(0.03390317518104051)), (4606, np.float64(0.03390317518104051)), (4607, np.float64(0.03390317518104051)), (4708, np.float64(0.03390317518104051)), (4723, np.float64(0.03390317518104051)), (2537, np.float64(0.03362413195695432)), (4265, np.float64(0.03362413195695432)), (4449, np.float64(0.03362413195695432)), (84, np.float64(0.0333518672982535)), (353, np.float64(0.0333518672982535)), (1550, np.float64(0.0333518672982535)), (1893, np.float64(0.0333518672982535)), (2199, np.float64(0.0333518672982535)), (2976, np.float64(0.0333518672982535)), (3597, np.float64(0.0333518672982535)), (4049, np.float64(0.0333518672982535)), (106, np.float64(0.033086111132364336)), (661, np.float64(0.033086111132364336)), (1506, np.float64(0.033086111132364336)), (2740, np.float64(0.033086111132364336)), (2788, np.float64(0.033086111132364336)), (3170, np.float64(0.033086111132364336)), (375, np.float64(0.032826608214930636)), (489, np.float64(0.032826608214930636)), (896, np.float64(0.032826608214930636)), (2174, np.float64(0.032826608214930636)), (2438, np.float64(0.032826608214930636)), (2526, np.float64(0.032826608214930636)), (2667, np.float64(0.032826608214930636)), (2857, np.float64(0.032826608214930636)), (2973, np.float64(0.032826608214930636)), (3482, np.float64(0.032826608214930636)), (3616, np.float64(0.032826608214930636)), (3652, np.float64(0.032826608214930636)), (3986, np.float64(0.032826608214930636)), (3999, np.float64(0.032826608214930636)), (4058, np.float64(0.032826608214930636)), (4375, np.float64(0.032826608214930636)), (4441, np.float64(0.032826608214930636)), (4447, np.float64(0.032826608214930636)), (4473, np.float64(0.032826608214930636)), (4758, np.float64(0.032826608214930636)), (4765, np.float64(0.032826608214930636)), (4792, np.float64(0.032826608214930636)), (1344, np.float64(0.032573117099222816)), (517, np.float64(0.03232540919176179)), (4305, np.float64(0.03232540919176179)), (51, np.float64(0.0320832678857616)), (1354, np.float64(0.0320832678857616)), (381, np.float64(0.031846487764924096)), (1191, np.float64(0.031846487764924096)), (1626, np.float64(0.031846487764924096)), (1694, np.float64(0.031846487764924096)), (1731, np.float64(0.031846487764924096)), (1774, np.float64(0.031846487764924096)), (1918, np.float64(0.031846487764924096)), (1919, np.float64(0.031846487764924096)), (1982, np.float64(0.031846487764924096)), (2413, np.float64(0.031846487764924096)), (3126, np.float64(0.031846487764924096)), (3475, np.float64(0.031846487764924096)), (3526, np.float64(0.031846487764924096)), (3562, np.float64(0.031846487764924096)), (3871, np.float64(0.031846487764924096)), (3983, np.float64(0.031846487764924096)), (4031, np.float64(0.031846487764924096)), (4038, np.float64(0.031846487764924096)), (4460, np.float64(0.031846487764924096)), (4594, np.float64(0.031846487764924096)), (4635, np.float64(0.031846487764924096)), (4643, np.float64(0.031846487764924096)), (4646, np.float64(0.031846487764924096)), (4660, np.float64(0.031846487764924096)), (4771, np.float64(0.031846487764924096)), (4796, np.float64(0.031846487764924096)), (1771, np.float64(0.03161487387093395)), (3512, np.float64(0.03161487387093395)), (4719, np.float64(0.03161487387093395)), (2563, np.float64(0.03138824102871722)), (3322, np.float64(0.03138824102871722)), (1214, np.float64(0.031166413224156277)), (1422, np.float64(0.031166413224156277)), (1863, np.float64(0.031166413224156277)), (3210, np.float64(0.031142054945152486)), (966, np.float64(0.030949223029508643)), (1252, np.float64(0.030949223029508643)), (1286, np.float64(0.030949223029508643)), (1306, np.float64(0.030949223029508643)), (1350, np.float64(0.030949223029508643)), (1474, np.float64(0.030949223029508643)), (1897, np.float64(0.030949223029508643)), (2335, np.float64(0.030949223029508643)), (2544, np.float64(0.030949223029508643)), (2704, np.float64(0.030949223029508643)), (3117, np.float64(0.030949223029508643)), (3279, np.float64(0.030949223029508643)), (3323, np.float64(0.030949223029508643)), (3503, np.float64(0.030949223029508643)), (3553, np.float64(0.030949223029508643)), (3561, np.float64(0.030949223029508643)), (4054, np.float64(0.030949223029508643)), (4137, np.float64(0.030949223029508643)), (4240, np.float64(0.030949223029508643)), (4246, np.float64(0.030949223029508643)), (4368, np.float64(0.030949223029508643)), (4557, np.float64(0.030949223029508643)), (4749, np.float64(0.030949223029508643)), (4648, np.float64(0.030528125543633176)), (391, np.float64(0.030323921743156127)), (3258, np.float64(0.030323921743156127)), (465, np.float64(0.03012376165643889)), (627, np.float64(0.03012376165643889)), (865, np.float64(0.03012376165643889)), (913, np.float64(0.03012376165643889)), (914, np.float64(0.03012376165643889)), (1003, np.float64(0.03012376165643889)), (1024, np.float64(0.03012376165643889)), (1102, np.float64(0.03012376165643889)), (1207, np.float64(0.03012376165643889)), (1491, np.float64(0.03012376165643889)), (1597, np.float64(0.03012376165643889)), (1753, np.float64(0.03012376165643889)), (1943, np.float64(0.03012376165643889)), (2006, np.float64(0.03012376165643889)), (2322, np.float64(0.03012376165643889)), (2514, np.float64(0.03012376165643889)), (2708, np.float64(0.03012376165643889)), (2720, np.float64(0.03012376165643889)), (2797, np.float64(0.03012376165643889)), (2851, np.float64(0.03012376165643889)), (2997, np.float64(0.03012376165643889)), (3036, np.float64(0.03012376165643889)), (3079, np.float64(0.03012376165643889)), (3115, np.float64(0.03012376165643889)), (3325, np.float64(0.03012376165643889)), (3498, np.float64(0.03012376165643889)), (3595, np.float64(0.03012376165643889)), (3844, np.float64(0.03012376165643889)), (3960, np.float64(0.03012376165643889)), (4042, np.float64(0.03012376165643889)), (4055, np.float64(0.03012376165643889)), (4276, np.float64(0.03012376165643889)), (4346, np.float64(0.03012376165643889)), (4542, np.float64(0.03012376165643889)), (4786, np.float64(0.03012376165643889)), (542, np.float64(0.029927513563105454)), (4046, np.float64(0.029927513563105454)), (2594, np.float64(0.029735051672502625)), (3630, np.float64(0.029735051672502625)), (382, np.float64(0.02936101097573517)), (906, np.float64(0.02936101097573517)), (967, np.float64(0.02936101097573517)), (1298, np.float64(0.02936101097573517)), (1485, np.float64(0.02936101097573517)), (1578, np.float64(0.02936101097573517)), (1996, np.float64(0.02936101097573517)), (2441, np.float64(0.02936101097573517)), (2581, np.float64(0.02936101097573517)), (2586, np.float64(0.02936101097573517)), (2633, np.float64(0.02936101097573517)), (2891, np.float64(0.02936101097573517)), (2894, np.float64(0.02936101097573517)), (3122, np.float64(0.02936101097573517)), (4181, np.float64(0.02936101097573517)), (4237, np.float64(0.02936101097573517)), (4442, np.float64(0.02936101097573517)), (4443, np.float64(0.02936101097573517)), (4767, np.float64(0.02936101097573517)), (1548, np.float64(0.029179207302160563)), (3143, np.float64(0.02900073952828707)), (3911, np.float64(0.02882550686946681)), (172, np.float64(0.02865341275306264)), (179, np.float64(0.02865341275306264)), (426, np.float64(0.02865341275306264)), (598, np.float64(0.02865341275306264)), (653, np.float64(0.02865341275306264)), (1172, np.float64(0.02865341275306264)), (1389, np.float64(0.02865341275306264)), (1497, np.float64(0.02865341275306264)), (1738, np.float64(0.02865341275306264)), (1778, np.float64(0.02865341275306264)), (2295, np.float64(0.02865341275306264)), (2365, np.float64(0.02865341275306264)), (2549, np.float64(0.02865341275306264)), (2630, np.float64(0.02865341275306264)), (2694, np.float64(0.02865341275306264)), (2717, np.float64(0.02865341275306264)), (2808, np.float64(0.02865341275306264)), (2911, np.float64(0.02865341275306264)), (2918, np.float64(0.02865341275306264)), (3382, np.float64(0.02865341275306264)), (3428, np.float64(0.02865341275306264)), (3463, np.float64(0.02865341275306264)), (3486, np.float64(0.02865341275306264)), (3577, np.float64(0.02865341275306264)), (3623, np.float64(0.02865341275306264)), (3714, np.float64(0.02865341275306264)), (3767, np.float64(0.02865341275306264)), (3859, np.float64(0.02865341275306264)), (4417, np.float64(0.02865341275306264)), (4539, np.float64(0.02865341275306264)), (183, np.float64(0.02815505451474917)), (258, np.float64(0.02815505451474917)), (1316, np.float64(0.02815505451474917)), (151, np.float64(0.02799462554779271)), (200, np.float64(0.02799462554779271)), (490, np.float64(0.02799462554779271)), (505, np.float64(0.02799462554779271)), (506, np.float64(0.02799462554779271)), (1238, np.float64(0.02799462554779271)), (1388, np.float64(0.02799462554779271)), (1484, np.float64(0.02799462554779271)), (1733, np.float64(0.02799462554779271)), (1845, np.float64(0.02799462554779271)), (1891, np.float64(0.02799462554779271)), (1905, np.float64(0.02799462554779271)), (2054, np.float64(0.02799462554779271)), (2110, np.float64(0.02799462554779271)), (2122, np.float64(0.02799462554779271)), (2157, np.float64(0.02799462554779271)), (2256, np.float64(0.02799462554779271)), (2302, np.float64(0.02799462554779271)), (2421, np.float64(0.02799462554779271)), (2765, np.float64(0.02799462554779271)), (3094, np.float64(0.02799462554779271)), (3435, np.float64(0.02799462554779271)), (3481, np.float64(0.02799462554779271)), (3500, np.float64(0.02799462554779271)), (3546, np.float64(0.02799462554779271)), (3619, np.float64(0.02799462554779271)), (3779, np.float64(0.02799462554779271)), (3856, np.float64(0.02799462554779271)), (4554, np.float64(0.02799462554779271)), (4703, np.float64(0.02799462554779271)), (860, np.float64(0.02783690809250067)), (109, np.float64(0.027379283909669674)), (249, np.float64(0.027379283909669674)), (435, np.float64(0.027379283909669674)), (459, np.float64(0.027379283909669674)), (620, np.float64(0.027379283909669674)), (1064, np.float64(0.027379283909669674)), (1161, np.float64(0.027379283909669674)), (1164, np.float64(0.027379283909669674)), (1224, np.float64(0.027379283909669674)), (1454, np.float64(0.027379283909669674)), (1712, np.float64(0.027379283909669674)), (1836, np.float64(0.027379283909669674)), (1888, np.float64(0.027379283909669674)), (2757, np.float64(0.027379283909669674)), (2853, np.float64(0.027379283909669674)), (2884, np.float64(0.027379283909669674)), (3077, np.float64(0.027379283909669674)), (3588, np.float64(0.027379283909669674)), (3659, np.float64(0.027379283909669674)), (3840, np.float64(0.027379283909669674)), (3992, np.float64(0.027379283909669674)), (4135, np.float64(0.027379283909669674)), (4193, np.float64(0.027379283909669674)), (4196, np.float64(0.027379283909669674)), (4285, np.float64(0.027379283909669674)), (4294, np.float64(0.027379283909669674)), (4338, np.float64(0.027379283909669674)), (4595, np.float64(0.027379283909669674)), (4622, np.float64(0.027379283909669674)), (4698, np.float64(0.027379283909669674)), (4776, np.float64(0.027379283909669674)), (1446, np.float64(0.02708644892439432)), (2908, np.float64(0.02708644892439432)), (61, np.float64(0.02680281337094487)), (100, np.float64(0.02680281337094487)), (105, np.float64(0.02680281337094487)), (604, np.float64(0.02680281337094487)), (1462, np.float64(0.02680281337094487)), (1516, np.float64(0.02680281337094487)), (1535, np.float64(0.02680281337094487)), (1856, np.float64(0.02680281337094487)), (2097, np.float64(0.02680281337094487)), (2135, np.float64(0.02680281337094487)), (2332, np.float64(0.02680281337094487)), (2452, np.float64(0.02680281337094487)), (2597, np.float64(0.02680281337094487)), (2683, np.float64(0.02680281337094487)), (2749, np.float64(0.02680281337094487)), (2826, np.float64(0.02680281337094487)), (2842, np.float64(0.02680281337094487)), (3127, np.float64(0.02680281337094487)), (3149, np.float64(0.02680281337094487)), (3336, np.float64(0.02680281337094487)), (3477, np.float64(0.02680281337094487)), (3534, np.float64(0.02680281337094487)), (3540, np.float64(0.02680281337094487)), (4014, np.float64(0.02680281337094487)), (4016, np.float64(0.02680281337094487)), (4052, np.float64(0.02680281337094487)), (4437, np.float64(0.02680281337094487)), (4486, np.float64(0.02680281337094487)), (4593, np.float64(0.02680281337094487)), (947, np.float64(0.026664296612298865)), (2828, np.float64(0.026393586082163193)), (148, np.float64(0.02626128657194451)), (325, np.float64(0.02626128657194451)), (417, np.float64(0.02626128657194451)), (463, np.float64(0.02626128657194451)), (570, np.float64(0.02626128657194451)), (772, np.float64(0.02626128657194451)), (878, np.float64(0.02626128657194451)), (935, np.float64(0.02626128657194451)), (951, np.float64(0.02626128657194451)), (971, np.float64(0.02626128657194451)), (1169, np.float64(0.02626128657194451)), (1253, np.float64(0.02626128657194451)), (1304, np.float64(0.02626128657194451)), (1479, np.float64(0.02626128657194451)), (2027, np.float64(0.02626128657194451)), (2240, np.float64(0.02626128657194451)), (2263, np.float64(0.02626128657194451)), (2304, np.float64(0.02626128657194451)), (2356, np.float64(0.02626128657194451)), (2374, np.float64(0.02626128657194451)), (2406, np.float64(0.02626128657194451)), (2739, np.float64(0.02626128657194451)), (2743, np.float64(0.02626128657194451)), (2920, np.float64(0.02626128657194451)), (3134, np.float64(0.02626128657194451)), (3556, np.float64(0.02626128657194451)), (3570, np.float64(0.02626128657194451)), (3667, np.float64(0.02626128657194451)), (3899, np.float64(0.02626128657194451)), (3927, np.float64(0.02626128657194451)), (3997, np.float64(0.02626128657194451)), (4036, np.float64(0.02626128657194451)), (4092, np.float64(0.02626128657194451)), (4200, np.float64(0.02626128657194451)), (4227, np.float64(0.02626128657194451)), (4297, np.float64(0.02626128657194451)), (4472, np.float64(0.02626128657194451)), (4497, np.float64(0.02626128657194451)), (889, np.float64(0.02600254837461719)), (161, np.float64(0.025751310131230238)), (162, np.float64(0.025751310131230238)), (177, np.float64(0.025751310131230238)), (201, np.float64(0.025751310131230238)), (263, np.float64(0.025751310131230238)), (561, np.float64(0.025751310131230238)), (707, np.float64(0.025751310131230238)), (880, np.float64(0.025751310131230238)), (1145, np.float64(0.025751310131230238)), (1296, np.float64(0.025751310131230238)), (1850, np.float64(0.025751310131230238)), (1877, np.float64(0.025751310131230238)), (1938, np.float64(0.025751310131230238)), (3317, np.float64(0.025751310131230238)), (3349, np.float64(0.025751310131230238)), (3371, np.float64(0.025751310131230238)), (3454, np.float64(0.025751310131230238)), (3591, np.float64(0.025751310131230238)), (3796, np.float64(0.025751310131230238)), (3866, np.float64(0.025751310131230238)), (3922, np.float64(0.025751310131230238)), (4470, np.float64(0.025751310131230238)), (4741, np.float64(0.025751310131230238)), (90, np.float64(0.025269934785963444)), (134, np.float64(0.025269934785963444)), (208, np.float64(0.025269934785963444)), (290, np.float64(0.025269934785963444)), (487, np.float64(0.025269934785963444)), (1067, np.float64(0.025269934785963444)), (1470, np.float64(0.025269934785963444)), (1762, np.float64(0.025269934785963444)), (1770, np.float64(0.025269934785963444)), (1866, np.float64(0.025269934785963444)), (2013, np.float64(0.025269934785963444)), (2121, np.float64(0.025269934785963444)), (2570, np.float64(0.025269934785963444)), (2616, np.float64(0.025269934785963444)), (2727, np.float64(0.025269934785963444)), (2833, np.float64(0.025269934785963444)), (2897, np.float64(0.025269934785963444)), (2946, np.float64(0.025269934785963444)), (3021, np.float64(0.025269934785963444)), (3284, np.float64(0.025269934785963444)), (3535, np.float64(0.025269934785963444)), (3941, np.float64(0.025269934785963444)), (4006, np.float64(0.025269934785963444)), (4331, np.float64(0.025269934785963444)), (4433, np.float64(0.025269934785963444)), (4493, np.float64(0.025269934785963444)), (3795, np.float64(0.025153750562333713)), (54, np.float64(0.024814583349273254)), (452, np.float64(0.024814583349273254)), (1094, np.float64(0.024814583349273254)), (1336, np.float64(0.024814583349273254)), (1387, np.float64(0.024814583349273254)), (1489, np.float64(0.024814583349273254)), (1670, np.float64(0.024814583349273254)), (1752, np.float64(0.024814583349273254)), (1960, np.float64(0.024814583349273254)), (1974, np.float64(0.024814583349273254)), (2229, np.float64(0.024814583349273254)), (2409, np.float64(0.024814583349273254)), (2502, np.float64(0.024814583349273254)), (2527, np.float64(0.024814583349273254)), (2534, np.float64(0.024814583349273254)), (2596, np.float64(0.024814583349273254)), (2621, np.float64(0.024814583349273254)), (2686, np.float64(0.024814583349273254)), (2695, np.float64(0.024814583349273254)), (2741, np.float64(0.024814583349273254)), (2885, np.float64(0.024814583349273254)), (3001, np.float64(0.024814583349273254)), (3192, np.float64(0.024814583349273254)), (3415, np.float64(0.024814583349273254)), (3514, np.float64(0.024814583349273254)), (3978, np.float64(0.024814583349273254)), (4194, np.float64(0.024814583349273254)), (3949, np.float64(0.02459594839716409)), (483, np.float64(0.024382992454708534)), (533, np.float64(0.024382992454708534)), (581, np.float64(0.024382992454708534)), (1215, np.float64(0.024382992454708534)), (1337, np.float64(0.024382992454708534)), (1566, np.float64(0.024382992454708534)), (1633, np.float64(0.024382992454708534)), (1969, np.float64(0.024382992454708534)), (2098, np.float64(0.024382992454708534)), (2117, np.float64(0.024382992454708534)), (2137, np.float64(0.024382992454708534)), (2141, np.float64(0.024382992454708534)), (2559, np.float64(0.024382992454708534)), (2615, np.float64(0.024382992454708534)), (2867, np.float64(0.024382992454708534)), (2999, np.float64(0.024382992454708534)), (3073, np.float64(0.024382992454708534)), (3238, np.float64(0.024382992454708534)), (3817, np.float64(0.024382992454708534)), (3895, np.float64(0.024382992454708534)), (4110, np.float64(0.024382992454708534)), (4426, np.float64(0.024382992454708534)), (4570, np.float64(0.024382992454708534)), (94, np.float64(0.023973165074269203)), (320, np.float64(0.023973165074269203)), (400, np.float64(0.023973165074269203)), (648, np.float64(0.023973165074269203)), (978, np.float64(0.023973165074269203)), (996, np.float64(0.023973165074269203)), (1272, np.float64(0.023973165074269203)), (1887, np.float64(0.023973165074269203)), (1950, np.float64(0.023973165074269203)), (2075, np.float64(0.023973165074269203)), (2086, np.float64(0.023973165074269203)), (2152, np.float64(0.023973165074269203)), (2461, np.float64(0.023973165074269203)), (2546, np.float64(0.023973165074269203)), (2735, np.float64(0.023973165074269203)), (2806, np.float64(0.023973165074269203)), (3255, np.float64(0.023973165074269203)), (3260, np.float64(0.023973165074269203)), (3771, np.float64(0.023973165074269203)), (3893, np.float64(0.023973165074269203)), (4021, np.float64(0.023973165074269203)), (4089, np.float64(0.023973165074269203)), (4097, np.float64(0.023973165074269203)), (4111, np.float64(0.023973165074269203)), (4420, np.float64(0.023973165074269203)), (4456, np.float64(0.023973165074269203)), (4629, np.float64(0.023973165074269203)), (176, np.float64(0.02358333153182891)), (853, np.float64(0.02358333153182891)), (1061, np.float64(0.02358333153182891)), (1062, np.float64(0.02358333153182891)), (1098, np.float64(0.02358333153182891)), (1163, np.float64(0.02358333153182891)), (1383, np.float64(0.02358333153182891)), (1410, np.float64(0.02358333153182891)), (1461, np.float64(0.02358333153182891)), (2058, np.float64(0.02358333153182891)), (2166, np.float64(0.02358333153182891)), (2698, np.float64(0.02358333153182891)), (2839, np.float64(0.02358333153182891)), (2916, np.float64(0.02358333153182891)), (2994, np.float64(0.02358333153182891)), (3129, np.float64(0.02358333153182891)), (3312, np.float64(0.02358333153182891)), (3352, np.float64(0.02358333153182891)), (3437, np.float64(0.02358333153182891)), (3888, np.float64(0.02358333153182891)), (3954, np.float64(0.02358333153182891)), (4260, np.float64(0.02358333153182891)), (195, np.float64(0.02321191727213148)), (384, np.float64(0.02321191727213148)), (484, np.float64(0.02321191727213148)), (736, np.float64(0.02321191727213148)), (863, np.float64(0.02321191727213148)), (1269, np.float64(0.02321191727213148)), (1699, np.float64(0.02321191727213148)), (1756, np.float64(0.02321191727213148)), (2070, np.float64(0.02321191727213148)), (2385, np.float64(0.02321191727213148)), (3032, np.float64(0.02321191727213148)), (3133, np.float64(0.02321191727213148)), (3285, np.float64(0.02321191727213148)), (3366, np.float64(0.02321191727213148)), (3446, np.float64(0.02321191727213148)), (3566, np.float64(0.02321191727213148)), (3651, np.float64(0.02321191727213148)), (3806, np.float64(0.02321191727213148)), (4257, np.float64(0.02321191727213148)), (4267, np.float64(0.02321191727213148)), (4313, np.float64(0.02321191727213148)), (91, np.float64(0.02285751604412472)), (260, np.float64(0.02285751604412472)), (413, np.float64(0.02285751604412472)), (422, np.float64(0.02285751604412472)), (577, np.float64(0.02285751604412472)), (579, np.float64(0.02285751604412472)), (931, np.float64(0.02285751604412472)), (1071, np.float64(0.02285751604412472)), (1082, np.float64(0.02285751604412472)), (1114, np.float64(0.02285751604412472)), (1170, np.float64(0.02285751604412472)), (1709, np.float64(0.02285751604412472)), (1833, np.float64(0.02285751604412472)), (2185, np.float64(0.02285751604412472)), (2531, np.float64(0.02285751604412472)), (2822, np.float64(0.02285751604412472)), (3240, np.float64(0.02285751604412472)), (4289, np.float64(0.02285751604412472)), (50, np.float64(0.022518867455552243)), (326, np.float64(0.022518867455552243)), (526, np.float64(0.022518867455552243)), (1095, np.float64(0.022518867455552243)), (1140, np.float64(0.022518867455552243)), (1581, np.float64(0.022518867455552243)), (1612, np.float64(0.022518867455552243)), (1792, np.float64(0.022518867455552243)), (1889, np.float64(0.022518867455552243)), (1979, np.float64(0.022518867455552243)), (2632, np.float64(0.022518867455552243)), (2692, np.float64(0.022518867455552243)), (3778, np.float64(0.022518867455552243)), (3951, np.float64(0.022518867455552243)), (4108, np.float64(0.022518867455552243)), (4543, np.float64(0.022518867455552243)), (4731, np.float64(0.022518867455552243)), (28, np.float64(0.02219483808092376)), (288, np.float64(0.02219483808092376)), (327, np.float64(0.02219483808092376)), (547, np.float64(0.02219483808092376)), (859, np.float64(0.02219483808092376)), (1027, np.float64(0.02219483808092376)), (1222, np.float64(0.02219483808092376)), (1426, np.float64(0.02219483808092376)), (1653, np.float64(0.02219483808092376)), (1786, np.float64(0.02219483808092376)), (1823, np.float64(0.02219483808092376)), (2064, np.float64(0.02219483808092376)), (2124, np.float64(0.02219483808092376)), (2165, np.float64(0.02219483808092376)), (2175, np.float64(0.02219483808092376)), (2213, np.float64(0.02219483808092376)), (2629, np.float64(0.02219483808092376)), (2703, np.float64(0.02219483808092376)), (2715, np.float64(0.02219483808092376)), (2844, np.float64(0.02219483808092376)), (3135, np.float64(0.02219483808092376)), (3147, np.float64(0.02219483808092376)), (3180, np.float64(0.02219483808092376)), (3468, np.float64(0.02219483808092376)), (3573, np.float64(0.02219483808092376)), (3689, np.float64(0.02219483808092376)), (3742, np.float64(0.02219483808092376)), (4030, np.float64(0.02219483808092376)), (4125, np.float64(0.02219483808092376)), (227, np.float64(0.021884405476620423)), (346, np.float64(0.021884405476620423)), (539, np.float64(0.021884405476620423)), (894, np.float64(0.021884405476620423)), (1408, np.float64(0.021884405476620423)), (1439, np.float64(0.021884405476620423)), (2210, np.float64(0.021884405476620423)), (2448, np.float64(0.021884405476620423)), (2700, np.float64(0.021884405476620423)), (2773, np.float64(0.021884405476620423)), (3248, np.float64(0.021884405476620423)), (3607, np.float64(0.021884405476620423)), (3673, np.float64(0.021884405476620423)), (4211, np.float64(0.021884405476620423)), (4379, np.float64(0.021884405476620423)), (4657, np.float64(0.021884405476620423)), (4761, np.float64(0.021884405476620423)), (67, np.float64(0.021586644588817275)), (332, np.float64(0.021586644588817275)), (429, np.float64(0.021586644588817275)), (472, np.float64(0.021586644588817275)), (787, np.float64(0.021586644588817275)), (1037, np.float64(0.021586644588817275)), (1227, np.float64(0.021586644588817275)), (1640, np.float64(0.021586644588817275)), (1861, np.float64(0.021586644588817275)), (2489, np.float64(0.021586644588817275)), (2672, np.float64(0.021586644588817275)), (3006, np.float64(0.021586644588817275)), (3009, np.float64(0.021586644588817275)), (3231, np.float64(0.021586644588817275)), (4053, np.float64(0.021586644588817275)), (4093, np.float64(0.021586644588817275)), (4658, np.float64(0.021586644588817275)), (265, np.float64(0.021300716142115247)), (295, np.float64(0.021300716142115247)), (832, np.float64(0.021300716142115247)), (862, np.float64(0.021300716142115247)), (938, np.float64(0.021300716142115247)), (1168, np.float64(0.021300716142115247)), (1323, np.float64(0.021300716142115247)), (1502, np.float64(0.021300716142115247)), (1691, np.float64(0.021300716142115247)), (2032, np.float64(0.021300716142115247)), (2536, np.float64(0.021300716142115247)), (2813, np.float64(0.021300716142115247)), (3162, np.float64(0.021300716142115247)), (3281, np.float64(0.021300716142115247)), (3604, np.float64(0.021300716142115247)), (3624, np.float64(0.021300716142115247)), (3631, np.float64(0.021300716142115247)), (3679, np.float64(0.021300716142115247)), (4438, np.float64(0.021300716142115247)), (4440, np.float64(0.021300716142115247)), (4799, np.float64(0.021300716142115247)), (70, np.float64(0.021025856676559)), (926, np.float64(0.021025856676559)), (955, np.float64(0.021025856676559)), (1035, np.float64(0.021025856676559)), (1228, np.float64(0.021025856676559)), (1593, np.float64(0.021025856676559)), (2139, np.float64(0.021025856676559)), (2456, np.float64(0.021025856676559)), (2699, np.float64(0.021025856676559)), (2702, np.float64(0.021025856676559)), (2731, np.float64(0.021025856676559)), (3620, np.float64(0.021025856676559)), (3836, np.float64(0.021025856676559)), (3913, np.float64(0.021025856676559)), (4327, np.float64(0.021025856676559)), (4369, np.float64(0.021025856676559)), (4410, np.float64(0.021025856676559)), (329, np.float64(0.02076136996343499)), (720, np.float64(0.02076136996343499)), (1013, np.float64(0.02076136996343499)), (1471, np.float64(0.02076136996343499)), (2196, np.float64(0.02076136996343499)), (2436, np.float64(0.02076136996343499)), (2477, np.float64(0.02076136996343499)), (2533, np.float64(0.02076136996343499)), (2565, np.float64(0.02076136996343499)), (2666, np.float64(0.02076136996343499)), (2682, np.float64(0.02076136996343499)), (2781, np.float64(0.02076136996343499)), (3271, np.float64(0.02076136996343499)), (3409, np.float64(0.02076136996343499)), (3425, np.float64(0.02076136996343499)), (3549, np.float64(0.02076136996343499)), (3748, np.float64(0.02076136996343499)), (3753, np.float64(0.02076136996343499)), (4510, np.float64(0.02076136996343499)), (4512, np.float64(0.02076136996343499)), (4782, np.float64(0.02076136996343499)), (875, np.float64(0.02050661957987655)), (961, np.float64(0.02050661957987655)), (1080, np.float64(0.02050661957987655)), (1130, np.float64(0.02050661957987655)), (1342, np.float64(0.02050661957987655)), (1501, np.float64(0.02050661957987655)), (1577, np.float64(0.02050661957987655)), (2243, np.float64(0.02050661957987655)), (2914, np.float64(0.02050661957987655)), (2962, np.float64(0.02050661957987655)), (3040, np.float64(0.02050661957987655)), (3290, np.float64(0.02050661957987655)), (4003, np.float64(0.02050661957987655)), (4450, np.float64(0.02050661957987655)), (4530, np.float64(0.02050661957987655)), (4558, np.float64(0.02050661957987655)), (4624, np.float64(0.02050661957987655)), (4710, np.float64(0.02050661957987655)), (365, np.float64(0.020261022461827694)), (1294, np.float64(0.020261022461827694)), (2404, np.float64(0.020261022461827694)), (2460, np.float64(0.020261022461827694)), (3043, np.float64(0.020261022461827694)), (3203, np.float64(0.020261022461827694)), (3265, np.float64(0.020261022461827694)), (3356, np.float64(0.020261022461827694)), (3416, np.float64(0.020261022461827694)), (3656, np.float64(0.020261022461827694)), (4236, np.float64(0.020261022461827694)), (4356, np.float64(0.020261022461827694)), (4422, np.float64(0.020261022461827694)), (4620, np.float64(0.020261022461827694)), (78, np.float64(0.02002404328658183)), (330, np.float64(0.02002404328658183)), (340, np.float64(0.02002404328658183)), (451, np.float64(0.02002404328658183)), (643, np.float64(0.02002404328658183)), (898, np.float64(0.02002404328658183)), (1107, np.float64(0.02002404328658183)), (1379, np.float64(0.02002404328658183)), (1749, np.float64(0.02002404328658183)), (1834, np.float64(0.02002404328658183)), (1906, np.float64(0.02002404328658183)), (2055, np.float64(0.02002404328658183)), (2200, np.float64(0.02002404328658183)), (2539, np.float64(0.02002404328658183)), (2932, np.float64(0.02002404328658183)), (3310, np.float64(0.02002404328658183)), (4213, np.float64(0.02002404328658183)), (4352, np.float64(0.02002404328658183)), (4640, np.float64(0.02002404328658183)), (111, np.float64(0.019795189561622396)), (255, np.float64(0.019795189561622396)), (440, np.float64(0.019795189561622396)), (480, np.float64(0.019795189561622396)), (513, np.float64(0.019795189561622396)), (1081, np.float64(0.019795189561622396)), (2249, np.float64(0.019795189561622396)), (2259, np.float64(0.019795189561622396)), (2268, np.float64(0.019795189561622396)), (2310, np.float64(0.019795189561622396)), (2341, np.float64(0.019795189561622396)), (2433, np.float64(0.019795189561622396)), (3007, np.float64(0.019795189561622396)), (4299, np.float64(0.019795189561622396)), (4350, np.float64(0.019795189561622396)), (4425, np.float64(0.019795189561622396)), (57, np.float64(0.01957400731715678)), (833, np.float64(0.01957400731715678)), (1639, np.float64(0.01957400731715678)), (2083, np.float64(0.01957400731715678)), (2405, np.float64(0.01957400731715678)), (2488, np.float64(0.01957400731715678)), (2986, np.float64(0.01957400731715678)), (2992, np.float64(0.01957400731715678)), (4081, np.float64(0.01957400731715678)), (93, np.float64(0.019360077316559157)), (191, np.float64(0.019360077316559157)), (569, np.float64(0.019360077316559157)), (705, np.float64(0.019360077316559157)), (1934, np.float64(0.019360077316559157)), (2042, np.float64(0.019360077316559157)), (2261, np.float64(0.019360077316559157)), (2587, np.float64(0.019360077316559157)), (3643, np.float64(0.019360077316559157)), (3700, np.float64(0.019360077316559157)), (4363, np.float64(0.019360077316559157)), (4371, np.float64(0.019360077316559157)), (4549, np.float64(0.019360077316559157)), (434, np.float64(0.01915301171270229)), (580, np.float64(0.01915301171270229)), (587, np.float64(0.01915301171270229)), (637, np.float64(0.01915301171270229)), (655, np.float64(0.01915301171270229)), (1051, np.float64(0.01915301171270229)), (1116, np.float64(0.01915301171270229)), (1463, np.float64(0.01915301171270229)), (2182, np.float64(0.01915301171270229)), (2483, np.float64(0.01915301171270229)), (3029, np.float64(0.01915301171270229)), (3736, np.float64(0.01915301171270229)), (412, np.float64(0.018952451089472584)), (1054, np.float64(0.018952451089472584)), (1202, np.float64(0.018952451089472584)), (1256, np.float64(0.018952451089472584)), (1533, np.float64(0.018952451089472584)), (1553, np.float64(0.018952451089472584)), (1693, np.float64(0.018952451089472584)), (2002, np.float64(0.018952451089472584)), (2556, np.float64(0.018952451089472584)), (3013, np.float64(0.018952451089472584)), (3186, np.float64(0.018952451089472584)), (3243, np.float64(0.018952451089472584)), (3405, np.float64(0.018952451089472584)), (3473, np.float64(0.018952451089472584)), (347, np.float64(0.01875806183710322)), (595, np.float64(0.01875806183710322)), (1065, np.float64(0.01875806183710322)), (1265, np.float64(0.01875806183710322)), (1615, np.float64(0.01875806183710322)), (3450, np.float64(0.01875806183710322)), (3812, np.float64(0.01875806183710322)), (3826, np.float64(0.01875806183710322)), (3990, np.float64(0.01875806183710322)), (4689, np.float64(0.01875806183710322)), (243, np.float64(0.018569533817705184)), (454, np.float64(0.018569533817705184)), (722, np.float64(0.018569533817705184)), (778, np.float64(0.018569533817705184)), (1041, np.float64(0.018569533817705184)), (1688, np.float64(0.018569533817705184)), (2103, np.float64(0.018569533817705184)), (2520, np.float64(0.018569533817705184)), (42, np.float64(0.01838657828382305)), (671, np.float64(0.01838657828382305)), (1276, np.float64(0.01838657828382305)), (1652, np.float64(0.01838657828382305)), (2499, np.float64(0.01838657828382305)), (2582, np.float64(0.01838657828382305)), (3412, np.float64(0.01838657828382305)), (3441, np.float64(0.01838657828382305)), (3879, np.float64(0.01838657828382305)), (1508, np.float64(0.018208926018230744)), (1976, np.float64(0.018208926018230744)), (1983, np.float64(0.018208926018230744)), (2079, np.float64(0.018208926018230744)), (3097, np.float64(0.018208926018230744)), (3383, np.float64(0.018208926018230744)), (74, np.float64(0.018036325667702163)), (536, np.float64(0.018036325667702163)), (2031, np.float64(0.018036325667702163)), (2301, np.float64(0.018036325667702163)), (2676, np.float64(0.018036325667702163)), (3198, np.float64(0.018036325667702163)), (4740, np.float64(0.018036325667702163)), (13, np.float64(0.01786854224729658)), (110, np.float64(0.01786854224729658)), (1890, np.float64(0.01786854224729658)), (2250, np.float64(0.01786854224729658)), (2663, np.float64(0.01786854224729658)), (2753, np.float64(0.01786854224729658)), (4340, np.float64(0.01786854224729658)), (4427, np.float64(0.01786854224729658)), (63, np.float64(0.017705355794912774)), (4062, np.float64(0.017705355794912774)), (199, np.float64(0.017546560158589908)), (718, np.float64(0.017546560158589908)), (2869, np.float64(0.017546560158589908)), (3633, np.float64(0.017546560158589908)), (3820, np.float64(0.017546560158589908)), (4501, np.float64(0.017546560158589908)), (4520, np.float64(0.017546560158589908)), (565, np.float64(0.01739196190134912)), (852, np.float64(0.01739196190134912)), (2424, np.float64(0.01739196190134912)), (3015, np.float64(0.01739196190134912)), (3948, np.float64(0.01739196190134912)), (234, np.float64(0.017241379310344824)), (507, np.float64(0.017241379310344824)), (1936, np.float64(0.017241379310344824)), (2376, np.float64(0.017241379310344824)), (2468, np.float64(0.017241379310344824)), (3160, np.float64(0.017241379310344824)), (3956, np.float64(0.017241379310344824)), (4019, np.float64(0.017241379310344824)), (1635, np.float64(0.017094641498783945)), (2219, np.float64(0.017094641498783945)), (4010, np.float64(0.017094641498783945)), (4432, np.float64(0.017094641498783945)), (305, np.float64(0.016951587590520255)), (1512, np.float64(0.016951587590520255)), (2987, np.float64(0.016951587590520255)), (3903, np.float64(0.016951587590520255)), (573, np.float64(0.01681206597847716)), (990, np.float64(0.01681206597847716)), (3741, np.float64(0.01681206597847716)), (4484, np.float64(0.01681206597847716)), (836, np.float64(0.01667593364912675)), (861, np.float64(0.01667593364912675)), (1451, np.float64(0.01667593364912675)), (3041, np.float64(0.01667593364912675)), (4179, np.float64(0.01667593364912675)), (102, np.float64(0.016543055566182168)), (1987, np.float64(0.016543055566182168)), (4714, np.float64(0.016543055566182168)), (733, np.float64(0.016413304107465318)), (2095, np.float64(0.016413304107465318)), (3613, np.float64(0.016413304107465318)), (4789, np.float64(0.016413304107465318)), (501, np.float64(0.016286558549611408)), (1563, np.float64(0.016286558549611408)), (6, np.float64(0.016162704595880897)), (949, np.float64(0.016162704595880897)), (1220, np.float64(0.016162704595880897)), (1768, np.float64(0.016162704595880897)), (2222, np.float64(0.016162704595880897)), (4136, np.float64(0.016162704595880897)), (3754, np.float64(0.0160416339428808)), (4735, np.float64(0.0160416339428808)), (2258, np.float64(0.015923243882462048)), (2902, np.float64(0.015923243882462048)), (3270, np.float64(0.015923243882462048)), (3711, np.float64(0.015923243882462048)), (4249, np.float64(0.015923243882462048)), (1005, np.float64(0.015807436935466976)), (2425, np.float64(0.015807436935466976)), (3602, np.float64(0.015807436935466976)), (4041, np.float64(0.015807436935466976)), (4471, np.float64(0.015807436935466976)), (3522, np.float64(0.01569412051435861)), (1551, np.float64(0.015474611514754322)), (4586, np.float64(0.015474611514754322)), (1133, np.float64(0.015368255536133623)), (1391, np.float64(0.015368255536133623)), (3558, np.float64(0.015368255536133623)), (838, np.float64(0.015264062771816588)), (2146, np.float64(0.015161960871578064)), (4326, np.float64(0.015061880828219446)), (1087, np.float64(0.014867525836251312)), (1685, np.float64(0.014680505487867585)), (3119, np.float64(0.014589603651080281)), (4160, np.float64(0.014589603651080281)), (3737, np.float64(0.014500369764143536)), (479, np.float64(0.014159136794714974)), (55, np.float64(0.014077527257374585)), (4387, np.float64(0.013997312773896355)), (670, np.float64(0.01384091330895666)), (4574, np.float64(0.013764654253089178)), (2162, np.float64(0.013689641954834837)), (3074, np.float64(0.013615842808289608)), (1424, np.float64(0.013196793041081597)), (1425, np.float64(0.012938007270799865)), (3663, np.float64(0.01275360818732118)), (4013, np.float64(0.012463055064254432)), (4682, np.float64(0.012352270154415071)), (4696, np.float64(0.011791665765914455)), (1859, np.float64(0.009576505856351145)), (22, np.float64(0.0)), (23, np.float64(0.0)), (32, np.float64(0.0)), (34, np.float64(0.0)), (37, np.float64(0.0)), (73, np.float64(0.0)), (87, np.float64(0.0)), (117, np.float64(0.0)), (154, np.float64(0.0)), (175, np.float64(0.0)), (211, np.float64(0.0)), (220, np.float64(0.0)), (251, np.float64(0.0)), (256, np.float64(0.0)), (269, np.float64(0.0)), (294, np.float64(0.0)), (321, np.float64(0.0)), (336, np.float64(0.0)), (338, np.float64(0.0)), (352, np.float64(0.0)), (358, np.float64(0.0)), (373, np.float64(0.0)), (385, np.float64(0.0)), (390, np.float64(0.0)), (399, np.float64(0.0)), (401, np.float64(0.0)), (414, np.float64(0.0)), (418, np.float64(0.0)), (427, np.float64(0.0)), (464, np.float64(0.0)), (473, np.float64(0.0)), (514, np.float64(0.0)), (515, np.float64(0.0)), (516, np.float64(0.0)), (520, np.float64(0.0)), (546, np.float64(0.0)), (549, np.float64(0.0)), (550, np.float64(0.0)), (554, np.float64(0.0)), (558, np.float64(0.0)), (578, np.float64(0.0)), (616, np.float64(0.0)), (626, np.float64(0.0)), (631, np.float64(0.0)), (638, np.float64(0.0)), (699, np.float64(0.0)), (725, np.float64(0.0)), (748, np.float64(0.0)), (770, np.float64(0.0)), (775, np.float64(0.0)), (783, np.float64(0.0)), (791, np.float64(0.0)), (793, np.float64(0.0)), (798, np.float64(0.0)), (810, np.float64(0.0)), (816, np.float64(0.0)), (817, np.float64(0.0)), (837, np.float64(0.0)), (843, np.float64(0.0)), (874, np.float64(0.0)), (885, np.float64(0.0)), (886, np.float64(0.0)), (899, np.float64(0.0)), (908, np.float64(0.0)), (934, np.float64(0.0)), (936, np.float64(0.0)), (998, np.float64(0.0)), (1012, np.float64(0.0)), (1030, np.float64(0.0)), (1032, np.float64(0.0)), (1033, np.float64(0.0)), (1043, np.float64(0.0)), (1055, np.float64(0.0)), (1072, np.float64(0.0)), (1089, np.float64(0.0)), (1122, np.float64(0.0)), (1127, np.float64(0.0)), (1131, np.float64(0.0)), (1148, np.float64(0.0)), (1160, np.float64(0.0)), (1165, np.float64(0.0)), (1166, np.float64(0.0)), (1174, np.float64(0.0)), (1181, np.float64(0.0)), (1186, np.float64(0.0)), (1198, np.float64(0.0)), (1199, np.float64(0.0)), (1208, np.float64(0.0)), (1223, np.float64(0.0)), (1225, np.float64(0.0)), (1229, np.float64(0.0)), (1261, np.float64(0.0)), (1262, np.float64(0.0)), (1293, np.float64(0.0)), (1302, np.float64(0.0)), (1307, np.float64(0.0)), (1314, np.float64(0.0)), (1319, np.float64(0.0)), (1327, np.float64(0.0)), (1332, np.float64(0.0)), (1357, np.float64(0.0)), (1369, np.float64(0.0)), (1390, np.float64(0.0)), (1394, np.float64(0.0)), (1395, np.float64(0.0)), (1404, np.float64(0.0)), (1405, np.float64(0.0)), (1409, np.float64(0.0)), (1432, np.float64(0.0)), (1438, np.float64(0.0)), (1443, np.float64(0.0)), (1495, np.float64(0.0)), (1500, np.float64(0.0)), (1536, np.float64(0.0)), (1542, np.float64(0.0)), (1554, np.float64(0.0)), (1562, np.float64(0.0)), (1580, np.float64(0.0)), (1595, np.float64(0.0)), (1604, np.float64(0.0)), (1606, np.float64(0.0)), (1607, np.float64(0.0)), (1622, np.float64(0.0)), (1623, np.float64(0.0)), (1632, np.float64(0.0)), (1658, np.float64(0.0)), (1660, np.float64(0.0)), (1678, np.float64(0.0)), (1684, np.float64(0.0)), (1692, np.float64(0.0)), (1697, np.float64(0.0)), (1705, np.float64(0.0)), (1710, np.float64(0.0)), (1713, np.float64(0.0)), (1714, np.float64(0.0)), (1716, np.float64(0.0)), (1719, np.float64(0.0)), (1720, np.float64(0.0)), (1732, np.float64(0.0)), (1736, np.float64(0.0)), (1739, np.float64(0.0)), (1757, np.float64(0.0)), (1780, np.float64(0.0)), (1790, np.float64(0.0)), (1791, np.float64(0.0)), (1806, np.float64(0.0)), (1808, np.float64(0.0)), (1824, np.float64(0.0)), (1825, np.float64(0.0)), (1835, np.float64(0.0)), (1837, np.float64(0.0)), (1864, np.float64(0.0)), (1868, np.float64(0.0)), (1878, np.float64(0.0)), (1900, np.float64(0.0)), (1904, np.float64(0.0)), (1913, np.float64(0.0)), (1916, np.float64(0.0)), (1921, np.float64(0.0)), (1944, np.float64(0.0)), (1952, np.float64(0.0)), (1953, np.float64(0.0)), (1965, np.float64(0.0)), (1968, np.float64(0.0)), (1970, np.float64(0.0)), (1972, np.float64(0.0)), (1977, np.float64(0.0)), (1985, np.float64(0.0)), (1990, np.float64(0.0)), (1998, np.float64(0.0)), (2016, np.float64(0.0)), (2041, np.float64(0.0)), (2044, np.float64(0.0)), (2069, np.float64(0.0)), (2072, np.float64(0.0)), (2078, np.float64(0.0)), (2085, np.float64(0.0)), (2090, np.float64(0.0)), (2092, np.float64(0.0)), (2096, np.float64(0.0)), (2100, np.float64(0.0)), (2114, np.float64(0.0)), (2116, np.float64(0.0)), (2127, np.float64(0.0)), (2129, np.float64(0.0)), (2134, np.float64(0.0)), (2145, np.float64(0.0)), (2151, np.float64(0.0)), (2155, np.float64(0.0)), (2161, np.float64(0.0)), (2167, np.float64(0.0)), (2184, np.float64(0.0)), (2208, np.float64(0.0)), (2228, np.float64(0.0)), (2230, np.float64(0.0)), (2233, np.float64(0.0)), (2251, np.float64(0.0)), (2254, np.float64(0.0)), (2281, np.float64(0.0)), (2288, np.float64(0.0)), (2292, np.float64(0.0)), (2296, np.float64(0.0)), (2314, np.float64(0.0)), (2318, np.float64(0.0)), (2327, np.float64(0.0)), (2353, np.float64(0.0)), (2384, np.float64(0.0)), (2389, np.float64(0.0)), (2394, np.float64(0.0)), (2398, np.float64(0.0)), (2407, np.float64(0.0)), (2410, np.float64(0.0)), (2412, np.float64(0.0)), (2419, np.float64(0.0)), (2427, np.float64(0.0)), (2432, np.float64(0.0)), (2439, np.float64(0.0)), (2445, np.float64(0.0)), (2453, np.float64(0.0)), (2459, np.float64(0.0)), (2464, np.float64(0.0)), (2479, np.float64(0.0)), (2491, np.float64(0.0)), (2511, np.float64(0.0)), (2540, np.float64(0.0)), (2542, np.float64(0.0)), (2543, np.float64(0.0)), (2558, np.float64(0.0)), (2568, np.float64(0.0)), (2569, np.float64(0.0)), (2572, np.float64(0.0)), (2577, np.float64(0.0)), (2578, np.float64(0.0)), (2592, np.float64(0.0)), (2593, np.float64(0.0)), (2603, np.float64(0.0)), (2606, np.float64(0.0)), (2614, np.float64(0.0)), (2624, np.float64(0.0)), (2628, np.float64(0.0)), (2656, np.float64(0.0)), (2673, np.float64(0.0)), (2674, np.float64(0.0)), (2677, np.float64(0.0)), (2680, np.float64(0.0)), (2687, np.float64(0.0)), (2689, np.float64(0.0)), (2690, np.float64(0.0)), (2697, np.float64(0.0)), (2706, np.float64(0.0)), (2721, np.float64(0.0)), (2736, np.float64(0.0)), (2738, np.float64(0.0)), (2742, np.float64(0.0)), (2747, np.float64(0.0)), (2755, np.float64(0.0)), (2756, np.float64(0.0)), (2760, np.float64(0.0)), (2796, np.float64(0.0)), (2810, np.float64(0.0)), (2811, np.float64(0.0)), (2814, np.float64(0.0)), (2824, np.float64(0.0)), (2831, np.float64(0.0)), (2832, np.float64(0.0)), (2835, np.float64(0.0)), (2847, np.float64(0.0)), (2849, np.float64(0.0)), (2862, np.float64(0.0)), (2866, np.float64(0.0)), (2873, np.float64(0.0)), (2874, np.float64(0.0)), (2904, np.float64(0.0)), (2913, np.float64(0.0)), (2924, np.float64(0.0)), (2925, np.float64(0.0)), (2930, np.float64(0.0)), (2931, np.float64(0.0)), (2942, np.float64(0.0)), (2947, np.float64(0.0)), (2968, np.float64(0.0)), (2981, np.float64(0.0)), (2990, np.float64(0.0)), (2993, np.float64(0.0)), (3000, np.float64(0.0)), (3004, np.float64(0.0)), (3017, np.float64(0.0)), (3019, np.float64(0.0)), (3020, np.float64(0.0)), (3026, np.float64(0.0)), (3033, np.float64(0.0)), (3034, np.float64(0.0)), (3044, np.float64(0.0)), (3048, np.float64(0.0)), (3051, np.float64(0.0)), (3067, np.float64(0.0)), (3083, np.float64(0.0)), (3084, np.float64(0.0)), (3096, np.float64(0.0)), (3099, np.float64(0.0)), (3110, np.float64(0.0)), (3123, np.float64(0.0)), (3124, np.float64(0.0)), (3137, np.float64(0.0)), (3152, np.float64(0.0)), (3165, np.float64(0.0)), (3171, np.float64(0.0)), (3176, np.float64(0.0)), (3200, np.float64(0.0)), (3205, np.float64(0.0)), (3212, np.float64(0.0)), (3215, np.float64(0.0)), (3216, np.float64(0.0)), (3220, np.float64(0.0)), (3230, np.float64(0.0)), (3232, np.float64(0.0)), (3235, np.float64(0.0)), (3237, np.float64(0.0)), (3242, np.float64(0.0)), (3249, np.float64(0.0)), (3268, np.float64(0.0)), (3302, np.float64(0.0)), (3314, np.float64(0.0)), (3326, np.float64(0.0)), (3333, np.float64(0.0)), (3335, np.float64(0.0)), (3344, np.float64(0.0)), (3348, np.float64(0.0)), (3355, np.float64(0.0)), (3357, np.float64(0.0)), (3362, np.float64(0.0)), (3373, np.float64(0.0)), (3385, np.float64(0.0)), (3391, np.float64(0.0)), (3430, np.float64(0.0)), (3444, np.float64(0.0)), (3445, np.float64(0.0)), (3448, np.float64(0.0)), (3453, np.float64(0.0)), (3460, np.float64(0.0)), (3461, np.float64(0.0)), (3480, np.float64(0.0)), (3504, np.float64(0.0)), (3505, np.float64(0.0)), (3517, np.float64(0.0)), (3521, np.float64(0.0)), (3527, np.float64(0.0)), (3533, np.float64(0.0)), (3536, np.float64(0.0)), (3548, np.float64(0.0)), (3565, np.float64(0.0)), (3568, np.float64(0.0)), (3580, np.float64(0.0)), (3603, np.float64(0.0)), (3606, np.float64(0.0)), (3611, np.float64(0.0)), (3627, np.float64(0.0)), (3628, np.float64(0.0)), (3632, np.float64(0.0)), (3648, np.float64(0.0)), (3655, np.float64(0.0)), (3674, np.float64(0.0)), (3680, np.float64(0.0)), (3683, np.float64(0.0)), (3686, np.float64(0.0)), (3690, np.float64(0.0)), (3701, np.float64(0.0)), (3709, np.float64(0.0)), (3724, np.float64(0.0)), (3725, np.float64(0.0)), (3734, np.float64(0.0)), (3740, np.float64(0.0)), (3750, np.float64(0.0)), (3758, np.float64(0.0)), (3772, np.float64(0.0)), (3774, np.float64(0.0)), (3781, np.float64(0.0)), (3790, np.float64(0.0)), (3810, np.float64(0.0)), (3811, np.float64(0.0)), (3819, np.float64(0.0)), (3824, np.float64(0.0)), (3831, np.float64(0.0)), (3849, np.float64(0.0)), (3865, np.float64(0.0)), (3887, np.float64(0.0)), (3908, np.float64(0.0)), (3912, np.float64(0.0)), (3914, np.float64(0.0)), (3921, np.float64(0.0)), (3929, np.float64(0.0)), (3937, np.float64(0.0)), (3952, np.float64(0.0)), (3953, np.float64(0.0)), (3955, np.float64(0.0)), (3962, np.float64(0.0)), (3963, np.float64(0.0)), (3967, np.float64(0.0)), (3972, np.float64(0.0)), (3973, np.float64(0.0)), (3974, np.float64(0.0)), (3988, np.float64(0.0)), (3996, np.float64(0.0)), (4007, np.float64(0.0)), (4009, np.float64(0.0)), (4012, np.float64(0.0)), (4018, np.float64(0.0)), (4024, np.float64(0.0)), (4029, np.float64(0.0)), (4033, np.float64(0.0)), (4034, np.float64(0.0)), (4039, np.float64(0.0)), (4040, np.float64(0.0)), (4043, np.float64(0.0)), (4047, np.float64(0.0)), (4050, np.float64(0.0)), (4056, np.float64(0.0)), (4060, np.float64(0.0)), (4070, np.float64(0.0)), (4072, np.float64(0.0)), (4077, np.float64(0.0)), (4078, np.float64(0.0)), (4079, np.float64(0.0)), (4106, np.float64(0.0)), (4112, np.float64(0.0)), (4114, np.float64(0.0)), (4117, np.float64(0.0)), (4120, np.float64(0.0)), (4124, np.float64(0.0)), (4138, np.float64(0.0)), (4141, np.float64(0.0)), (4151, np.float64(0.0)), (4157, np.float64(0.0)), (4161, np.float64(0.0)), (4182, np.float64(0.0)), (4183, np.float64(0.0)), (4189, np.float64(0.0)), (4205, np.float64(0.0)), (4216, np.float64(0.0)), (4217, np.float64(0.0)), (4230, np.float64(0.0)), (4232, np.float64(0.0)), (4244, np.float64(0.0)), (4251, np.float64(0.0)), (4253, np.float64(0.0)), (4262, np.float64(0.0)), (4264, np.float64(0.0)), (4278, np.float64(0.0)), (4280, np.float64(0.0)), (4282, np.float64(0.0)), (4290, np.float64(0.0)), (4293, np.float64(0.0)), (4302, np.float64(0.0)), (4306, np.float64(0.0)), (4309, np.float64(0.0)), (4310, np.float64(0.0)), (4315, np.float64(0.0)), (4318, np.float64(0.0)), (4321, np.float64(0.0)), (4322, np.float64(0.0)), (4323, np.float64(0.0)), (4332, np.float64(0.0)), (4339, np.float64(0.0)), (4347, np.float64(0.0)), (4351, np.float64(0.0)), (4354, np.float64(0.0)), (4360, np.float64(0.0)), (4365, np.float64(0.0)), (4367, np.float64(0.0)), (4370, np.float64(0.0)), (4378, np.float64(0.0)), (4386, np.float64(0.0)), (4391, np.float64(0.0)), (4393, np.float64(0.0)), (4394, np.float64(0.0)), (4400, np.float64(0.0)), (4404, np.float64(0.0)), (4409, np.float64(0.0)), (4418, np.float64(0.0)), (4419, np.float64(0.0)), (4424, np.float64(0.0)), (4436, np.float64(0.0)), (4461, np.float64(0.0)), (4467, np.float64(0.0)), (4469, np.float64(0.0)), (4476, np.float64(0.0)), (4480, np.float64(0.0)), (4482, np.float64(0.0)), (4483, np.float64(0.0)), (4492, np.float64(0.0)), (4494, np.float64(0.0)), (4495, np.float64(0.0)), (4499, np.float64(0.0)), (4500, np.float64(0.0)), (4507, np.float64(0.0)), (4516, np.float64(0.0)), (4524, np.float64(0.0)), (4533, np.float64(0.0)), (4548, np.float64(0.0)), (4550, np.float64(0.0)), (4553, np.float64(0.0)), (4555, np.float64(0.0)), (4561, np.float64(0.0)), (4563, np.float64(0.0)), (4571, np.float64(0.0)), (4580, np.float64(0.0)), (4581, np.float64(0.0)), (4587, np.float64(0.0)), (4588, np.float64(0.0)), (4590, np.float64(0.0)), (4596, np.float64(0.0)), (4598, np.float64(0.0)), (4599, np.float64(0.0)), (4600, np.float64(0.0)), (4601, np.float64(0.0)), (4611, np.float64(0.0)), (4612, np.float64(0.0)), (4619, np.float64(0.0)), (4625, np.float64(0.0)), (4628, np.float64(0.0)), (4631, np.float64(0.0)), (4632, np.float64(0.0)), (4642, np.float64(0.0)), (4653, np.float64(0.0)), (4655, np.float64(0.0)), (4661, np.float64(0.0)), (4666, np.float64(0.0)), (4668, np.float64(0.0)), (4671, np.float64(0.0)), (4685, np.float64(0.0)), (4700, np.float64(0.0)), (4709, np.float64(0.0)), (4712, np.float64(0.0)), (4713, np.float64(0.0)), (4715, np.float64(0.0)), (4716, np.float64(0.0)), (4726, np.float64(0.0)), (4739, np.float64(0.0)), (4742, np.float64(0.0)), (4744, np.float64(0.0)), (4746, np.float64(0.0)), (4769, np.float64(0.0)), (4770, np.float64(0.0)), (4774, np.float64(0.0)), (4797, np.float64(0.0)), (4802, np.float64(0.0))]\n",
      "The Dark Knight\n",
      "65\n",
      "Batman\n",
      "1361\n",
      "Batman\n",
      "1360\n",
      "The Dark Knight Rises\n",
      "3\n",
      "Rockaway\n",
      "4146\n"
     ]
    }
   ],
   "source": [
    "recommend('Batman Begins')"
   ]
  },
  {
   "cell_type": "code",
   "execution_count": null,
   "id": "441e2d29",
   "metadata": {},
   "outputs": [],
   "source": []
  }
 ],
 "metadata": {
  "kernelspec": {
   "display_name": "venv",
   "language": "python",
   "name": "python3"
  },
  "language_info": {
   "codemirror_mode": {
    "name": "ipython",
    "version": 3
   },
   "file_extension": ".py",
   "mimetype": "text/x-python",
   "name": "python",
   "nbconvert_exporter": "python",
   "pygments_lexer": "ipython3",
   "version": "3.13.1"
  }
 },
 "nbformat": 4,
 "nbformat_minor": 5
}
